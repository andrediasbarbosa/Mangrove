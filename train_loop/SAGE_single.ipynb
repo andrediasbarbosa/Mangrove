{
 "cells": [
  {
   "cell_type": "code",
   "execution_count": 1,
   "id": "b34bc22e",
   "metadata": {},
   "outputs": [],
   "source": [
    "import torch, pickle, time, os, random\n",
    "import numpy as np\n",
    "import os.path as osp\n",
    "import matplotlib.pyplot as plt\n",
    "import torch_geometric as tg\n",
    "from torch_geometric.loader import DataLoader\n",
    "# accelerate huggingface to GPU\n",
    "if torch.cuda.is_available():\n",
    "    from accelerate import Accelerator\n",
    "    accelerator = Accelerator()\n",
    "    device = accelerator.device\n",
    "\n",
    "torch.manual_seed(42)\n",
    "random.seed(42)"
   ]
  },
  {
   "cell_type": "code",
   "execution_count": 2,
   "id": "dc5ddb58",
   "metadata": {
    "scrolled": true
   },
   "outputs": [
    {
     "data": {
      "text/plain": [
       "['vlarge_all_multit_z0.0_standard_stand',\n",
       " 'medium_beforeafter',\n",
       " 'medium_redshift_50_all',\n",
       " 'vlarge_all_multit_z0.5_power_quant',\n",
       " 'vlarge_all_multit_z0.0_None',\n",
       " 'vlarge_all_multit_z2.0_standard_quant',\n",
       " 'medium_smass_z1.0_standard',\n",
       " 'test_onlyhmass_smass',\n",
       " 'medium_redshift_80_all',\n",
       " 'vlarge_all_final',\n",
       " 'vlarge_all_multit_z1.0_standard_stand',\n",
       " 'vlarge_all_multit_z1.0_power_quant',\n",
       " 'medium_all_q_diffbeforeafter',\n",
       " 'vlarge_redshift_85_all',\n",
       " 'vlarge_all_multi_z0.5_quantile',\n",
       " 'medium_all_smass',\n",
       " 'medium_onlyhmass_smass',\n",
       " 'vlarge_all_multi_z1.0_power',\n",
       " 'vlarge_all_multit_z0.0_quantile_quant',\n",
       " 'vlarge_all_multit_z0.0_standard_quant',\n",
       " 'vlarge_all_multit_z0.5_quantile_quant',\n",
       " 'medium_scaleonly_smass',\n",
       " 'vlarge_all_multi_z0.5_None',\n",
       " 'vlarge_all_multit_z2.0_None',\n",
       " 'vlarge_all_multit_z1.0_standard_quant',\n",
       " 'vlarge_all_multit_z0.0_power_quant',\n",
       " 'vlarge_all_multi_z0.5_standard',\n",
       " 'vlarge_redshift_50_all',\n",
       " 'vlarge_all_multit_z0.5_standard_quant',\n",
       " 'vlarge_all_multit_z1.0_power_stand',\n",
       " 'test_beforeafter',\n",
       " 'vlarge_all_multi_z2.0_power',\n",
       " 'vlarge_all_multit_z2.0_quantile_stand',\n",
       " 'vlarge_all_multit_z0.5_standard_stand',\n",
       " 'vlarge_all_multit_z1.0_quantile_stand',\n",
       " 'vlarge_all_multi_z0.0_standard',\n",
       " 'vlarge_all_smass_standard',\n",
       " 'vlarge_all_multi_z0.0_power',\n",
       " 'vlarge_all_multit_z2.0_quantile_pow',\n",
       " 'vlarge_all_multit_z0.5_quantile_pow',\n",
       " 'vlarge_all_multi_z1.0_None',\n",
       " 'test_all_smass',\n",
       " 'vlarge_all_multi_z2.0_None',\n",
       " 'vlarge_all_smass_power',\n",
       " 'vlarge_all_multi_z1.0_quantile',\n",
       " 'medium_redshift_15_all',\n",
       " 'vlarge_all_multi_z2.0_quantile',\n",
       " 'transformers',\n",
       " 'vlarge_all_multit_z0.5_power_stand',\n",
       " 'medium_noinfonoedge_smass',\n",
       " 'medium_onlyedge_smass',\n",
       " 'medium_all_variance',\n",
       " 'medium_redshift_1_all',\n",
       " 'medium_all_q',\n",
       " 'medium_redshift_10_all',\n",
       " 'medium_smass_z0.0_quantile',\n",
       " 'medium_all_final',\n",
       " 'vlarge_redshift_95_all',\n",
       " 'test_variance',\n",
       " 'small_all_q_variancehalomass',\n",
       " 'medium_all_residual',\n",
       " 'medium_all',\n",
       " 'test_auto_multi_z0.0_None',\n",
       " 'test',\n",
       " 'vlarge_all_multi_z0.5_power',\n",
       " 'vlarge_all_robust_smass',\n",
       " 'vlarge_all_multit_z2.0_standard_stand',\n",
       " 'vlarge_all_multi_z0.0_quantile',\n",
       " 'vlarge_all_multi_z0.0_None',\n",
       " 'vlarge_all_multit_z0.5_quantile_stand',\n",
       " 'vlarge_all_multit_z1.0_None',\n",
       " 'vlarge_all_multi_z1.0_standard',\n",
       " 'vlarge_redshift_99_all',\n",
       " 'vlarge_redshift_99.99_all',\n",
       " 'vlarge_redshift_75_all',\n",
       " 'vlarge_all_multit_z1.0_quantile_quant',\n",
       " 'med_all_residual',\n",
       " 'vlarge_all_smass_z0.0_quantile_quant',\n",
       " 'medium_redshift_25_all',\n",
       " 'big_all_final',\n",
       " 'vlarge_all_multit_z1.0_quantile_pow',\n",
       " 'medium_redshift_0.1_all',\n",
       " 'vlarge_all_multit_z2.0_power_stand',\n",
       " 'vlarge_all_smass',\n",
       " 'vlarge_all_multit_z0.0_quantile_pow',\n",
       " 'vlarge_all_multit_z2.0_quantile_quant',\n",
       " 'one_all_q',\n",
       " 'test_redshift_scan',\n",
       " 'vlarge_all_multit_z2.0_power_quant',\n",
       " 'medium_all_finalhalo',\n",
       " '105lim_all_smass',\n",
       " 'medium_redshift_5_all',\n",
       " 'small_all_q',\n",
       " 'vlarge_all_multit_z0.0_power_stand',\n",
       " 'vlarge_redshift_0_all',\n",
       " 'vlarge_all_multi_z2.0_standard',\n",
       " 'testpy',\n",
       " 'vlarge_all_multit_z0.5_None',\n",
       " 'medium_noinfo_smass',\n",
       " 'vlarge_all_multit_z0.0_quantile_stand',\n",
       " 'medium_hmassonly_smass']"
      ]
     },
     "execution_count": 2,
     "metadata": {},
     "output_type": "execute_result"
    }
   ],
   "source": [
    "os.listdir(osp.expanduser('~/../../../scratch/gpfs/cj1223/GraphStorage/'))"
   ]
  },
  {
   "cell_type": "code",
   "execution_count": 4,
   "id": "f45d75b4",
   "metadata": {},
   "outputs": [],
   "source": [
    "case='vlarge_all_smass_z0.0_quantile_quant'\n",
    "\n",
    "datat=pickle.load(open(osp.expanduser(f'~/../../../scratch/gpfs/cj1223/GraphStorage/{case}/data.pkl'), 'rb'))"
   ]
  },
  {
   "cell_type": "code",
   "execution_count": 5,
   "id": "595f1d39",
   "metadata": {},
   "outputs": [],
   "source": [
    "data=datat"
   ]
  },
  {
   "cell_type": "code",
   "execution_count": 8,
   "id": "926b62a3",
   "metadata": {},
   "outputs": [
    {
     "data": {
      "text/plain": [
       "43"
      ]
     },
     "execution_count": 8,
     "metadata": {},
     "output_type": "execute_result"
    }
   ],
   "source": [
    "try:\n",
    "    n_targ=len(data[0].y)\n",
    "except:\n",
    "    n_targ=1\n",
    "n_feat=len(data[0].x[0])\n",
    "n_feat"
   ]
  },
  {
   "cell_type": "code",
   "execution_count": 32,
   "id": "78e0a576",
   "metadata": {},
   "outputs": [
    {
     "data": {
      "text/plain": [
       "False"
      ]
     },
     "execution_count": 32,
     "metadata": {},
     "output_type": "execute_result"
    }
   ],
   "source": [
    "import torch.nn.functional as F\n",
    "from torch.nn import Linear, BatchNorm1d, LayerNorm\n",
    "from torch_geometric.nn import SAGEConv, global_mean_pool, norm, global_max_pool, global_add_pool\n",
    "\n",
    "\n",
    "class GCN(torch.nn.Module):\n",
    "    def __init__(self, hidden_channels, nlin=3):\n",
    "        super(GCN, self).__init__()\n",
    "        \n",
    "        self.conv1 = SAGEConv(n_feat, hidden_channels) ##use meta-layer\n",
    "        ## https://pytorch-geometric.readthedocs.io/en/latest/modules/nn.html#torch_geometric.nn.meta.MetaLayer\n",
    "        self.conv2 = SAGEConv(hidden_channels, hidden_channels)\n",
    "        self.conv3 = SAGEConv(hidden_channels, hidden_channels)\n",
    "        self.conv4 = SAGEConv(hidden_channels, hidden_channels)\n",
    "        self.conv5 = SAGEConv(hidden_channels, hidden_channels)\n",
    "        \n",
    "        \n",
    "        # Our final linear layer will define our output\n",
    "        self.lin = Linear(hidden_channels, hidden_channels)\n",
    "        self.norm = LayerNorm(normalized_shape=hidden_channels) # layer_norm instead\n",
    "        self.lin_f = Linear(hidden_channels, n_targ)\n",
    "        \n",
    "    def forward(self, x, edge_index, batch):\n",
    "        # 1. Obtain node embeddings \n",
    "        x = self.conv1(x, edge_index)\n",
    "        x = x.relu()\n",
    "        x = self.conv2(x, edge_index)\n",
    "        x = x.relu()\n",
    "        x = self.conv3(x, edge_index)\n",
    "        x = x.relu()\n",
    "        x = self.conv4(x, edge_index)\n",
    "        x = x.relu()\n",
    "        x = self.conv5(x, edge_index)\n",
    "        x = x.relu()\n",
    "        x = global_add_pool(x, batch)  ## Miles says use sumpool\n",
    "\n",
    "        x = self.lin(x)\n",
    "        x = self.lin_f(self.norm(x))\n",
    "#         x=self.lin1(x)\n",
    "        return x\n",
    "    \n",
    "model = GCN(hidden_channels=64)\n",
    "next(model.parameters()).is_cuda ##check number one"
   ]
  },
  {
   "cell_type": "code",
   "execution_count": 33,
   "id": "d86c2310",
   "metadata": {},
   "outputs": [],
   "source": [
    "criterion = torch.nn.MSELoss()\n",
    "n_epochs=100\n",
    "n_trials=1\n",
    "batch_size=128\n",
    "split=0.8\n",
    "test_data=data[int(len(data)*split):]\n",
    "train_data=data[:int(len(data)*split)]\n",
    "l1_lambda = 0\n",
    "l2_lambda = 0"
   ]
  },
  {
   "cell_type": "code",
   "execution_count": 34,
   "id": "13dde5ff",
   "metadata": {},
   "outputs": [
    {
     "name": "stdout",
     "output_type": "stream",
     "text": [
      "GPU  True\n"
     ]
    }
   ],
   "source": [
    "trains, tests, scatter = [], [], []\n",
    "yss, preds=[],[]\n",
    "model = GCN(hidden_channels=64)\n",
    "train_loader=DataLoader(train_data, batch_size=batch_size, shuffle=1, num_workers=4)\n",
    "test_loader=DataLoader(test_data, batch_size=batch_size, shuffle=0,num_workers=4)    \n",
    "optimizer = torch.optim.Adam(model.parameters(), lr=0.003)\n",
    "_, _, test_loader = accelerator.prepare(model, optimizer, test_loader)\n",
    "model, optimizer, train_loader = accelerator.prepare(model, optimizer, train_loader)\n",
    "print('GPU ', next(model.parameters()).is_cuda)\n",
    "# Initialize our train function\n",
    "def train():\n",
    "    model.train()\n",
    "    \n",
    "    for data in train_loader:  \n",
    "        out = model(data.x, data.edge_index, data.batch)  \n",
    "        loss = criterion(out, data.y.view(-1,n_targ)) \n",
    "        l1_norm = sum(p.abs().sum() for p in model.parameters())\n",
    "        l2_norm = sum(p.pow(2.0).sum() for p in model.parameters())\n",
    "\n",
    "\n",
    "        loss = loss + l1_lambda * l1_norm + l2_lambda * l2_norm\n",
    "#             loss.backward()\n",
    "        accelerator.backward(loss)\n",
    "        optimizer.step() \n",
    "        optimizer.zero_grad() \n",
    "#     print(loss, l1_norm*l1_lambda, l2_norm*l2_lambda)\n",
    " # test function\n",
    "\n",
    "def test(loader): ##### transform back missing\n",
    "    model.eval()\n",
    "    outs = []\n",
    "    ys = []\n",
    "    with torch.no_grad(): ##this solves it!!!\n",
    "        for dat in loader: \n",
    "            out = model(dat.x, dat.edge_index, dat.batch) \n",
    "            ys.append(dat.y.view(-1,n_targ))\n",
    "            outs.append(out)\n",
    "    outss=torch.vstack(outs)\n",
    "    yss=torch.vstack(ys)\n",
    "    return torch.std(outss - yss, axis=0), outss, yss"
   ]
  },
  {
   "cell_type": "code",
   "execution_count": 35,
   "id": "1a3a0e55",
   "metadata": {},
   "outputs": [
    {
     "name": "stdout",
     "output_type": "stream",
     "text": [
      "Epoch: 002, Train scatter: [0.2027] \n",
      "         Test scatter: [0.2156]\n",
      "Epoch: 004, Train scatter: [0.1637] \n",
      "         Test scatter: [0.1695]\n",
      "260.10 seconds spent training, 2.601 seconds per epoch. Processed 33466 trees per second\n"
     ]
    }
   ],
   "source": [
    "#this uses about 1 GB of memory on the GPU\n",
    "tr_acc, te_acc = [], []\n",
    "start=time.time()\n",
    "for epoch in range(n_epochs//20):\n",
    "\n",
    "    train()\n",
    "\n",
    "    if (epoch+1)%2==0:\n",
    "        train_acc, _ , _ = test(train_loader)\n",
    "        test_acc, _ , _ = test(test_loader)\n",
    "        tr_acc.append(train_acc)\n",
    "        te_acc.append(test_acc)\n",
    "        print(f'Epoch: {epoch+1:03d}, Train scatter: {np.round(train_acc.cpu().numpy(), 4)} \\n \\\n",
    "        Test scatter: {np.round(test_acc.cpu().numpy(), 4)}')\n",
    "stop=time.time()\n",
    "spent=stop-start\n",
    "print(f\"{spent:.2f} seconds spent training, {spent/n_epochs:.3f} seconds per epoch. Processed {len(data)*split*n_epochs/spent:.0f} trees per second\")\n"
   ]
  },
  {
   "cell_type": "code",
   "execution_count": 36,
   "id": "172d72a5",
   "metadata": {},
   "outputs": [
    {
     "name": "stdout",
     "output_type": "stream",
     "text": [
      "[0.1637]\n"
     ]
    }
   ],
   "source": [
    "print(f'{np.round(train_acc.cpu().numpy(), 4)}')"
   ]
  },
  {
   "cell_type": "code",
   "execution_count": 43,
   "id": "d49038ad",
   "metadata": {},
   "outputs": [
    {
     "name": "stderr",
     "output_type": "stream",
     "text": [
      "/home/cj1223/.conda/envs/juptorch/lib/python3.9/site-packages/torch/utils/data/dataloader.py:478: UserWarning: This DataLoader will create 4 worker processes in total. Our suggested max number of worker in current system is 1, which is smaller than what this DataLoader is going to create. Please be aware that excessive worker creation might get DataLoader running slow or even freeze, lower the worker number to avoid potential slowness/freeze if necessary.\n",
      "  warnings.warn(_create_warning_msg(\n"
     ]
    }
   ],
   "source": [
    "teststd, outtest, ytest = test(test_loader)\n",
    "pred=outtest.cpu().numpy()\n",
    "ys=ytest.cpu().numpy()"
   ]
  },
  {
   "cell_type": "code",
   "execution_count": 48,
   "id": "4dad5db3",
   "metadata": {},
   "outputs": [
    {
     "data": {
      "image/png": "[encoded data removed]",
      "text/plain": [
       "<Figure size 720x432 with 1 Axes>"
      ]
     },
     "metadata": {
      "needs_background": "light"
     },
     "output_type": "display_data"
    }
   ],
   "source": [
    "fig , ax = plt.subplots(1, figsize=(10,6))\n",
    "l=0.5\n",
    "for k in range(n_targ):\n",
    "#     ax[k].hist(outtest.cpu().numpy()[:,k]-ytest.cpu().numpy()[:,k], bins=1000, histtype='step', label='res')\n",
    "    ax.hist(pred[:,k], bins=50, range=list(np.percentile(outtest.cpu().numpy()[:,k], [l,100-l])), histtype='step', label='pred')\n",
    "    ax.hist(ytest.cpu().numpy()[:,k], bins=50, range=list(np.percentile(outtest.cpu().numpy()[:,k], [l,100-l])),histtype='step', label='true')\n",
    "    ax.legend()\n",
    "#     print(np.std(ress.cpu().numpy()[:,k]), np.mean(ress.cpu().numpy()[:,k]))"
   ]
  },
  {
   "cell_type": "code",
   "execution_count": 49,
   "id": "f82f39ac",
   "metadata": {},
   "outputs": [],
   "source": [
    "transform='quantile'\n",
    "transform_path=osp.expanduser(f\"~/../../../scratch/gpfs/cj1223/GraphStorage/transformers/{transform}_alltarg_1.pkl\")\n",
    "target_scaler=pickle.load(open(transform_path, 'rb'))\n",
    "\n",
    "transform_path=osp.expanduser(f\"~/../../../scratch/gpfs/cj1223/GraphStorage/transformers/{transform}_allfeat_1.pkl\")\n",
    "feat_scaler=pickle.load(open(transform_path, 'rb'))"
   ]
  },
  {
   "cell_type": "code",
   "execution_count": 59,
   "id": "7102195a",
   "metadata": {},
   "outputs": [
    {
     "data": {
      "text/plain": [
       "<matplotlib.legend.Legend at 0x2b59688fbee0>"
      ]
     },
     "execution_count": 59,
     "metadata": {},
     "output_type": "execute_result"
    },
    {
     "data": {
      "image/png": "[encoded data removed]",
      "text/plain": [
       "<Figure size 720x720 with 1 Axes>"
      ]
     },
     "metadata": {
      "needs_background": "light"
     },
     "output_type": "display_data"
    }
   ],
   "source": [
    "fig , ax = plt.subplots(1,1, figsize=(10,10))\n",
    "yte=np.hstack(target_scaler[8].inverse_transform(ys.reshape(-1,1)))\n",
    "predte=np.hstack(target_scaler[8].inverse_transform(pred.reshape(-1,1)))\n",
    "ax.plot(yte, predte, 'ro', alpha=0.2)\n",
    "ax.plot([min(yte),max(yte)],[min(yte),max(yte)], 'k--', label='Perfect correspondance')\n",
    "ax.set(title=[f'Stellar mass after {epoch} epochs', np.round(np.std(yte-predte),2), np.round(np.mean(yte-predte),2)], xlabel='True [dex]', ylabel='Predicted [dex]')\n",
    "ax.legend()"
   ]
  },
  {
   "cell_type": "code",
   "execution_count": null,
   "id": "2084bb3d",
   "metadata": {},
   "outputs": [],
   "source": []
  }
 ],
 "metadata": {
  "kernelspec": {
   "display_name": "Python 3 (ipykernel)",
   "language": "python",
   "name": "python3"
  },
  "language_info": {
   "codemirror_mode": {
    "name": "ipython",
    "version": 3
   },
   "file_extension": ".py",
   "mimetype": "text/x-python",
   "name": "python",
   "nbconvert_exporter": "python",
   "pygments_lexer": "ipython3",
   "version": "3.9.7"
  }
 },
 "nbformat": 4,
 "nbformat_minor": 5
}
