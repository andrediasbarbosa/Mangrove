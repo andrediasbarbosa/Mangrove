{
 "cells": [
  {
   "cell_type": "code",
   "execution_count": 4,
   "id": "921b1026",
   "metadata": {},
   "outputs": [],
   "source": [
    "import pickle, os, torch\n",
    "import os.path as osp\n",
    "import numpy as np\n",
    "import matplotlib.pyplot as plt\n",
    "pointer=f'../../../../../scratch/gpfs/cj1223/GraphStorage/test_all_smass/results_061121'"
   ]
  },
  {
   "cell_type": "code",
   "execution_count": 7,
   "id": "db9f5cd4",
   "metadata": {},
   "outputs": [],
   "source": [
    "dic=pickle.load(open(osp.join(pointer,'result_dict.pkl'), 'rb'))"
   ]
  },
  {
   "cell_type": "code",
   "execution_count": 11,
   "id": "03c6e013",
   "metadata": {},
   "outputs": [
    {
     "data": {
      "text/plain": [
       "[array(0.17132747, dtype=float32),\n",
       " array(0.1849035, dtype=float32),\n",
       " array(0.1681756, dtype=float32)]"
      ]
     },
     "execution_count": 11,
     "metadata": {},
     "output_type": "execute_result"
    }
   ],
   "source": [
    "dic['low'\n",
    "]"
   ]
  },
  {
   "cell_type": "code",
   "execution_count": 12,
   "id": "c9c1fbe4",
   "metadata": {},
   "outputs": [
    {
     "data": {
      "text/plain": [
       "[0.15470886, 0.17137472, 0.16480953]"
      ]
     },
     "execution_count": 12,
     "metadata": {},
     "output_type": "execute_result"
    }
   ],
   "source": [
    "dic['sigma'\n",
    "]"
   ]
  }
 ],
 "metadata": {
  "kernelspec": {
   "display_name": "Python 3 (ipykernel)",
   "language": "python",
   "name": "python3"
  },
  "language_info": {
   "codemirror_mode": {
    "name": "ipython",
    "version": 3
   },
   "file_extension": ".py",
   "mimetype": "text/x-python",
   "name": "python",
   "nbconvert_exporter": "python",
   "pygments_lexer": "ipython3",
   "version": "3.9.7"
  }
 },
 "nbformat": 4,
 "nbformat_minor": 5
}
