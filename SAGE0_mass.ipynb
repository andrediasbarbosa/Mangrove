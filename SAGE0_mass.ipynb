{
 "cells": [
  {
   "cell_type": "code",
   "execution_count": 1,
   "id": "b34bc22e",
   "metadata": {},
   "outputs": [],
   "source": [
    "import torch, pickle, time, os, random\n",
    "import numpy as np\n",
    "import matplotlib.pyplot as plt\n",
    "import torch_geometric as tg\n",
    "from torch_geometric.loader import DataLoader\n",
    "# accelerate huggingface to GPU\n",
    "if torch.cuda.is_available():\n",
    "    from accelerate import Accelerator\n",
    "    accelerator = Accelerator()\n",
    "    device = accelerator.device\n",
    "\n",
    "torch.manual_seed(42)\n",
    "random.seed(42)"
   ]
  },
  {
   "cell_type": "code",
   "execution_count": 2,
   "id": "dc5ddb58",
   "metadata": {},
   "outputs": [
    {
     "data": {
      "text/plain": [
       "['vlarge_all_multit_z0.0_standard_stand',\n",
       " 'medium_beforeafter',\n",
       " 'medium_redshift_50_all',\n",
       " 'vlarge_all_multit_z0.5_power_quant',\n",
       " 'vlarge_all_multit_z0.0_None',\n",
       " 'vlarge_all_multit_z2.0_standard_quant',\n",
       " 'medium_smass_z1.0_standard',\n",
       " 'test_onlyhmass_smass',\n",
       " 'medium_redshift_80_all',\n",
       " 'vlarge_all_final',\n",
       " 'vlarge_all_multit_z1.0_standard_stand',\n",
       " 'vlarge_all_multit_z1.0_power_quant',\n",
       " 'medium_all_q_diffbeforeafter',\n",
       " 'vlarge_redshift_85_all',\n",
       " 'vlarge_all_multi_z0.5_quantile',\n",
       " 'medium_all_smass',\n",
       " 'medium_onlyhmass_smass',\n",
       " 'vlarge_all_multi_z1.0_power',\n",
       " 'vlarge_all_multit_z0.0_quantile_quant',\n",
       " 'vlarge_all_multit_z0.0_standard_quant',\n",
       " 'vlarge_all_multit_z0.5_quantile_quant',\n",
       " 'medium_scaleonly_smass',\n",
       " 'vlarge_all_multi_z0.5_None',\n",
       " 'vlarge_all_multit_z2.0_None',\n",
       " 'vlarge_all_multit_z1.0_standard_quant',\n",
       " 'vlarge_all_multit_z0.0_power_quant',\n",
       " 'vlarge_all_multi_z0.5_standard',\n",
       " 'vlarge_redshift_50_all',\n",
       " 'vlarge_all_multit_z0.5_standard_quant',\n",
       " 'vlarge_all_multit_z1.0_power_stand',\n",
       " 'test_beforeafter',\n",
       " 'vlarge_all_multi_z2.0_power',\n",
       " 'vlarge_all_multit_z2.0_quantile_stand',\n",
       " 'vlarge_all_multit_z0.5_standard_stand',\n",
       " 'vlarge_all_multit_z1.0_quantile_stand',\n",
       " 'vlarge_all_multi_z0.0_standard',\n",
       " 'vlarge_all_smass_standard',\n",
       " 'vlarge_all_multi_z0.0_power',\n",
       " 'vlarge_all_multit_z2.0_quantile_pow',\n",
       " 'vlarge_all_multit_z0.5_quantile_pow',\n",
       " 'vlarge_all_multi_z1.0_None',\n",
       " 'test_all_smass',\n",
       " 'vlarge_all_multi_z2.0_None',\n",
       " 'vlarge_all_smass_power',\n",
       " 'vlarge_all_multi_z1.0_quantile',\n",
       " 'medium_redshift_15_all',\n",
       " 'vlarge_all_multi_z2.0_quantile',\n",
       " 'transformers',\n",
       " 'vlarge_all_multit_z0.5_power_stand',\n",
       " 'medium_noinfonoedge_smass',\n",
       " 'medium_onlyedge_smass',\n",
       " 'medium_all_variance',\n",
       " 'medium_redshift_1_all',\n",
       " 'medium_all_q',\n",
       " 'medium_redshift_10_all',\n",
       " 'medium_smass_z0.0_quantile',\n",
       " 'medium_all_final',\n",
       " 'vlarge_redshift_95_all',\n",
       " 'test_variance',\n",
       " 'small_all_q_variancehalomass',\n",
       " 'medium_all_residual',\n",
       " 'medium_all',\n",
       " 'test_auto_multi_z0.0_None',\n",
       " 'test',\n",
       " 'vlarge_all_multi_z0.5_power',\n",
       " 'vlarge_all_robust_smass',\n",
       " 'vlarge_all_multit_z2.0_standard_stand',\n",
       " 'vlarge_all_multi_z0.0_quantile',\n",
       " 'vlarge_all_multi_z0.0_None',\n",
       " 'vlarge_all_multit_z0.5_quantile_stand',\n",
       " 'vlarge_all_multit_z1.0_None',\n",
       " 'vlarge_all_multi_z1.0_standard',\n",
       " 'vlarge_redshift_99_all',\n",
       " 'vlarge_redshift_99.99_all',\n",
       " 'vlarge_redshift_75_all',\n",
       " 'vlarge_all_multit_z1.0_quantile_quant',\n",
       " 'med_all_residual',\n",
       " 'vlarge_all_smass_z0.0_quantile_quant',\n",
       " 'medium_redshift_25_all',\n",
       " 'big_all_final',\n",
       " 'vlarge_all_multit_z1.0_quantile_pow',\n",
       " 'medium_redshift_0.1_all',\n",
       " 'vlarge_all_multit_z2.0_power_stand',\n",
       " 'vlarge_all_smass',\n",
       " 'vlarge_all_multit_z0.0_quantile_pow',\n",
       " 'vlarge_all_multit_z2.0_quantile_quant',\n",
       " 'one_all_q',\n",
       " 'test_redshift_scan',\n",
       " 'vlarge_all_multit_z2.0_power_quant',\n",
       " 'medium_all_finalhalo',\n",
       " '105lim_all_smass',\n",
       " 'medium_redshift_5_all',\n",
       " 'small_all_q',\n",
       " 'vlarge_all_multit_z0.0_power_stand',\n",
       " 'vlarge_redshift_0_all',\n",
       " 'vlarge_all_multi_z2.0_standard',\n",
       " 'testpy',\n",
       " 'vlarge_all_multit_z0.5_None',\n",
       " 'medium_noinfo_smass',\n",
       " 'vlarge_all_multit_z0.0_quantile_stand',\n",
       " 'medium_hmassonly_smass']"
      ]
     },
     "execution_count": 2,
     "metadata": {},
     "output_type": "execute_result"
    }
   ],
   "source": [
    "os.listdir('../../../../scratch/gpfs/cj1223/GraphStorage/')"
   ]
  },
  {
   "cell_type": "code",
   "execution_count": 3,
   "id": "3f70e3c6",
   "metadata": {},
   "outputs": [],
   "source": [
    "# case='medium_hmassonly_smass'\n",
    "# case='medium_scaleonly_smass'\n",
    "### this didn't work as well as I initially thought, must have done something wrong, but still better than base\n",
    "# case='medium_onlyedge_smass' \n",
    "# case='medium_noinfo_smass' \n",
    "# case='vlarge_all_smass'\n",
    "# case='vlarge_all_smass_standard'\n",
    "# case='vlarge_all_smass_power'\n",
    "# case='test_z1.5_standard'\n",
    "# case='medium_smass_z1.0_standard'\n",
    "# case='medium_smass_z0.0_quantile'\n",
    "case='test_multi_z0.0_quantile'\n",
    "case='vlarge_all_multit_z0.0_quantile_quant'\n",
    "case='vlarge_all_smass_z0.0_quantile_quant'\n",
    "\n",
    "data=pickle.load(open(f'../../../../scratch/gpfs/cj1223/GraphStorage/{case}/data.pkl', 'rb'))"
   ]
  },
  {
   "cell_type": "code",
   "execution_count": 4,
   "id": "2c36214f",
   "metadata": {},
   "outputs": [],
   "source": [
    "# case='medium_all_smass'\n",
    "# data1=pickle.load(open(f'../../../../scratch/gpfs/cj1223/GraphStorage/{case}/data.pkl', 'rb'))\n",
    "# k=0\n",
    "# data[k].x==data1[k].x"
   ]
  },
  {
   "cell_type": "code",
   "execution_count": 5,
   "id": "fe4d0e69",
   "metadata": {},
   "outputs": [],
   "source": [
    "ls=[]\n",
    "for d in data:\n",
    "    ls.append(len(d.x.numpy()))"
   ]
  },
  {
   "cell_type": "code",
   "execution_count": 6,
   "id": "014550b5",
   "metadata": {},
   "outputs": [
    {
     "data": {
      "image/png": "[encoded data removed]",
      "text/plain": [
       "<Figure size 432x288 with 1 Axes>"
      ]
     },
     "metadata": {
      "needs_background": "light"
     },
     "output_type": "display_data"
    }
   ],
   "source": [
    "plt.hist(np.log10(ls));"
   ]
  },
  {
   "cell_type": "code",
   "execution_count": 7,
   "id": "78e0a576",
   "metadata": {},
   "outputs": [
    {
     "data": {
      "text/plain": [
       "False"
      ]
     },
     "execution_count": 7,
     "metadata": {},
     "output_type": "execute_result"
    }
   ],
   "source": [
    "import torch.nn.functional as F\n",
    "from torch.nn import Linear, BatchNorm1d, LayerNorm\n",
    "from torch_geometric.nn import SAGEConv, global_mean_pool, norm, global_max_pool, global_add_pool\n",
    "\n",
    "\n",
    "class GCN(torch.nn.Module):\n",
    "    def __init__(self, hidden_channels, nlin=3):\n",
    "        super(GCN, self).__init__()\n",
    "        \n",
    "        self.conv1 = SAGEConv(data[0].num_node_features, hidden_channels) ##use meta-layer\n",
    "        ## https://pytorch-geometric.readthedocs.io/en/latest/modules/nn.html#torch_geometric.nn.meta.MetaLayer\n",
    "        self.conv2 = SAGEConv(hidden_channels, hidden_channels)\n",
    "        self.conv3 = SAGEConv(hidden_channels, hidden_channels)\n",
    "        self.conv4 = SAGEConv(hidden_channels, hidden_channels)\n",
    "        self.conv5 = SAGEConv(hidden_channels, hidden_channels)\n",
    "        \n",
    "        \n",
    "        # Our final linear layer will define our output\n",
    "        self.norm = LayerNorm(normalized_shape=hidden_channels) # layer_norm instead\n",
    "        self.lin1 = Linear(hidden_channels, 1)\n",
    "        \n",
    "    def forward(self, x, edge_index, batch):\n",
    "        # 1. Obtain node embeddings \n",
    "        x = self.conv1(x, edge_index)\n",
    "        x = x.relu()\n",
    "        x = self.conv2(x, edge_index)\n",
    "        x = x.relu()\n",
    "        x = self.conv3(x, edge_index)\n",
    "        x = x.relu()\n",
    "        x = self.conv4(x, edge_index)\n",
    "        x = x.relu()\n",
    "        x = self.conv5(x, edge_index)\n",
    "        x = x.relu()\n",
    "        x = global_add_pool(x, batch)  ## Miles says use sumpool\n",
    "\n",
    "        x = self.lin1(self.norm(x))\n",
    "#         x=self.lin1(x)\n",
    "        return x\n",
    "    \n",
    "model = GCN(hidden_channels=64)\n",
    "next(model.parameters()).is_cuda ##check number one"
   ]
  },
  {
   "cell_type": "code",
   "execution_count": 8,
   "id": "d86c2310",
   "metadata": {},
   "outputs": [],
   "source": [
    "criterion = torch.nn.MSELoss()\n",
    "n_epochs=10\n",
    "n_trials=1\n",
    "batch_size=128\n",
    "split=0.8\n",
    "test_data=data[int(len(data)*split):]\n",
    "train_data=data[:int(len(data)*split)]\n",
    "l1_lambda = 0\n",
    "l2_lambda = 0"
   ]
  },
  {
   "cell_type": "code",
   "execution_count": 9,
   "id": "13dde5ff",
   "metadata": {},
   "outputs": [
    {
     "name": "stderr",
     "output_type": "stream",
     "text": [
      "/home/cj1223/.conda/envs/juptorch/lib/python3.9/site-packages/torch/utils/data/dataloader.py:478: UserWarning: This DataLoader will create 4 worker processes in total. Our suggested max number of worker in current system is 1, which is smaller than what this DataLoader is going to create. Please be aware that excessive worker creation might get DataLoader running slow or even freeze, lower the worker number to avoid potential slowness/freeze if necessary.\n",
      "  warnings.warn(_create_warning_msg(\n"
     ]
    },
    {
     "name": "stdout",
     "output_type": "stream",
     "text": [
      "GPU  True\n"
     ]
    }
   ],
   "source": [
    "trains, tests, scatter = [], [], []\n",
    "yss, preds=[],[]\n",
    "model = GCN(hidden_channels=64)\n",
    "train_loader=DataLoader(train_data, batch_size=batch_size, shuffle=1, num_workers=4)\n",
    "test_loader=DataLoader(test_data, batch_size=batch_size, shuffle=0,num_workers=4)    \n",
    "optimizer = torch.optim.Adam(model.parameters(), lr=0.003)\n",
    "_, _, test_loader = accelerator.prepare(model, optimizer, test_loader)\n",
    "model, optimizer, train_loader = accelerator.prepare(model, optimizer, train_loader)\n",
    "print('GPU ', next(model.parameters()).is_cuda)\n",
    "# Initialize our train function\n",
    "def train():\n",
    "    model.train()\n",
    "    \n",
    "    for data in train_loader:  \n",
    "        out = model(data.x, data.edge_index, data.batch)  \n",
    "        loss = criterion(out, data.y.view(-1,1)) \n",
    "        l1_norm = sum(p.abs().sum() for p in model.parameters())\n",
    "        l2_norm = sum(p.pow(2.0).sum() for p in model.parameters())\n",
    "\n",
    "\n",
    "        loss = loss + l1_lambda * l1_norm + l2_lambda * l2_norm\n",
    "#             loss.backward()\n",
    "        accelerator.backward(loss)\n",
    "        optimizer.step() \n",
    "        optimizer.zero_grad() \n",
    "    print(loss, l1_norm*l1_lambda, l2_norm*l2_lambda)\n",
    " # test function\n",
    "\n",
    "def test(loader):\n",
    "    model.eval()\n",
    "\n",
    "    correct = 0\n",
    "    with torch.no_grad(): ##this solves it!!!\n",
    "        for dat in loader: \n",
    "            out = model(dat.x, dat.edge_index, dat.batch) \n",
    "    #         print(out)\n",
    "            correct += torch.std(out - dat.y.view(-1,1))\n",
    "    return correct/len(loader.dataset)"
   ]
  },
  {
   "cell_type": "code",
   "execution_count": 10,
   "id": "9b7519e6",
   "metadata": {},
   "outputs": [],
   "source": [
    "def test(loader, model):\n",
    "    '''returns targets and predictions'''\n",
    "    ys, pred,xs, Mh=[],[],[], []\n",
    "    model.eval()\n",
    "    with torch.no_grad():\n",
    "        for dat in loader: \n",
    "            out = model(dat.x, dat.edge_index, dat.batch) \n",
    "            pred.append(out.view(1,-1).cpu().detach().numpy())\n",
    "            ys.append(np.array(dat.y.cpu().numpy())) \n",
    "            u, counts = np.unique(dat.batch.cpu().numpy(), return_counts=1)\n",
    "            xs.append(np.array(torch.tensor_split(dat.x.cpu(), torch.cumsum(torch.tensor(counts[:-1]),0)), dtype=object))\n",
    "            ## compile lists\n",
    "    ys=np.hstack(ys)\n",
    "    pred=np.hstack(pred)[0]\n",
    "    xs=np.hstack(xs)\n",
    "    xn=[]\n",
    "    for x in xs:\n",
    "        x0=x.cpu().detach().numpy()\n",
    "        xn.append(x0)\n",
    "        Mh.append(x0[0][3])\n",
    "    return ys,pred,xn, Mh"
   ]
  },
  {
   "cell_type": "code",
   "execution_count": 11,
   "id": "154b04b1",
   "metadata": {
    "scrolled": true
   },
   "outputs": [
    {
     "name": "stdout",
     "output_type": "stream",
     "text": [
      "tensor(0.0627, device='cuda:0', grad_fn=<AddBackward0>) tensor(0., device='cuda:0', grad_fn=<MulBackward0>) tensor(0., device='cuda:0', grad_fn=<MulBackward0>)\n",
      "tensor(0.0052, device='cuda:0', grad_fn=<AddBackward0>) tensor(0., device='cuda:0', grad_fn=<MulBackward0>) tensor(0., device='cuda:0', grad_fn=<MulBackward0>)\n",
      "tensor(0.0140, device='cuda:0', grad_fn=<AddBackward0>) tensor(0., device='cuda:0', grad_fn=<MulBackward0>) tensor(0., device='cuda:0', grad_fn=<MulBackward0>)\n",
      "tensor(0.0182, device='cuda:0', grad_fn=<AddBackward0>) tensor(0., device='cuda:0', grad_fn=<MulBackward0>) tensor(0., device='cuda:0', grad_fn=<MulBackward0>)\n",
      "tensor(0.0130, device='cuda:0', grad_fn=<AddBackward0>) tensor(0., device='cuda:0', grad_fn=<MulBackward0>) tensor(0., device='cuda:0', grad_fn=<MulBackward0>)\n",
      "tensor(0.1971, device='cuda:0', grad_fn=<AddBackward0>) tensor(0., device='cuda:0', grad_fn=<MulBackward0>) tensor(0., device='cuda:0', grad_fn=<MulBackward0>)\n",
      "tensor(0.0091, device='cuda:0', grad_fn=<AddBackward0>) tensor(0., device='cuda:0', grad_fn=<MulBackward0>) tensor(0., device='cuda:0', grad_fn=<MulBackward0>)\n",
      "tensor(0.0060, device='cuda:0', grad_fn=<AddBackward0>) tensor(0., device='cuda:0', grad_fn=<MulBackward0>) tensor(0., device='cuda:0', grad_fn=<MulBackward0>)\n",
      "tensor(0.0063, device='cuda:0', grad_fn=<AddBackward0>) tensor(0., device='cuda:0', grad_fn=<MulBackward0>) tensor(0., device='cuda:0', grad_fn=<MulBackward0>)\n",
      "tensor(0.1419, device='cuda:0', grad_fn=<AddBackward0>) tensor(0., device='cuda:0', grad_fn=<MulBackward0>) tensor(0., device='cuda:0', grad_fn=<MulBackward0>)\n",
      "268.62 seconds spent training, 26.862 seconds per epoch. Processed 3240 trees per second\n"
     ]
    }
   ],
   "source": [
    "#this uses about 1 GB of memory on the GPU\n",
    "\n",
    "start=time.time()\n",
    "# for epoch in range(n_epochs):\n",
    "for epoch in range(10):\n",
    "\n",
    "    train()\n",
    "\n",
    "#     if (epoch+1)%2==0:\n",
    "#         train_acc = test(train_loader)\n",
    "#         test_acc = test(test_loader)\n",
    "#         tr_acc.append(train_acc)\n",
    "#         te_acc.append(test_acc)\n",
    "#         print(f'Epoch: {epoch+1:03d}, Train scatter: {np.sqrt(train_acc):.4f}, Test scatter: {np.sqrt(test_acc):.4f}')\n",
    "stop=time.time()\n",
    "spent=stop-start\n",
    "print(f\"{spent:.2f} seconds spent training, {spent/n_epochs:.3f} seconds per epoch. Processed {len(data)*split*n_epochs/spent:.0f} trees per second\")\n",
    "# ys, pred=[],[]\n",
    "# def test(loader):\n",
    "#     model.eval()\n",
    "\n",
    "#     correct = 0\n",
    "#     for dat in loader: \n",
    "#         out = model(dat.x, dat.edge_index, dat.batch) \n",
    "#         pred.append(out.view(1,-1).cpu().detach().numpy())\n",
    "#         ys.append(np.array(dat.y.cpu())) \n",
    "# ys=np.hstack(ys)\n",
    "# pred=np.hstack(pred)[0]\n",
    "# scatter.append(np.std(ys-pred))\n",
    "# yss.append(ys)\n",
    "# preds.append(pred)"
   ]
  },
  {
   "cell_type": "code",
   "execution_count": 12,
   "id": "880eb42d",
   "metadata": {},
   "outputs": [
    {
     "name": "stderr",
     "output_type": "stream",
     "text": [
      "/tmp/ipykernel_26539/55354286.py:11: FutureWarning: The input object of type 'Tensor' is an array-like implementing one of the corresponding protocols (`__array__`, `__array_interface__` or `__array_struct__`); but not a sequence (or 0-D). In the future, this object will be coerced as if it was first converted using `np.array(obj)`. To retain the old behaviour, you have to either modify the type 'Tensor', or assign to an empty array created with `np.empty(correct_shape, dtype=object)`.\n",
      "  xs.append(np.array(torch.tensor_split(dat.x.cpu(), torch.cumsum(torch.tensor(counts[:-1]),0)), dtype=object))\n"
     ]
    }
   ],
   "source": [
    "train_acc = test(train_loader, model)\n",
    "test_acc = test(test_loader, model)"
   ]
  },
  {
   "cell_type": "code",
   "execution_count": 13,
   "id": "5612a8cf",
   "metadata": {},
   "outputs": [],
   "source": [
    "ytr, ptr,xtr, Mhtr = train_acc"
   ]
  },
  {
   "cell_type": "code",
   "execution_count": 14,
   "id": "cba3237a",
   "metadata": {},
   "outputs": [],
   "source": [
    "yte, pte, xte, Mhte = test_acc"
   ]
  },
  {
   "cell_type": "code",
   "execution_count": 19,
   "id": "d546b46e",
   "metadata": {},
   "outputs": [
    {
     "data": {
      "text/plain": [
       "0.15385556"
      ]
     },
     "execution_count": 19,
     "metadata": {},
     "output_type": "execute_result"
    },
    {
     "data": {
      "image/png": "[encoded data removed]",
      "text/plain": [
       "<Figure size 432x288 with 1 Axes>"
      ]
     },
     "metadata": {
      "needs_background": "light"
     },
     "output_type": "display_data"
    }
   ],
   "source": [
    "plt.hist(yte-pte, alpha=0.1) \n",
    "plt.hist(pte, alpha=0.1)\n",
    "plt.hist(yte, alpha=0.1)\n",
    "np.std(yte-pte)"
   ]
  },
  {
   "cell_type": "code",
   "execution_count": 127,
   "id": "c04e53ca",
   "metadata": {},
   "outputs": [
    {
     "name": "stderr",
     "output_type": "stream",
     "text": [
      "/home/cj1223/.conda/envs/juptorch/lib/python3.9/site-packages/numpy/core/_asarray.py:171: VisibleDeprecationWarning: Creating an ndarray from ragged nested sequences (which is a list-or-tuple of lists-or-tuples-or ndarrays with different lengths or shapes) is deprecated. If you meant to do this, you must specify 'dtype=object' when creating the ndarray.\n",
      "  return array(a, dtype, copy=False, order=order, subok=True)\n"
     ]
    },
    {
     "ename": "ValueError",
     "evalue": "operands could not be broadcast together with shapes (4928,) (616,) ",
     "output_type": "error",
     "traceback": [
      "\u001b[0;31m---------------------------------------------------------------------------\u001b[0m",
      "\u001b[0;31mValueError\u001b[0m                                Traceback (most recent call last)",
      "\u001b[0;32m/tmp/ipykernel_10941/2338933285.py\u001b[0m in \u001b[0;36m<module>\u001b[0;34m\u001b[0m\n\u001b[1;32m      1\u001b[0m \u001b[0;32mimport\u001b[0m \u001b[0mmatplotlib\u001b[0m \u001b[0;32mas\u001b[0m \u001b[0mmpl\u001b[0m\u001b[0;34m\u001b[0m\u001b[0;34m\u001b[0m\u001b[0m\n\u001b[0;32m----> 2\u001b[0;31m \u001b[0mhist\u001b[0m\u001b[0;34m=\u001b[0m\u001b[0mplt\u001b[0m\u001b[0;34m.\u001b[0m\u001b[0mhist2d\u001b[0m\u001b[0;34m(\u001b[0m\u001b[0mMhtr\u001b[0m\u001b[0;34m,\u001b[0m\u001b[0mptr\u001b[0m\u001b[0;34m-\u001b[0m\u001b[0mytr\u001b[0m\u001b[0;34m,\u001b[0m \u001b[0mbins\u001b[0m\u001b[0;34m=\u001b[0m\u001b[0;36m100\u001b[0m\u001b[0;34m,\u001b[0m \u001b[0mnorm\u001b[0m\u001b[0;34m=\u001b[0m\u001b[0mmpl\u001b[0m\u001b[0;34m.\u001b[0m\u001b[0mcolors\u001b[0m\u001b[0;34m.\u001b[0m\u001b[0mLogNorm\u001b[0m\u001b[0;34m(\u001b[0m\u001b[0;34m)\u001b[0m\u001b[0;34m,\u001b[0m \u001b[0mcmap\u001b[0m\u001b[0;34m=\u001b[0m\u001b[0mplt\u001b[0m\u001b[0;34m.\u001b[0m\u001b[0mcm\u001b[0m\u001b[0;34m.\u001b[0m\u001b[0mcividis\u001b[0m\u001b[0;34m)\u001b[0m\u001b[0;34m;\u001b[0m\u001b[0;34m\u001b[0m\u001b[0;34m\u001b[0m\u001b[0m\n\u001b[0m\u001b[1;32m      3\u001b[0m \u001b[0mplt\u001b[0m\u001b[0;34m.\u001b[0m\u001b[0mcolorbar\u001b[0m\u001b[0;34m(\u001b[0m\u001b[0;34m)\u001b[0m\u001b[0;34m\u001b[0m\u001b[0;34m\u001b[0m\u001b[0m\n",
      "\u001b[0;32m~/.conda/envs/juptorch/lib/python3.9/site-packages/matplotlib/pyplot.py\u001b[0m in \u001b[0;36mhist2d\u001b[0;34m(x, y, bins, range, density, weights, cmin, cmax, data, **kwargs)\u001b[0m\n\u001b[1;32m   2875\u001b[0m         \u001b[0mx\u001b[0m\u001b[0;34m,\u001b[0m \u001b[0my\u001b[0m\u001b[0;34m,\u001b[0m \u001b[0mbins\u001b[0m\u001b[0;34m=\u001b[0m\u001b[0;36m10\u001b[0m\u001b[0;34m,\u001b[0m \u001b[0mrange\u001b[0m\u001b[0;34m=\u001b[0m\u001b[0;32mNone\u001b[0m\u001b[0;34m,\u001b[0m \u001b[0mdensity\u001b[0m\u001b[0;34m=\u001b[0m\u001b[0;32mFalse\u001b[0m\u001b[0;34m,\u001b[0m \u001b[0mweights\u001b[0m\u001b[0;34m=\u001b[0m\u001b[0;32mNone\u001b[0m\u001b[0;34m,\u001b[0m\u001b[0;34m\u001b[0m\u001b[0;34m\u001b[0m\u001b[0m\n\u001b[1;32m   2876\u001b[0m         cmin=None, cmax=None, *, data=None, **kwargs):\n\u001b[0;32m-> 2877\u001b[0;31m     __ret = gca().hist2d(\n\u001b[0m\u001b[1;32m   2878\u001b[0m         \u001b[0mx\u001b[0m\u001b[0;34m,\u001b[0m \u001b[0my\u001b[0m\u001b[0;34m,\u001b[0m \u001b[0mbins\u001b[0m\u001b[0;34m=\u001b[0m\u001b[0mbins\u001b[0m\u001b[0;34m,\u001b[0m \u001b[0mrange\u001b[0m\u001b[0;34m=\u001b[0m\u001b[0mrange\u001b[0m\u001b[0;34m,\u001b[0m \u001b[0mdensity\u001b[0m\u001b[0;34m=\u001b[0m\u001b[0mdensity\u001b[0m\u001b[0;34m,\u001b[0m\u001b[0;34m\u001b[0m\u001b[0;34m\u001b[0m\u001b[0m\n\u001b[1;32m   2879\u001b[0m         \u001b[0mweights\u001b[0m\u001b[0;34m=\u001b[0m\u001b[0mweights\u001b[0m\u001b[0;34m,\u001b[0m \u001b[0mcmin\u001b[0m\u001b[0;34m=\u001b[0m\u001b[0mcmin\u001b[0m\u001b[0;34m,\u001b[0m \u001b[0mcmax\u001b[0m\u001b[0;34m=\u001b[0m\u001b[0mcmax\u001b[0m\u001b[0;34m,\u001b[0m\u001b[0;34m\u001b[0m\u001b[0;34m\u001b[0m\u001b[0m\n",
      "\u001b[0;32m~/.conda/envs/juptorch/lib/python3.9/site-packages/matplotlib/__init__.py\u001b[0m in \u001b[0;36minner\u001b[0;34m(ax, data, *args, **kwargs)\u001b[0m\n\u001b[1;32m   1359\u001b[0m     \u001b[0;32mdef\u001b[0m \u001b[0minner\u001b[0m\u001b[0;34m(\u001b[0m\u001b[0max\u001b[0m\u001b[0;34m,\u001b[0m \u001b[0;34m*\u001b[0m\u001b[0margs\u001b[0m\u001b[0;34m,\u001b[0m \u001b[0mdata\u001b[0m\u001b[0;34m=\u001b[0m\u001b[0;32mNone\u001b[0m\u001b[0;34m,\u001b[0m \u001b[0;34m**\u001b[0m\u001b[0mkwargs\u001b[0m\u001b[0;34m)\u001b[0m\u001b[0;34m:\u001b[0m\u001b[0;34m\u001b[0m\u001b[0;34m\u001b[0m\u001b[0m\n\u001b[1;32m   1360\u001b[0m         \u001b[0;32mif\u001b[0m \u001b[0mdata\u001b[0m \u001b[0;32mis\u001b[0m \u001b[0;32mNone\u001b[0m\u001b[0;34m:\u001b[0m\u001b[0;34m\u001b[0m\u001b[0;34m\u001b[0m\u001b[0m\n\u001b[0;32m-> 1361\u001b[0;31m             \u001b[0;32mreturn\u001b[0m \u001b[0mfunc\u001b[0m\u001b[0;34m(\u001b[0m\u001b[0max\u001b[0m\u001b[0;34m,\u001b[0m \u001b[0;34m*\u001b[0m\u001b[0mmap\u001b[0m\u001b[0;34m(\u001b[0m\u001b[0msanitize_sequence\u001b[0m\u001b[0;34m,\u001b[0m \u001b[0margs\u001b[0m\u001b[0;34m)\u001b[0m\u001b[0;34m,\u001b[0m \u001b[0;34m**\u001b[0m\u001b[0mkwargs\u001b[0m\u001b[0;34m)\u001b[0m\u001b[0;34m\u001b[0m\u001b[0;34m\u001b[0m\u001b[0m\n\u001b[0m\u001b[1;32m   1362\u001b[0m \u001b[0;34m\u001b[0m\u001b[0m\n\u001b[1;32m   1363\u001b[0m         \u001b[0mbound\u001b[0m \u001b[0;34m=\u001b[0m \u001b[0mnew_sig\u001b[0m\u001b[0;34m.\u001b[0m\u001b[0mbind\u001b[0m\u001b[0;34m(\u001b[0m\u001b[0max\u001b[0m\u001b[0;34m,\u001b[0m \u001b[0;34m*\u001b[0m\u001b[0margs\u001b[0m\u001b[0;34m,\u001b[0m \u001b[0;34m**\u001b[0m\u001b[0mkwargs\u001b[0m\u001b[0;34m)\u001b[0m\u001b[0;34m\u001b[0m\u001b[0;34m\u001b[0m\u001b[0m\n",
      "\u001b[0;32m~/.conda/envs/juptorch/lib/python3.9/site-packages/matplotlib/axes/_axes.py\u001b[0m in \u001b[0;36mhist2d\u001b[0;34m(self, x, y, bins, range, density, weights, cmin, cmax, **kwargs)\u001b[0m\n\u001b[1;32m   7091\u001b[0m         \"\"\"\n\u001b[1;32m   7092\u001b[0m \u001b[0;34m\u001b[0m\u001b[0m\n\u001b[0;32m-> 7093\u001b[0;31m         h, xedges, yedges = np.histogram2d(x, y, bins=bins, range=range,\n\u001b[0m\u001b[1;32m   7094\u001b[0m                                            density=density, weights=weights)\n\u001b[1;32m   7095\u001b[0m \u001b[0;34m\u001b[0m\u001b[0m\n",
      "\u001b[0;32m<__array_function__ internals>\u001b[0m in \u001b[0;36mhistogram2d\u001b[0;34m(*args, **kwargs)\u001b[0m\n",
      "\u001b[0;32m~/.conda/envs/juptorch/lib/python3.9/site-packages/numpy/lib/twodim_base.py\u001b[0m in \u001b[0;36mhistogram2d\u001b[0;34m(x, y, bins, range, normed, weights, density)\u001b[0m\n\u001b[1;32m    742\u001b[0m         \u001b[0mxedges\u001b[0m \u001b[0;34m=\u001b[0m \u001b[0myedges\u001b[0m \u001b[0;34m=\u001b[0m \u001b[0masarray\u001b[0m\u001b[0;34m(\u001b[0m\u001b[0mbins\u001b[0m\u001b[0;34m)\u001b[0m\u001b[0;34m\u001b[0m\u001b[0;34m\u001b[0m\u001b[0m\n\u001b[1;32m    743\u001b[0m         \u001b[0mbins\u001b[0m \u001b[0;34m=\u001b[0m \u001b[0;34m[\u001b[0m\u001b[0mxedges\u001b[0m\u001b[0;34m,\u001b[0m \u001b[0myedges\u001b[0m\u001b[0;34m]\u001b[0m\u001b[0;34m\u001b[0m\u001b[0;34m\u001b[0m\u001b[0m\n\u001b[0;32m--> 744\u001b[0;31m     \u001b[0mhist\u001b[0m\u001b[0;34m,\u001b[0m \u001b[0medges\u001b[0m \u001b[0;34m=\u001b[0m \u001b[0mhistogramdd\u001b[0m\u001b[0;34m(\u001b[0m\u001b[0;34m[\u001b[0m\u001b[0mx\u001b[0m\u001b[0;34m,\u001b[0m \u001b[0my\u001b[0m\u001b[0;34m]\u001b[0m\u001b[0;34m,\u001b[0m \u001b[0mbins\u001b[0m\u001b[0;34m,\u001b[0m \u001b[0mrange\u001b[0m\u001b[0;34m,\u001b[0m \u001b[0mnormed\u001b[0m\u001b[0;34m,\u001b[0m \u001b[0mweights\u001b[0m\u001b[0;34m,\u001b[0m \u001b[0mdensity\u001b[0m\u001b[0;34m)\u001b[0m\u001b[0;34m\u001b[0m\u001b[0;34m\u001b[0m\u001b[0m\n\u001b[0m\u001b[1;32m    745\u001b[0m     \u001b[0;32mreturn\u001b[0m \u001b[0mhist\u001b[0m\u001b[0;34m,\u001b[0m \u001b[0medges\u001b[0m\u001b[0;34m[\u001b[0m\u001b[0;36m0\u001b[0m\u001b[0;34m]\u001b[0m\u001b[0;34m,\u001b[0m \u001b[0medges\u001b[0m\u001b[0;34m[\u001b[0m\u001b[0;36m1\u001b[0m\u001b[0;34m]\u001b[0m\u001b[0;34m\u001b[0m\u001b[0;34m\u001b[0m\u001b[0m\n\u001b[1;32m    746\u001b[0m \u001b[0;34m\u001b[0m\u001b[0m\n",
      "\u001b[0;32m<__array_function__ internals>\u001b[0m in \u001b[0;36mhistogramdd\u001b[0;34m(*args, **kwargs)\u001b[0m\n",
      "\u001b[0;32m~/.conda/envs/juptorch/lib/python3.9/site-packages/numpy/lib/histograms.py\u001b[0m in \u001b[0;36mhistogramdd\u001b[0;34m(sample, bins, range, normed, weights, density)\u001b[0m\n\u001b[1;32m   1047\u001b[0m                 raise ValueError(\n\u001b[1;32m   1048\u001b[0m                     '`bins[{}]` must be positive, when an integer'.format(i))\n\u001b[0;32m-> 1049\u001b[0;31m             \u001b[0msmin\u001b[0m\u001b[0;34m,\u001b[0m \u001b[0msmax\u001b[0m \u001b[0;34m=\u001b[0m \u001b[0m_get_outer_edges\u001b[0m\u001b[0;34m(\u001b[0m\u001b[0msample\u001b[0m\u001b[0;34m[\u001b[0m\u001b[0;34m:\u001b[0m\u001b[0;34m,\u001b[0m\u001b[0mi\u001b[0m\u001b[0;34m]\u001b[0m\u001b[0;34m,\u001b[0m \u001b[0mrange\u001b[0m\u001b[0;34m[\u001b[0m\u001b[0mi\u001b[0m\u001b[0;34m]\u001b[0m\u001b[0;34m)\u001b[0m\u001b[0;34m\u001b[0m\u001b[0;34m\u001b[0m\u001b[0m\n\u001b[0m\u001b[1;32m   1050\u001b[0m             \u001b[0;32mtry\u001b[0m\u001b[0;34m:\u001b[0m\u001b[0;34m\u001b[0m\u001b[0;34m\u001b[0m\u001b[0m\n\u001b[1;32m   1051\u001b[0m                 \u001b[0mn\u001b[0m \u001b[0;34m=\u001b[0m \u001b[0moperator\u001b[0m\u001b[0;34m.\u001b[0m\u001b[0mindex\u001b[0m\u001b[0;34m(\u001b[0m\u001b[0mbins\u001b[0m\u001b[0;34m[\u001b[0m\u001b[0mi\u001b[0m\u001b[0;34m]\u001b[0m\u001b[0;34m)\u001b[0m\u001b[0;34m\u001b[0m\u001b[0;34m\u001b[0m\u001b[0m\n",
      "\u001b[0;32m~/.conda/envs/juptorch/lib/python3.9/site-packages/numpy/lib/histograms.py\u001b[0m in \u001b[0;36m_get_outer_edges\u001b[0;34m(a, range)\u001b[0m\n\u001b[1;32m    319\u001b[0m         \u001b[0mfirst_edge\u001b[0m\u001b[0;34m,\u001b[0m \u001b[0mlast_edge\u001b[0m \u001b[0;34m=\u001b[0m \u001b[0;36m0\u001b[0m\u001b[0;34m,\u001b[0m \u001b[0;36m1\u001b[0m\u001b[0;34m\u001b[0m\u001b[0;34m\u001b[0m\u001b[0m\n\u001b[1;32m    320\u001b[0m     \u001b[0;32melse\u001b[0m\u001b[0;34m:\u001b[0m\u001b[0;34m\u001b[0m\u001b[0;34m\u001b[0m\u001b[0m\n\u001b[0;32m--> 321\u001b[0;31m         \u001b[0mfirst_edge\u001b[0m\u001b[0;34m,\u001b[0m \u001b[0mlast_edge\u001b[0m \u001b[0;34m=\u001b[0m \u001b[0ma\u001b[0m\u001b[0;34m.\u001b[0m\u001b[0mmin\u001b[0m\u001b[0;34m(\u001b[0m\u001b[0;34m)\u001b[0m\u001b[0;34m,\u001b[0m \u001b[0ma\u001b[0m\u001b[0;34m.\u001b[0m\u001b[0mmax\u001b[0m\u001b[0;34m(\u001b[0m\u001b[0;34m)\u001b[0m\u001b[0;34m\u001b[0m\u001b[0;34m\u001b[0m\u001b[0m\n\u001b[0m\u001b[1;32m    322\u001b[0m         \u001b[0;32mif\u001b[0m \u001b[0;32mnot\u001b[0m \u001b[0;34m(\u001b[0m\u001b[0mnp\u001b[0m\u001b[0;34m.\u001b[0m\u001b[0misfinite\u001b[0m\u001b[0;34m(\u001b[0m\u001b[0mfirst_edge\u001b[0m\u001b[0;34m)\u001b[0m \u001b[0;32mand\u001b[0m \u001b[0mnp\u001b[0m\u001b[0;34m.\u001b[0m\u001b[0misfinite\u001b[0m\u001b[0;34m(\u001b[0m\u001b[0mlast_edge\u001b[0m\u001b[0;34m)\u001b[0m\u001b[0;34m)\u001b[0m\u001b[0;34m:\u001b[0m\u001b[0;34m\u001b[0m\u001b[0;34m\u001b[0m\u001b[0m\n\u001b[1;32m    323\u001b[0m             raise ValueError(\n",
      "\u001b[0;32m~/.conda/envs/juptorch/lib/python3.9/site-packages/numpy/core/_methods.py\u001b[0m in \u001b[0;36m_amin\u001b[0;34m(a, axis, out, keepdims, initial, where)\u001b[0m\n\u001b[1;32m     41\u001b[0m def _amin(a, axis=None, out=None, keepdims=False,\n\u001b[1;32m     42\u001b[0m           initial=_NoValue, where=True):\n\u001b[0;32m---> 43\u001b[0;31m     \u001b[0;32mreturn\u001b[0m \u001b[0mumr_minimum\u001b[0m\u001b[0;34m(\u001b[0m\u001b[0ma\u001b[0m\u001b[0;34m,\u001b[0m \u001b[0maxis\u001b[0m\u001b[0;34m,\u001b[0m \u001b[0;32mNone\u001b[0m\u001b[0;34m,\u001b[0m \u001b[0mout\u001b[0m\u001b[0;34m,\u001b[0m \u001b[0mkeepdims\u001b[0m\u001b[0;34m,\u001b[0m \u001b[0minitial\u001b[0m\u001b[0;34m,\u001b[0m \u001b[0mwhere\u001b[0m\u001b[0;34m)\u001b[0m\u001b[0;34m\u001b[0m\u001b[0;34m\u001b[0m\u001b[0m\n\u001b[0m\u001b[1;32m     44\u001b[0m \u001b[0;34m\u001b[0m\u001b[0m\n\u001b[1;32m     45\u001b[0m def _sum(a, axis=None, dtype=None, out=None, keepdims=False,\n",
      "\u001b[0;31mValueError\u001b[0m: operands could not be broadcast together with shapes (4928,) (616,) "
     ]
    },
    {
     "data": {
      "image/png": "[encoded data removed]",
      "text/plain": [
       "<Figure size 432x288 with 1 Axes>"
      ]
     },
     "metadata": {
      "needs_background": "light"
     },
     "output_type": "display_data"
    }
   ],
   "source": [
    "import matplotlib as mpl\n",
    "hist=plt.hist2d(Mhtr,ptr-ytr, bins=100, norm=mpl.colors.LogNorm(), cmap=plt.cm.cividis);\n",
    "plt.colorbar()"
   ]
  },
  {
   "cell_type": "code",
   "execution_count": 86,
   "id": "60d45caa",
   "metadata": {},
   "outputs": [
    {
     "data": {
      "text/plain": [
       "Text(0.5, 1.0, '0.11128123')"
      ]
     },
     "execution_count": 86,
     "metadata": {},
     "output_type": "execute_result"
    },
    {
     "data": {
      "image/png": "[encoded data removed]",
      "text/plain": [
       "<Figure size 432x288 with 1 Axes>"
      ]
     },
     "metadata": {
      "needs_background": "light"
     },
     "output_type": "display_data"
    }
   ],
   "source": [
    "plt.plot(yte, pte, 'ro')\n",
    "plt.title(np.std(yte-pte))"
   ]
  },
  {
   "cell_type": "code",
   "execution_count": 48,
   "id": "35f5c44e",
   "metadata": {},
   "outputs": [],
   "source": [
    "tr_acc, te_acc=[],[]\n",
    "tests.append(te_acc)\n",
    "trains.append(tr_acc)"
   ]
  },
  {
   "cell_type": "code",
   "execution_count": 49,
   "id": "559b60b2",
   "metadata": {},
   "outputs": [
    {
     "data": {
      "text/plain": [
       "[<matplotlib.lines.Line2D at 0x2aad9fc174c0>]"
      ]
     },
     "execution_count": 49,
     "metadata": {},
     "output_type": "execute_result"
    },
    {
     "data": {
      "image/png": "[encoded data removed]",
      "text/plain": [
       "<Figure size 432x288 with 1 Axes>"
      ]
     },
     "metadata": {
      "needs_background": "light"
     },
     "output_type": "display_data"
    }
   ],
   "source": [
    "plt.plot(Mhtr,ytr,'ro')"
   ]
  },
  {
   "cell_type": "code",
   "execution_count": 12,
   "id": "787d0660",
   "metadata": {},
   "outputs": [
    {
     "data": {
      "text/plain": [
       "tensor(0.0036, device='cuda:0')"
      ]
     },
     "execution_count": 12,
     "metadata": {},
     "output_type": "execute_result"
    }
   ],
   "source": [
    "test(train_loader) #this crashes everything, estimate is that it uses \\approx 30 GB and I have no idea"
   ]
  },
  {
   "cell_type": "code",
   "execution_count": null,
   "id": "a2dbcf6b",
   "metadata": {},
   "outputs": [],
   "source": [
    "np.mean(scatter), np.std(scatter)"
   ]
  },
  {
   "cell_type": "code",
   "execution_count": null,
   "id": "d2a209af",
   "metadata": {},
   "outputs": [],
   "source": [
    "np.min(tests)"
   ]
  },
  {
   "cell_type": "code",
   "execution_count": null,
   "id": "d75ab5ce",
   "metadata": {},
   "outputs": [],
   "source": [
    "plt.plot(tr_acc, label='train loss')\n",
    "plt.plot(te_acc, label='test loss')\n",
    "plt.xscale('log')\n",
    "plt.yscale('log')\n",
    "plt.legend()"
   ]
  },
  {
   "cell_type": "code",
   "execution_count": null,
   "id": "b840398b",
   "metadata": {},
   "outputs": [],
   "source": [
    "ys, pred=[],[]  \n",
    "def test(loader):\n",
    "    model.eval()\n",
    " \n",
    "    correct = 0\n",
    "    for dat in loader: \n",
    "        out = model(dat.x, dat.edge_index, dat.batch) \n",
    "        pred.append(out.view(1,-1).cpu().detach().numpy())\n",
    "        ys.append(np.array(dat.y.cpu())) \n",
    "test(test_loader)\n",
    "# test(train_loader)\n",
    "ys=np.hstack(ys)\n",
    "pred=np.hstack(pred)[0]"
   ]
  },
  {
   "cell_type": "code",
   "execution_count": null,
   "id": "4bee0e6c",
   "metadata": {},
   "outputs": [],
   "source": [
    "fig, ax= plt.subplots(2, figsize=(9,12))\n",
    "bins=50\n",
    "ax[0].hist(ys, bins=bins, range=(np.percentile(np.hstack([ys,pred]), [1,99])), label='true',  histtype='step')\n",
    "ax[0].hist(pred, bins=bins, range=(np.percentile(np.hstack([ys,pred]), [1,99])), label='pred', histtype='step')\n",
    "ax[1].hist((ys-pred), bins=bins,range=(np.percentile(ys-pred, [1,99])),  histtype='step', label='residuals');\n",
    "ax[0].legend()\n",
    "ax[1].legend()\n",
    "ax[0].set(title='Predicted/true stellar mass', xlabel='log10(M_stellar)', ylabel='N')\n",
    "ax[1].set(title=f'Residuals, scatter is {np.std(ys-pred):.3f}',xlabel='log10(M_stellar)_true-log10(M_stellar)_predicted', ylabel='N')"
   ]
  },
  {
   "cell_type": "code",
   "execution_count": null,
   "id": "be2fb326",
   "metadata": {
    "scrolled": false
   },
   "outputs": [],
   "source": [
    "fig, ax =plt.subplots(figsize=(12,9))\n",
    "ax.plot(ys,pred, 'ro')\n",
    "ax.plot([min(ys),max(ys)],[min(ys),max(ys)], 'k--', label='Perfect correspondance')\n",
    "ax.set(xlabel='true',ylabel='predicted', title='True/predicted corr')\n",
    "ax.legend()"
   ]
  },
  {
   "cell_type": "code",
   "execution_count": null,
   "id": "a47be80f",
   "metadata": {},
   "outputs": [],
   "source": [
    "fig, ax =plt.subplots(figsize=(12,9))\n",
    "h = ax.hist2d(ys,pred, bins=50, range=[np.percentile(ys, [1,99]),np.percentile(pred, [1,99])])\n",
    "fig.colorbar(h[3], ax=ax)\n",
    "ax.plot([min(ys),max(ys)],[min(ys),max(ys)], 'k--', label='Perfect correspondance')\n",
    "ax.set(xlabel='true',ylabel='predicted', title='True/predicted corr')\n",
    "ax.legend()"
   ]
  },
  {
   "cell_type": "code",
   "execution_count": null,
   "id": "bf45a39a",
   "metadata": {},
   "outputs": [],
   "source": [
    "Mh=[]\n",
    "for x in xes:\n",
    "    Mh.append(x[0,3])\n",
    "plt.plot(Mh, pred, 'o', markersize=1) "
   ]
  },
  {
   "cell_type": "code",
   "execution_count": null,
   "id": "b7ae3964",
   "metadata": {},
   "outputs": [],
   "source": []
  },
  {
   "cell_type": "code",
   "execution_count": null,
   "id": "8a8b7de3",
   "metadata": {},
   "outputs": [],
   "source": [
    "x,y=[], []\n",
    "for d in data:\n",
    "    x.append(d.x[0,3].numpy())\n",
    "    y.append(d.y.numpy())    "
   ]
  },
  {
   "cell_type": "code",
   "execution_count": null,
   "id": "6e412224",
   "metadata": {},
   "outputs": [],
   "source": [
    "plt.plot(x, y, 'o', markersize=1) "
   ]
  },
  {
   "cell_type": "code",
   "execution_count": null,
   "id": "9fab1e39",
   "metadata": {},
   "outputs": [],
   "source": [
    "## remember to validate that test/val/train are actually comparable\n",
    "## create toy problem (predict variance of all halo masses eg, verifying that in takes into account edges)\n",
    "## same, predict average of the difference of post-merge halo and pre merger halos\n",
    "\n",
    "## try different pools"
   ]
  },
  {
   "cell_type": "code",
   "execution_count": null,
   "id": "49a1492e",
   "metadata": {},
   "outputs": [],
   "source": [
    "xte, yte, lte = [], [], []\n",
    "for d in test_data:\n",
    "    xte.append(d.x.numpy()[0,3])\n",
    "    yte.append(d.y.numpy())    \n",
    "    lte.append(np.log10(len(d.x.numpy()))   ) \n",
    "yte=np.vstack(yte)"
   ]
  },
  {
   "cell_type": "code",
   "execution_count": null,
   "id": "fb021061",
   "metadata": {},
   "outputs": [],
   "source": [
    "xtr, ytr, ltr = [], [], []\n",
    "for d in train_data:\n",
    "    xtr.append(d.x.numpy()[0,3])\n",
    "    ytr.append(d.y.numpy())    \n",
    "    ltr.append(np.log10(len(d.x.numpy()))   ) \n",
    "ytr=np.vstack(ytr)"
   ]
  },
  {
   "cell_type": "code",
   "execution_count": null,
   "id": "4ca9df90",
   "metadata": {},
   "outputs": [],
   "source": [
    "bins=20\n",
    "fig, ax = plt.subplots(3, figsize=(12,12))\n",
    "ax[0].hist(xtr, bins=bins, histtype='step', density=1, label='train')\n",
    "ax[0].hist(xte, bins=bins, histtype='step', density=1, label='test')\n",
    "ax[0].set(xlabel='Final halo mass')\n",
    "\n",
    "ax[1].hist(ytr, bins=bins, histtype='step', density=1, label='train')\n",
    "ax[1].hist(yte, bins=bins, histtype='step', density=1, label='test')\n",
    "ax[1].set(xlabel='Stellar mass')\n",
    "\n",
    "ax[2].hist(ltr, bins=bins, histtype='step', density=1, label='train')\n",
    "ax[2].hist(lte, bins=bins, histtype='step', density=1, label='test');\n",
    "ax[2].set(xlabel='log10(Tree length)')\n",
    "\n",
    "for a in ax:\n",
    "    a.set(yscale='log')\n",
    "    a.legend()"
   ]
  },
  {
   "cell_type": "code",
   "execution_count": 51,
   "id": "ef4451bf",
   "metadata": {},
   "outputs": [
    {
     "data": {
      "text/plain": [
       "28"
      ]
     },
     "execution_count": 51,
     "metadata": {},
     "output_type": "execute_result"
    }
   ],
   "source": [
    "import multiprocessing\n",
    "multiprocessing.cpu_count()"
   ]
  },
  {
   "cell_type": "code",
   "execution_count": 52,
   "id": "c431f906",
   "metadata": {},
   "outputs": [
    {
     "data": {
      "text/plain": [
       "28"
      ]
     },
     "execution_count": 52,
     "metadata": {},
     "output_type": "execute_result"
    }
   ],
   "source": [
    "os.cpu_count()"
   ]
  }
 ],
 "metadata": {
  "kernelspec": {
   "display_name": "Python 3 (ipykernel)",
   "language": "python",
   "name": "python3"
  },
  "language_info": {
   "codemirror_mode": {
    "name": "ipython",
    "version": 3
   },
   "file_extension": ".py",
   "mimetype": "text/x-python",
   "name": "python",
   "nbconvert_exporter": "python",
   "pygments_lexer": "ipython3",
   "version": "3.9.7"
  }
 },
 "nbformat": 4,
 "nbformat_minor": 5
}
