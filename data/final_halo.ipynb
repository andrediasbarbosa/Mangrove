{
 "cells": [
  {
   "cell_type": "code",
   "execution_count": 1,
   "id": "8e343427",
   "metadata": {},
   "outputs": [],
   "source": [
    "import torch, time, pickle,os\n",
    "import torch_geometric as tg\n",
    "from torch_geometric.data import Data\n",
    "import numpy as np\n",
    "import matplotlib.pyplot as plt\n",
    "import pandas as pd\n",
    "from tqdm import tqdm\n",
    "import os.path as osp\n",
    "import networkx as nx\n",
    "case=f'vlarge_all_4t_z0.0_quantile_raw'\n",
    "data=pickle.load(open(f'../../../../../scratch/gpfs/cj1223/GraphStorage/{case}/data.pkl', 'rb'))"
   ]
  },
  {
   "cell_type": "code",
   "execution_count": 2,
   "id": "45a9cedd",
   "metadata": {},
   "outputs": [
    {
     "name": "stderr",
     "output_type": "stream",
     "text": [
      "100%|██████████████████████████████████████████████████████| 108808/108808 [00:04<00:00, 22593.04it/s]\n"
     ]
    },
    {
     "name": "stdout",
     "output_type": "stream",
     "text": [
      "Saving dataset\n"
     ]
    }
   ],
   "source": [
    "case=f'vlarge_all_4t_quantile_raw_final'\n",
    "dat=[]\n",
    "for d in tqdm(data, total=len(data)):\n",
    "    hals=d.x.numpy()[0]\n",
    "    \n",
    "    desc, progs=[0],[0]\n",
    "    edge_index = torch.tensor([progs, desc], dtype=torch.long)\n",
    "    x = torch.tensor([hals], dtype=torch.float)\n",
    "    y=d.y\n",
    "    graph=Data(x=x, edge_index=edge_index, y=y)\n",
    "    dat.append(graph)\n",
    "print(\"Saving dataset\")\n",
    "if not osp.exists(f'../../../../../scratch/gpfs/cj1223/GraphStorage/{case}'):\n",
    "    os.mkdir(f'../../../../../scratch/gpfs/cj1223/GraphStorage/{case}')\n",
    "\n",
    "with open(f'../../../../../scratch/gpfs/cj1223/GraphStorage/{case}/data.pkl', 'wb') as handle:\n",
    "    pickle.dump(dat, handle)"
   ]
  },
  {
   "cell_type": "code",
   "execution_count": 3,
   "id": "5aed1386",
   "metadata": {},
   "outputs": [
    {
     "data": {
      "text/plain": [
       "['vlarge_all_4t_z1.0_standard_quant',\n",
       " 'vlarge_all_4t_z0.3_quantile_raw',\n",
       " 'vlarge_4t_quantile_raw_redshift_75_all',\n",
       " 'vlarge_all_4t_z1.0_quantile_raw',\n",
       " 'vlarge_all_4t_z0.3_None',\n",
       " 'vlarge_all_4t_z3.0_quantile_raw',\n",
       " 'vlarge_all_4t_z2.0_standard_quant',\n",
       " 'vlarge_all_4t_z0.8_quantile_raw',\n",
       " 'vlarge_all_4t_z2.0_None',\n",
       " 'redshift_scan_0',\n",
       " 'testid_all_4t_z2.0_None',\n",
       " 'vlarge_all_4t_z0.0_quantile_stand',\n",
       " 'vlarge_all_multi_try1',\n",
       " 'vlarge_4t_quantile_raw_redshift_99_all',\n",
       " 'vlarge_all_4t_z2.0_quantile_raw',\n",
       " 'vlarge_all_4t_z0.0_standard_quant',\n",
       " 'vlarge_all_4t_z0.5_quantile_quant',\n",
       " 'vlarge_4t_quantile_raw_redshift_50_all',\n",
       " 'vlarge_all_4t_z2.0_quantile_stand',\n",
       " 'vlarge_all_4t_z1.0_quantile_quant',\n",
       " 'transformers',\n",
       " 'vlarge_all_4t_z0.0_standard_raw',\n",
       " 'vlarge_all_4t_quantile_raw_final',\n",
       " 'vlarge_all_4t_z0.5_standard_stand',\n",
       " 'vlarge_all_4t_z1.8_quantile_raw',\n",
       " 'vlarge_all_4t_z0.5_standard_quant',\n",
       " 'vlarge_all_4t_zall_quantile_raw_trainandtest',\n",
       " 'vlarge_all_4t_z0.0_quantile_raw',\n",
       " 'old',\n",
       " 'vlarge_all_4t_z1.0_None',\n",
       " 'vlarge_all_4t_z1.5_quantile_raw',\n",
       " 'vlarge_all_4t_z1.0_standard_stand',\n",
       " 'vlarge_all_4t_z0.8_None',\n",
       " 'vlarge_all_4t_z1.8_None',\n",
       " 'vlarge_all_4t_z2.0_standard_raw',\n",
       " 'vlarge_4t_quantile_raw_redshift_95_all',\n",
       " 'testid_all_4t_z0.0_None',\n",
       " 'vlarge_all_4t_z3.0_None',\n",
       " 'vlarge_all_4t_z0.5_standard_raw',\n",
       " 'vlarge_all_4t_z1.5_None',\n",
       " 'vlarge_all_4t_z0.0_None',\n",
       " 'vlarge_4t_quantile_raw_redshift_85_all',\n",
       " 'vlarge_all_4t_z0.5_quantile_raw',\n",
       " 'vlarge_all_4t_z1.0_standard_raw',\n",
       " 'vlarge_all_4t_quantile_raw',\n",
       " 'testt_all_4t_z0.0_None',\n",
       " 'vlarge_all_smass',\n",
       " 'vlarge_all_4t_z0.0_quantile_quant',\n",
       " 'vlarge_all_4t_z0.5_quantile_stand',\n",
       " 'vlarge_all_4t_zall_quantile_raw',\n",
       " 'vlarge_all_4t_z0.0_standard_stand',\n",
       " 'vlarge_all_4t_z1.0_quantile_stand',\n",
       " 'vlarge_all_4t_z2.0_quantile_quant',\n",
       " 'vlarge_all_4t_z2.0_standard_stand',\n",
       " 'vlarge_all_4t_z0.5_None']"
      ]
     },
     "execution_count": 3,
     "metadata": {},
     "output_type": "execute_result"
    }
   ],
   "source": [
    "import os\n",
    "os.listdir('../../../../../scratch/gpfs/cj1223/GraphStorage/')"
   ]
  },
  {
   "cell_type": "code",
   "execution_count": 5,
   "id": "f6b2bf42",
   "metadata": {},
   "outputs": [
    {
     "data": {
      "text/plain": [
       "tensor([-1.1133,  1.5726, -0.6220, -2.8989])"
      ]
     },
     "execution_count": 5,
     "metadata": {},
     "output_type": "execute_result"
    }
   ],
   "source": [
    "dat[0].y"
   ]
  }
 ],
 "metadata": {
  "kernelspec": {
   "display_name": "Python 3 (ipykernel)",
   "language": "python",
   "name": "python3"
  },
  "language_info": {
   "codemirror_mode": {
    "name": "ipython",
    "version": 3
   },
   "file_extension": ".py",
   "mimetype": "text/x-python",
   "name": "python",
   "nbconvert_exporter": "python",
   "pygments_lexer": "ipython3",
   "version": "3.9.7"
  }
 },
 "nbformat": 4,
 "nbformat_minor": 5
}
