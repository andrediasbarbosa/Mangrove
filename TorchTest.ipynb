{
 "cells": [
  {
   "cell_type": "markdown",
   "id": "97dffe1c",
   "metadata": {},
   "source": [
    "## Testing if anything works"
   ]
  },
  {
   "cell_type": "code",
   "execution_count": 1,
   "id": "55de0306",
   "metadata": {
    "ExecuteTime": {
     "end_time": "2021-09-17T19:20:14.465308Z",
     "start_time": "2021-09-17T19:20:12.968879Z"
    }
   },
   "outputs": [],
   "source": [
    "import torch"
   ]
  },
  {
   "cell_type": "code",
   "execution_count": 2,
   "id": "e0d17e8e",
   "metadata": {
    "ExecuteTime": {
     "end_time": "2021-09-17T19:20:14.477024Z",
     "start_time": "2021-09-17T19:20:14.467289Z"
    }
   },
   "outputs": [
    {
     "data": {
      "text/plain": [
       "tensor([[0.7231, 0.9458, 0.3537],\n",
       "        [0.3110, 0.5238, 0.2472],\n",
       "        [0.5184, 0.2037, 0.0413],\n",
       "        [0.2302, 0.9975, 0.1457],\n",
       "        [0.1866, 0.8451, 0.9453]])"
      ]
     },
     "execution_count": 2,
     "metadata": {},
     "output_type": "execute_result"
    }
   ],
   "source": [
    "torch.rand(5,3)"
   ]
  },
  {
   "cell_type": "code",
   "execution_count": 3,
   "id": "9f28343c",
   "metadata": {
    "ExecuteTime": {
     "end_time": "2021-09-17T19:20:17.432184Z",
     "start_time": "2021-09-17T19:20:16.877142Z"
    }
   },
   "outputs": [],
   "source": [
    "import torch_geometric as tg"
   ]
  },
  {
   "cell_type": "code",
   "execution_count": 4,
   "id": "15ca6546",
   "metadata": {
    "ExecuteTime": {
     "end_time": "2021-09-17T19:20:19.623588Z",
     "start_time": "2021-09-17T19:20:19.620144Z"
    }
   },
   "outputs": [],
   "source": [
    "from torch_geometric.data import Data\n",
    "\n",
    "edge_index = torch.tensor([[0, 1, 1, 2],\n",
    "                           [1, 0, 2, 1]], dtype=torch.long)\n",
    "x = torch.tensor([[-1], [0], [1]], dtype=torch.float)\n",
    "\n",
    "data = Data(x=x, edge_index=edge_index)"
   ]
  },
  {
   "cell_type": "code",
   "execution_count": 5,
   "id": "0585294a",
   "metadata": {
    "ExecuteTime": {
     "end_time": "2021-09-17T19:20:19.981507Z",
     "start_time": "2021-09-17T19:20:19.979091Z"
    }
   },
   "outputs": [],
   "source": [
    "disconnect=Data(x)"
   ]
  },
  {
   "cell_type": "code",
   "execution_count": 6,
   "id": "dc956119",
   "metadata": {
    "ExecuteTime": {
     "end_time": "2021-09-17T19:20:20.324375Z",
     "start_time": "2021-09-17T19:20:20.322675Z"
    }
   },
   "outputs": [],
   "source": [
    "# # Transfer data object to GPU.\n",
    "# device = torch.device('cuda')\n",
    "# data = data.to(device)"
   ]
  },
  {
   "cell_type": "markdown",
   "id": "21c0cb89",
   "metadata": {},
   "source": [
    "### Trying with data"
   ]
  },
  {
   "cell_type": "code",
   "execution_count": 7,
   "id": "359b55a7",
   "metadata": {
    "ExecuteTime": {
     "end_time": "2021-09-17T19:20:22.118803Z",
     "start_time": "2021-09-17T19:20:21.636059Z"
    }
   },
   "outputs": [],
   "source": [
    "from torch_geometric.datasets import TUDataset\n",
    "\n",
    "# dataset = TUDataset(root='data/TUDataset', name='ENZYMES')\n",
    "dataset = TUDataset(root='data/TUDataset', name='PROTEINS')"
   ]
  },
  {
   "cell_type": "code",
   "execution_count": 8,
   "id": "207647a0",
   "metadata": {
    "ExecuteTime": {
     "end_time": "2021-09-17T19:20:23.988104Z",
     "start_time": "2021-09-17T19:20:23.985996Z"
    },
    "scrolled": true
   },
   "outputs": [],
   "source": [
    "# for data in dataset:\n",
    "#     if data.y!=1:\n",
    "#         print('new class')"
   ]
  },
  {
   "cell_type": "code",
   "execution_count": 9,
   "id": "6d75bd02",
   "metadata": {
    "ExecuteTime": {
     "end_time": "2021-09-17T19:20:24.373509Z",
     "start_time": "2021-09-17T19:20:24.229483Z"
    }
   },
   "outputs": [
    {
     "name": "stdout",
     "output_type": "stream",
     "text": [
      "Batch(edge_index=[2, 22368], x=[5907, 3], y=[101], batch=[5907], ptr=[102])\n",
      "Batch(edge_index=[2, 21870], x=[5812, 3], y=[101], batch=[5812], ptr=[102])\n",
      "Batch(edge_index=[2, 22228], x=[5882, 3], y=[101], batch=[5882], ptr=[102])\n",
      "Batch(edge_index=[2, 16304], x=[4288, 3], y=[101], batch=[4288], ptr=[102])\n",
      "Batch(edge_index=[2, 17760], x=[4746, 3], y=[101], batch=[4746], ptr=[102])\n",
      "Batch(edge_index=[2, 13970], x=[3734, 3], y=[101], batch=[3734], ptr=[102])\n",
      "Batch(edge_index=[2, 14238], x=[3937, 3], y=[101], batch=[3937], ptr=[102])\n",
      "Batch(edge_index=[2, 8756], x=[2408, 3], y=[101], batch=[2408], ptr=[102])\n",
      "Batch(edge_index=[2, 9252], x=[2501, 3], y=[101], batch=[2501], ptr=[102])\n",
      "Batch(edge_index=[2, 8116], x=[2223, 3], y=[101], batch=[2223], ptr=[102])\n",
      "Batch(edge_index=[2, 7060], x=[1988, 3], y=[101], batch=[1988], ptr=[102])\n",
      "Batch(edge_index=[2, 166], x=[45, 3], y=[2], batch=[45], ptr=[3])\n"
     ]
    }
   ],
   "source": [
    "from torch_geometric.loader import DataLoader as DataL\n",
    "loader = DataL(dataset, batch_size=101, shuffle=0)\n",
    "#edge index dimensions, node feature dimensions, target variable dimension, batch dim, ptr=indices for splitting \n",
    "#graphs in batch\n",
    "for batch in loader:\n",
    "    print(batch)"
   ]
  },
  {
   "cell_type": "code",
   "execution_count": 10,
   "id": "b2b1ecca",
   "metadata": {
    "ExecuteTime": {
     "end_time": "2021-09-17T19:20:32.555481Z",
     "start_time": "2021-09-17T19:20:32.550698Z"
    }
   },
   "outputs": [
    {
     "data": {
      "text/plain": [
       "(tensor([ 0,  5, 45]),\n",
       " tensor([[1., 0., 0.],\n",
       "         [1., 0., 0.],\n",
       "         [0., 1., 0.],\n",
       "         [0., 1., 0.],\n",
       "         [0., 1., 0.],\n",
       "         [1., 0., 0.],\n",
       "         [1., 0., 0.],\n",
       "         [1., 0., 0.],\n",
       "         [1., 0., 0.],\n",
       "         [1., 0., 0.],\n",
       "         [1., 0., 0.],\n",
       "         [1., 0., 0.],\n",
       "         [1., 0., 0.],\n",
       "         [0., 0., 1.],\n",
       "         [0., 0., 1.],\n",
       "         [0., 0., 1.],\n",
       "         [0., 0., 1.],\n",
       "         [0., 0., 1.],\n",
       "         [0., 0., 1.],\n",
       "         [0., 0., 1.],\n",
       "         [0., 0., 1.],\n",
       "         [0., 0., 1.]]))"
      ]
     },
     "execution_count": 10,
     "metadata": {},
     "output_type": "execute_result"
    }
   ],
   "source": [
    "batch.ptr, batch.x[:22]"
   ]
  },
  {
   "cell_type": "code",
   "execution_count": 11,
   "id": "0f92f7a1",
   "metadata": {
    "ExecuteTime": {
     "end_time": "2021-09-17T19:20:33.442083Z",
     "start_time": "2021-09-17T19:20:33.213443Z"
    }
   },
   "outputs": [],
   "source": [
    "import torch.nn.functional as F\n",
    "from torch.nn import Linear\n",
    "from torch_geometric.nn import GCNConv, global_mean_pool\n",
    "\n",
    "class BaseGCN(torch.nn.Module):\n",
    "    def __init__(self):\n",
    "        super().__init__()\n",
    "        self.conv1 = GCNConv(dataset.num_node_features, 16)\n",
    "        self.conv2 = GCNConv(16, dataset.num_classes)\n",
    "\n",
    "    def forward(self, data):\n",
    "        x, edge_index = data.x, data.edge_index\n",
    "\n",
    "        x = self.conv1(x, edge_index)\n",
    "        x = F.relu(x)\n",
    "        x = F.dropout(x, training=self.training)\n",
    "        x = self.conv2(x, edge_index)\n",
    "        x = global_mean_pool(x, 101)\n",
    "        return F.log_softmax(x, dim=101)\n",
    "    \n",
    "# Define our GCN class as a pytorch Module\n",
    "class GCN(torch.nn.Module):\n",
    "    def __init__(self, hidden_channels):\n",
    "        super(GCN, self).__init__()\n",
    "        # We inherit from pytorch geometric's GCN class, and we initialize three layers\n",
    "        self.conv1 = GCNConv(dataset.num_node_features, hidden_channels)\n",
    "        self.conv2 = GCNConv(hidden_channels, hidden_channels)\n",
    "        self.conv3 = GCNConv(hidden_channels, hidden_channels)\n",
    "        # Our final linear layer will define our output\n",
    "        self.lin = Linear(hidden_channels, dataset.num_classes)\n",
    "        \n",
    "    def forward(self, x, edge_index, batch):\n",
    "      # 1. Obtain node embeddings \n",
    "      x = self.conv1(x, edge_index)\n",
    "      x = x.relu()\n",
    "      x = self.conv2(x, edge_index)\n",
    "      x = x.relu()\n",
    "      x = self.conv3(x, edge_index)   \n",
    " \n",
    "      # 2. Readout layer\n",
    "      x = global_mean_pool(x, batch)  # [batch_size, hidden_channels]\n",
    " \n",
    "      # 3. Apply a final classifier\n",
    "      x = F.dropout(x, p=0.5, training=self.training)\n",
    "      x = self.lin(x)\n",
    "      return x\n",
    "    \n",
    "model = GCN(hidden_channels=64)"
   ]
  },
  {
   "cell_type": "code",
   "execution_count": 12,
   "id": "03f3f2da",
   "metadata": {
    "ExecuteTime": {
     "end_time": "2021-09-17T19:20:33.900399Z",
     "start_time": "2021-09-17T19:20:33.897932Z"
    }
   },
   "outputs": [],
   "source": [
    "# device = torch.device('cuda' if torch.cuda.is_available() else 'cpu')\n",
    "# model = GCN(64).to(device)\n",
    "# # data = dataset.to(device)\n",
    "# optimizer = torch.optim.Adam(model.parameters(), lr=0.01, weight_decay=5e-4)\n",
    "\n",
    "# # model.train()\n",
    "# # for epoch in range(200):\n",
    "# #     for batch in loader:\n",
    "# #         optimizer.zero_grad()\n",
    "# #         out = model(batch)\n",
    "# #         loss = F.nll_loss(out, batch.y)\n",
    "# #         loss.backward()\n",
    "# #         optimizer.step()"
   ]
  },
  {
   "cell_type": "code",
   "execution_count": 13,
   "id": "4a21b813",
   "metadata": {
    "ExecuteTime": {
     "end_time": "2021-09-17T19:22:57.648045Z",
     "start_time": "2021-09-17T19:20:34.385732Z"
    }
   },
   "outputs": [
    {
     "name": "stdout",
     "output_type": "stream",
     "text": [
      "Epoch: 010, Train Acc: 0.7124, Test Acc: 0.6502\n",
      "Epoch: 020, Train Acc: 0.7045, Test Acc: 0.6592\n",
      "Epoch: 030, Train Acc: 0.7146, Test Acc: 0.6726\n",
      "Epoch: 040, Train Acc: 0.7079, Test Acc: 0.6457\n",
      "Epoch: 050, Train Acc: 0.7337, Test Acc: 0.6906\n",
      "Epoch: 060, Train Acc: 0.7135, Test Acc: 0.6547\n",
      "Epoch: 070, Train Acc: 0.7022, Test Acc: 0.6502\n",
      "Epoch: 080, Train Acc: 0.7337, Test Acc: 0.6771\n",
      "Epoch: 090, Train Acc: 0.7270, Test Acc: 0.6816\n",
      "Epoch: 100, Train Acc: 0.7124, Test Acc: 0.6682\n",
      "Epoch: 110, Train Acc: 0.7270, Test Acc: 0.6771\n",
      "Epoch: 120, Train Acc: 0.7124, Test Acc: 0.6682\n",
      "Epoch: 130, Train Acc: 0.7213, Test Acc: 0.6592\n",
      "Epoch: 140, Train Acc: 0.7169, Test Acc: 0.6592\n",
      "Epoch: 150, Train Acc: 0.7247, Test Acc: 0.6726\n",
      "Epoch: 160, Train Acc: 0.7247, Test Acc: 0.6726\n",
      "Epoch: 170, Train Acc: 0.7225, Test Acc: 0.6861\n",
      "Epoch: 180, Train Acc: 0.7247, Test Acc: 0.6726\n",
      "Epoch: 190, Train Acc: 0.7135, Test Acc: 0.6637\n",
      "Epoch: 200, Train Acc: 0.7315, Test Acc: 0.6906\n"
     ]
    }
   ],
   "source": [
    "criterion = torch.nn.CrossEntropyLoss()\n",
    "dataset = dataset.shuffle()\n",
    "test_data=dataset[int(len(dataset)*0.8):]\n",
    "train_data=dataset[:int(len(dataset)*0.8)]\n",
    "\n",
    "train_loader=DataL(train_data, batch_size=64, shuffle=1)\n",
    "test_loader=DataL(test_data, batch_size=64, shuffle=1)    \n",
    "optimizer = torch.optim.Adam(model.parameters(), lr=0.01)\n",
    "# Initialize our train function\n",
    "def train():\n",
    "    model.train()\n",
    " \n",
    "    for data in train_loader:  # Iterate in batches over the training dataset.\n",
    "        out = model(data.x, data.edge_index, data.batch)  # Perform a single forward pass.\n",
    "        loss = criterion(out, data.y)  # Compute the loss.\n",
    "        loss.backward()  # Derive gradients.\n",
    "        optimizer.step()  # Update parameters based on gradients.\n",
    "        optimizer.zero_grad()  # Clear gradients.\n",
    " # Define our test function\n",
    "def test(loader):\n",
    "    model.eval()\n",
    " \n",
    "    correct = 0\n",
    "    for data in loader:  # Iterate in batches over the training/test dataset.\n",
    "      out = model(data.x, data.edge_index, data.batch)  \n",
    "      pred = out.argmax(dim=1)  # Use the class with highest probability.\n",
    "      correct += int((pred == data.y).sum())  # Check against ground-truth labels.\n",
    "    return correct / len(loader.dataset)  # Derive ratio of correct predictions.\n",
    "tr_acc, te_acc=[],[]\n",
    "# Run for 200 epochs (range is exclusive in the upper bound)\n",
    "for epoch in range(200):\n",
    "    train()\n",
    "    train_acc = test(train_loader)\n",
    "    test_acc = test(test_loader)\n",
    "    tr_acc.append(train_acc)\n",
    "    te_acc.append(test_acc)\n",
    "    \n",
    "    if (epoch+1)%10==0:\n",
    "        print(f'Epoch: {epoch+1:03d}, Train Acc: {train_acc:.4f}, Test Acc: {test_acc:.4f}')\n"
   ]
  },
  {
   "cell_type": "code",
   "execution_count": 14,
   "id": "f2e5dcf6",
   "metadata": {
    "ExecuteTime": {
     "end_time": "2021-09-17T19:22:58.126618Z",
     "start_time": "2021-09-17T19:22:57.649719Z"
    }
   },
   "outputs": [
    {
     "data": {
      "text/plain": [
       "[<matplotlib.lines.Line2D at 0x7ffd0637a280>]"
      ]
     },
     "execution_count": 14,
     "metadata": {},
     "output_type": "execute_result"
    },
    {
     "data": {
      "image/png": "[encoded data removed]",
      "text/plain": [
       "<Figure size 432x288 with 1 Axes>"
      ]
     },
     "metadata": {
      "needs_background": "light"
     },
     "output_type": "display_data"
    }
   ],
   "source": [
    "import matplotlib.pyplot as plt\n",
    "plt.plot(tr_acc)\n",
    "plt.plot(te_acc)"
   ]
  },
  {
   "cell_type": "code",
   "execution_count": 15,
   "id": "61c46393",
   "metadata": {
    "ExecuteTime": {
     "end_time": "2021-09-17T19:22:58.132122Z",
     "start_time": "2021-09-17T19:22:58.128765Z"
    }
   },
   "outputs": [
    {
     "data": {
      "text/plain": [
       "(223, 890)"
      ]
     },
     "execution_count": 15,
     "metadata": {},
     "output_type": "execute_result"
    }
   ],
   "source": [
    "len(test_data), len(train_data) "
   ]
  },
  {
   "cell_type": "code",
   "execution_count": 16,
   "id": "90ed3fb9",
   "metadata": {
    "ExecuteTime": {
     "end_time": "2021-09-17T19:22:58.139985Z",
     "start_time": "2021-09-17T19:22:58.133693Z"
    }
   },
   "outputs": [
    {
     "data": {
      "text/plain": [
       "tensor(0.4043)"
      ]
     },
     "execution_count": 16,
     "metadata": {},
     "output_type": "execute_result"
    }
   ],
   "source": [
    "sum(test_data.data.y)/len(test_data.data.y)"
   ]
  },
  {
   "cell_type": "code",
   "execution_count": null,
   "id": "67918e77",
   "metadata": {},
   "outputs": [],
   "source": []
  }
 ],
 "metadata": {
  "hide_input": false,
  "kernelspec": {
   "display_name": "Python 3",
   "language": "python",
   "name": "python3"
  },
  "language_info": {
   "codemirror_mode": {
    "name": "ipython",
    "version": 3
   },
   "file_extension": ".py",
   "mimetype": "text/x-python",
   "name": "python",
   "nbconvert_exporter": "python",
   "pygments_lexer": "ipython3",
   "version": "3.8.8"
  }
 },
 "nbformat": 4,
 "nbformat_minor": 5
}
