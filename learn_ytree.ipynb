{
 "cells": [
  {
   "cell_type": "code",
   "execution_count": 1,
   "id": "b3a7fad4",
   "metadata": {},
   "outputs": [],
   "source": [
    "import ytree\n",
    "import numpy as np\n",
    "import matplotlib.pyplot as plt"
   ]
  },
  {
   "cell_type": "code",
   "execution_count": null,
   "id": "ca223505",
   "metadata": {},
   "outputs": [],
   "source": [
    "a=ytree.load('../../../../tigress/mcranmer/merger_trees/isotrees/isotree_0_0_0.dat')\n",
    "# fn=a.save_arbor()\n",
    "# a=ytree.load(fn)"
   ]
  },
  {
   "cell_type": "markdown",
   "id": "d918902f",
   "metadata": {},
   "source": [
    "Essentially, the arbor (forest) is given as a list of trees, so all usual list stuff works"
   ]
  },
  {
   "cell_type": "code",
   "execution_count": null,
   "id": "c5ad18e5",
   "metadata": {},
   "outputs": [],
   "source": [
    "a.size #total number of trees\n",
    "len(a) # same "
   ]
  },
  {
   "cell_type": "code",
   "execution_count": null,
   "id": "3d256742",
   "metadata": {
    "scrolled": true
   },
   "outputs": [],
   "source": [
    "tree=a[1000] #individual tree\n",
    "# help(tree['mass'])\n",
    "tree['mass'], tree.tree_size"
   ]
  },
  {
   "cell_type": "code",
   "execution_count": null,
   "id": "4aaedea5",
   "metadata": {
    "scrolled": true
   },
   "outputs": [],
   "source": [
    "#the trees themselves are generators, not lists\n",
    "for node in tree['tree']:\n",
    "    print(len(node['tree','mass']))"
   ]
  },
  {
   "cell_type": "code",
   "execution_count": null,
   "id": "d0cc1c5c",
   "metadata": {
    "scrolled": true
   },
   "outputs": [],
   "source": [
    "#or one can make it a list\n",
    "nodes=list(tree['tree']) #, mass/virial_radius/ "
   ]
  },
  {
   "cell_type": "code",
   "execution_count": null,
   "id": "2ccfc656",
   "metadata": {},
   "outputs": [],
   "source": [
    "# help(nodes[0])"
   ]
  },
  {
   "cell_type": "code",
   "execution_count": null,
   "id": "f458a42b",
   "metadata": {},
   "outputs": [],
   "source": [
    "list(nodes[0].ancestors) #direct ancestor of tree node"
   ]
  },
  {
   "cell_type": "code",
   "execution_count": null,
   "id": "5c14d028",
   "metadata": {},
   "outputs": [],
   "source": [
    "nodes[0]['mass'] #same as below"
   ]
  },
  {
   "cell_type": "code",
   "execution_count": null,
   "id": "e11cb899",
   "metadata": {},
   "outputs": [],
   "source": [
    "np.array(tree['mass'], dtype=np.float64) #get quantity w/o unit"
   ]
  },
  {
   "cell_type": "markdown",
   "id": "50381d9d",
   "metadata": {},
   "source": [
    "However it also has some generator functions that are somewhat like a dictionary but can't call .keys, it also has some attributes that can't be changed unless one makes a pointer to a new object"
   ]
  },
  {
   "cell_type": "code",
   "execution_count": null,
   "id": "cbb678a6",
   "metadata": {},
   "outputs": [],
   "source": [
    "m=a['mass']"
   ]
  },
  {
   "cell_type": "code",
   "execution_count": null,
   "id": "320b95ce",
   "metadata": {},
   "outputs": [],
   "source": [
    "m=np.log10(m, dtype=np.float64) #get quantity w/o unit but be careful! any numpy func leaves out the units"
   ]
  },
  {
   "cell_type": "code",
   "execution_count": null,
   "id": "7815d3b8",
   "metadata": {},
   "outputs": [],
   "source": [
    "plt.hist(m)"
   ]
  },
  {
   "cell_type": "code",
   "execution_count": null,
   "id": "34e2b62c",
   "metadata": {},
   "outputs": [],
   "source": [
    "a.box_size, a.box_size.to(\"unitary\") #information about subvolume in different units"
   ]
  },
  {
   "cell_type": "markdown",
   "id": "c167469e",
   "metadata": {},
   "source": [
    "Let's try plotting"
   ]
  },
  {
   "cell_type": "code",
   "execution_count": null,
   "id": "3994b1f1",
   "metadata": {},
   "outputs": [],
   "source": [
    "p = ytree.TreePlot(a[0], dot_kwargs={'rankdir': 'LR', 'size': '\"12,4\"'})"
   ]
  },
  {
   "cell_type": "code",
   "execution_count": null,
   "id": "19c2f712",
   "metadata": {},
   "outputs": [],
   "source": [
    "help(ytree.TreePlot)"
   ]
  },
  {
   "cell_type": "code",
   "execution_count": null,
   "id": "8c06793f",
   "metadata": {},
   "outputs": [],
   "source": []
  }
 ],
 "metadata": {
  "kernelspec": {
   "display_name": "Python 3 (ipykernel)",
   "language": "python",
   "name": "python3"
  },
  "language_info": {
   "codemirror_mode": {
    "name": "ipython",
    "version": 3
   },
   "file_extension": ".py",
   "mimetype": "text/x-python",
   "name": "python",
   "nbconvert_exporter": "python",
   "pygments_lexer": "ipython3",
   "version": "3.9.7"
  }
 },
 "nbformat": 4,
 "nbformat_minor": 5
}
