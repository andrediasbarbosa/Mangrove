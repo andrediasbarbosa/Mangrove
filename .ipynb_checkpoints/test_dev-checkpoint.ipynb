{
 "cells": [
  {
   "cell_type": "code",
   "execution_count": 1,
   "id": "b34bc22e",
   "metadata": {},
   "outputs": [],
   "source": [
    "import torch, pickle, time, os, random\n",
    "import numpy as np\n",
    "import matplotlib.pyplot as plt\n",
    "import torch_geometric as tg\n",
    "from torch_geometric.loader import DataLoader\n",
    "# accelerate huggingface to GPU\n",
    "if torch.cuda.is_available():\n",
    "    from accelerate import Accelerator\n",
    "    accelerator = Accelerator()\n",
    "    device = accelerator.device\n",
    "torch.manual_seed(42)\n",
    "random.seed(42)"
   ]
  },
  {
   "cell_type": "code",
   "execution_count": 6,
   "id": "dc5ddb58",
   "metadata": {},
   "outputs": [
    {
     "data": {
      "text/plain": [
       "['medium_beforeafter',\n",
       " 'medium_redshift_50_all',\n",
       " 'test_onlyhmass_smass',\n",
       " 'medium_redshift_80_all',\n",
       " 'test_cut',\n",
       " 'medium_all_q_diffbeforeafter',\n",
       " 'medium_all_smass',\n",
       " 'medium_onlyhmass_smass',\n",
       " 'medium_scaleonly_smass',\n",
       " 'test_beforeafter',\n",
       " 'test_all_smass',\n",
       " 'medium_redshift_15_all',\n",
       " 'transformers',\n",
       " 'medium_noinfonoedge_smass',\n",
       " 'medium_onlyedge_smass',\n",
       " 'medium_all_variance',\n",
       " 'medium_redshift_1_all',\n",
       " 'medium_all_q',\n",
       " 'medium_redshift_10_all',\n",
       " 'medium_all_final',\n",
       " 'test_variance',\n",
       " 'small_all_q_variancehalomass',\n",
       " 'medium_all_residual',\n",
       " 'medium_all',\n",
       " 'test',\n",
       " 'vlarge_all_robust_smass',\n",
       " 'test_final',\n",
       " 'med_all_residual',\n",
       " 'medium_redshift_25_all',\n",
       " 'vlarge_all_smass',\n",
       " 'one_all_q',\n",
       " 'test_redshift_scan',\n",
       " 'medium_all_finalhalo',\n",
       " 'test_dev',\n",
       " '105lim_all_smass',\n",
       " 'medium_redshift_5_all',\n",
       " 'small_all_q',\n",
       " 'testpy',\n",
       " 'medium_noinfo_smass',\n",
       " 'medium_hmassonly_smass']"
      ]
     },
     "execution_count": 6,
     "metadata": {},
     "output_type": "execute_result"
    }
   ],
   "source": [
    "os.listdir('../../../../scratch/gpfs/cj1223/GraphStorage/')"
   ]
  },
  {
   "cell_type": "code",
   "execution_count": 3,
   "id": "3f70e3c6",
   "metadata": {},
   "outputs": [],
   "source": [
    "# case='medium_hmassonly_smass'\n",
    "# case='medium_scaleonly_smass'\n",
    "### this didn't work as well as I initially thought, must have done something wrong, but still better than base\n",
    "# case='medium_onlyedge_smass' \n",
    "# case='medium_noinfo_smass' \n",
    "case='test_all_smass'\n",
    "\n",
    "data=pickle.load(open(f'../../../../scratch/gpfs/cj1223/GraphStorage/{case}/data.pkl', 'rb'))"
   ]
  },
  {
   "cell_type": "code",
   "execution_count": 4,
   "id": "ec7568fe",
   "metadata": {},
   "outputs": [
    {
     "name": "stdout",
     "output_type": "stream",
     "text": [
      "RelU conv activation\n"
     ]
    }
   ],
   "source": [
    "from importlib import reload\n",
    "import dev.train_script_cpu as c\n",
    "reload(c)\n",
    "# c.setup_model\n",
    "construct_dict={'model':'Sage',\n",
    "                'experiment':'test_dev',\n",
    "               'hyper_params':{'hidden_channels': 32}}\n",
    "model=c.setup_model(construct_dict, data)"
   ]
  },
  {
   "cell_type": "code",
   "execution_count": 5,
   "id": "35c664a0",
   "metadata": {},
   "outputs": [
    {
     "name": "stdout",
     "output_type": "stream",
     "text": [
      "Parameter containing:\n",
      "tensor([[-0.0128,  0.0633, -0.1335,  ..., -0.1354,  0.0285,  0.0348],\n",
      "        [-0.0059,  0.1462, -0.1008,  ..., -0.0748,  0.0765, -0.0946],\n",
      "        [ 0.0528,  0.1449,  0.1007,  ..., -0.0540,  0.0459,  0.0057],\n",
      "        ...,\n",
      "        [ 0.0292,  0.1281, -0.1145,  ...,  0.1073, -0.0889,  0.0430],\n",
      "        [ 0.0669, -0.0543,  0.0552,  ..., -0.0268,  0.0920,  0.0455],\n",
      "        [ 0.0966,  0.0398, -0.0334,  ..., -0.0955,  0.0412,  0.1046]],\n",
      "       requires_grad=True)\n",
      "Parameter containing:\n",
      "tensor([ 0.1387, -0.0172,  0.0587, -0.1211,  0.0813,  0.1457,  0.0794, -0.0603,\n",
      "         0.1243, -0.1444, -0.0183, -0.0378, -0.1521, -0.0870, -0.1111,  0.0410,\n",
      "        -0.0127,  0.0700, -0.0343,  0.1258,  0.0173,  0.1264,  0.1238, -0.1293,\n",
      "        -0.1024,  0.0919,  0.1441, -0.1302,  0.0022, -0.0586,  0.1436,  0.1267],\n",
      "       requires_grad=True)\n",
      "Parameter containing:\n",
      "tensor([[ 0.1110,  0.0821, -0.0143,  ...,  0.0680, -0.0183,  0.0050],\n",
      "        [ 0.0749, -0.0406, -0.0428,  ..., -0.0899,  0.1456, -0.0820],\n",
      "        [ 0.0590,  0.1224,  0.0550,  ...,  0.0609, -0.1138,  0.0591],\n",
      "        ...,\n",
      "        [-0.1456, -0.1429, -0.0246,  ...,  0.1200,  0.0349, -0.0076],\n",
      "        [ 0.0603,  0.0795, -0.1119,  ..., -0.1502, -0.0573,  0.0049],\n",
      "        [ 0.1355,  0.0318, -0.0280,  ...,  0.0656, -0.1389,  0.1438]],\n",
      "       requires_grad=True)\n",
      "Parameter containing:\n",
      "tensor([[ 0.0068,  0.1574,  0.0637,  ...,  0.0359, -0.1521,  0.0760],\n",
      "        [-0.1476, -0.1659, -0.0492,  ..., -0.0022,  0.0571,  0.1585],\n",
      "        [ 0.1041, -0.0852,  0.1661,  ...,  0.0811,  0.0125, -0.0283],\n",
      "        ...,\n",
      "        [-0.0201, -0.1446,  0.0251,  ..., -0.0713, -0.1146,  0.0487],\n",
      "        [-0.1484, -0.0363,  0.0098,  ..., -0.1072, -0.1172, -0.1061],\n",
      "        [ 0.0513,  0.1355,  0.0353,  ...,  0.1108,  0.1657,  0.0130]],\n",
      "       requires_grad=True)\n",
      "Parameter containing:\n",
      "tensor([-0.0134, -0.0153, -0.1714,  0.0314, -0.1403,  0.0159, -0.0420,  0.1124,\n",
      "        -0.0708,  0.1256, -0.0421, -0.0342, -0.1609,  0.1536,  0.0153, -0.1593,\n",
      "         0.0099,  0.0724, -0.0374,  0.1443,  0.0865, -0.0227,  0.1767,  0.1247,\n",
      "        -0.0217, -0.0153,  0.0543, -0.0616,  0.1088, -0.1701, -0.0947,  0.0810],\n",
      "       requires_grad=True)\n",
      "Parameter containing:\n",
      "tensor([[-0.1697, -0.0586, -0.0940,  ..., -0.1469, -0.1381, -0.1205],\n",
      "        [ 0.1138,  0.0346, -0.0985,  ..., -0.0937,  0.1417,  0.0399],\n",
      "        [ 0.0978,  0.0606,  0.1116,  ...,  0.1457, -0.0008,  0.1414],\n",
      "        ...,\n",
      "        [ 0.0904,  0.0642,  0.1145,  ...,  0.0388, -0.0693, -0.0819],\n",
      "        [-0.0860,  0.1134,  0.1336,  ...,  0.0795, -0.1248,  0.1571],\n",
      "        [-0.0141, -0.0839,  0.1141,  ..., -0.1757,  0.0728,  0.1192]],\n",
      "       requires_grad=True)\n",
      "Parameter containing:\n",
      "tensor([[-0.0419, -0.1543, -0.0084,  ...,  0.0233,  0.1651, -0.1718],\n",
      "        [-0.1671, -0.1626, -0.0869,  ...,  0.0095,  0.0173,  0.1677],\n",
      "        [-0.0744,  0.1546, -0.0733,  ...,  0.1580,  0.1324, -0.0251],\n",
      "        ...,\n",
      "        [ 0.1599, -0.0397,  0.0113,  ..., -0.0804, -0.1258, -0.0470],\n",
      "        [ 0.0571,  0.0412,  0.1404,  ..., -0.1063, -0.0427,  0.0834],\n",
      "        [-0.1211, -0.0044,  0.1432,  ...,  0.0416,  0.0874,  0.1047]],\n",
      "       requires_grad=True)\n",
      "Parameter containing:\n",
      "tensor([ 0.0712, -0.0418, -0.0543, -0.0975, -0.1573, -0.1350, -0.0673,  0.1665,\n",
      "        -0.1687, -0.1113, -0.1375, -0.1239,  0.1446, -0.1398, -0.1265, -0.1034,\n",
      "         0.0474, -0.0553, -0.1177,  0.1461,  0.0271, -0.1291, -0.0660,  0.1088,\n",
      "         0.0642, -0.1126, -0.0898, -0.0693,  0.0675, -0.1418,  0.1653,  0.0173],\n",
      "       requires_grad=True)\n",
      "Parameter containing:\n",
      "tensor([[ 0.0702,  0.0521,  0.1376,  ..., -0.0607,  0.1621, -0.0591],\n",
      "        [-0.0771,  0.0955, -0.0947,  ...,  0.0844,  0.0425,  0.0383],\n",
      "        [ 0.0832,  0.1044, -0.1159,  ...,  0.1419, -0.0073, -0.0862],\n",
      "        ...,\n",
      "        [ 0.0061,  0.0153,  0.1542,  ...,  0.1205, -0.0599,  0.1427],\n",
      "        [-0.0550, -0.0661, -0.1301,  ...,  0.1247, -0.1119, -0.1278],\n",
      "        [ 0.0729,  0.1159, -0.0481,  ..., -0.1038, -0.1687,  0.0112]],\n",
      "       requires_grad=True)\n",
      "Parameter containing:\n",
      "tensor([1., 1., 1., 1., 1., 1., 1., 1., 1., 1., 1., 1., 1., 1., 1., 1., 1., 1.,\n",
      "        1., 1., 1., 1., 1., 1., 1., 1., 1., 1., 1., 1., 1., 1.],\n",
      "       requires_grad=True)\n",
      "Parameter containing:\n",
      "tensor([0., 0., 0., 0., 0., 0., 0., 0., 0., 0., 0., 0., 0., 0., 0., 0., 0., 0., 0., 0., 0., 0., 0., 0.,\n",
      "        0., 0., 0., 0., 0., 0., 0., 0.], requires_grad=True)\n",
      "Parameter containing:\n",
      "tensor([[ 0.1692, -0.0586, -0.0341,  0.1245,  0.1573,  0.0480,  0.0140,  0.1729,\n",
      "          0.1480, -0.1125, -0.1233, -0.0406,  0.0701, -0.1082, -0.0757,  0.0147,\n",
      "         -0.0447,  0.1186,  0.1120,  0.1217,  0.0940, -0.1023, -0.1361, -0.1188,\n",
      "         -0.0226,  0.1389, -0.0393,  0.1627,  0.1319, -0.1678,  0.0816, -0.0746]],\n",
      "       requires_grad=True)\n",
      "Parameter containing:\n",
      "tensor([-0.1686], requires_grad=True)\n"
     ]
    }
   ],
   "source": [
    "for i in model.parameters():\n",
    "    print(i)"
   ]
  },
  {
   "cell_type": "code",
   "execution_count": 7,
   "id": "ea015b70",
   "metadata": {},
   "outputs": [
    {
     "data": {
      "text/plain": [
       "(1,\n",
       " 769,\n",
       " 43,\n",
       " 1,\n",
       " 32,\n",
       " ModuleList(\n",
       "   (0): SAGEConv(43, 32)\n",
       "   (1): SAGEConv(32, 32)\n",
       "   (2): SAGEConv(32, 32)\n",
       " ))"
      ]
     },
     "execution_count": 7,
     "metadata": {},
     "output_type": "execute_result"
    }
   ],
   "source": [
    "len(np.array([data[0].y])), len(data), model.in_channels, model.out_channels, model.hidden_channels, model.convs"
   ]
  },
  {
   "cell_type": "code",
   "execution_count": 8,
   "id": "78e0a576",
   "metadata": {},
   "outputs": [],
   "source": [
    "# import torch.nn.functional as F\n",
    "# from torch.nn import Linear, BatchNorm1d, LayerNorm\n",
    "# from torch_geometric.nn import SAGEConv, global_mean_pool, norm, global_max_pool, global_add_pool\n",
    "\n",
    "\n",
    "# class GCN(torch.nn.Module):\n",
    "#     def __init__(self, hidden_channels, nlin=3):\n",
    "#         super(GCN, self).__init__()\n",
    "        \n",
    "#         self.conv1 = SAGEConv(data[0].num_node_features, hidden_channels) ##use meta-layer\n",
    "#         ## https://pytorch-geometric.readthedocs.io/en/latest/modules/nn.html#torch_geometric.nn.meta.MetaLayer\n",
    "#         self.conv2 = SAGEConv(hidden_channels, hidden_channels)\n",
    "#         self.conv3 = SAGEConv(hidden_channels, hidden_channels)\n",
    "#         self.conv4 = SAGEConv(hidden_channels, hidden_channels)\n",
    "# #         self.conv5 = SAGEConv(hidden_channels, hidden_channels)\n",
    "        \n",
    "        \n",
    "#         # Our final linear layer will define our output\n",
    "#         self.norm = LayerNorm(normalized_shape=hidden_channels) # layer_norm instead\n",
    "#         self.lin1 = Linear(hidden_channels, 1)\n",
    "        \n",
    "#     def forward(self, x, edge_index, batch):\n",
    "#         # 1. Obtain node embeddings \n",
    "#         x = self.conv1(x, edge_index)\n",
    "#         x = x.relu()\n",
    "#         x = self.conv2(x, edge_index)\n",
    "#         x = x.relu()\n",
    "#         x = self.conv3(x, edge_index)\n",
    "#         x = x.relu()\n",
    "#         x = self.conv4(x, edge_index)\n",
    "#         x = x.relu()\n",
    "# #         x = self.conv5(x, edge_index)\n",
    "# #         x = x.relu()\n",
    "#         x = global_add_pool(x, batch)  ## Miles says use sumpool\n",
    "# #         x = self.norm(x)\n",
    "# #         x = self.lin1(x)\n",
    "\n",
    "#         x = self.lin1(self.norm(x))\n",
    "# #         x=self.lin1(x)\n",
    "#         return x\n",
    "    \n",
    "# model = GCN(hidden_channels=32)\n",
    "# next(model.parameters()).is_cuda ##check number one"
   ]
  },
  {
   "cell_type": "code",
   "execution_count": 9,
   "id": "409bd9e8",
   "metadata": {},
   "outputs": [
    {
     "data": {
      "text/plain": [
       "Sage(\n",
       "  (convs): ModuleList(\n",
       "    (0): SAGEConv(43, 32)\n",
       "    (1): SAGEConv(32, 32)\n",
       "    (2): SAGEConv(32, 32)\n",
       "  )\n",
       "  (decode): Sequential(\n",
       "    (0): LayerNorm((32,), eps=1e-05, elementwise_affine=True)\n",
       "    (1): Linear(in_features=32, out_features=1, bias=True)\n",
       "  )\n",
       "  (conv_act): ReLU()\n",
       ")"
      ]
     },
     "execution_count": 9,
     "metadata": {},
     "output_type": "execute_result"
    }
   ],
   "source": [
    "model"
   ]
  },
  {
   "cell_type": "code",
   "execution_count": 10,
   "id": "d86c2310",
   "metadata": {},
   "outputs": [],
   "source": [
    "criterion = torch.nn.MSELoss()\n",
    "n_epochs=50\n",
    "n_trials=1\n",
    "batch_size=128\n",
    "split=0.8\n",
    "test_data=data[int(len(data)*split):]\n",
    "train_data=data[:int(len(data)*split)]"
   ]
  },
  {
   "cell_type": "code",
   "execution_count": 11,
   "id": "154b04b1",
   "metadata": {},
   "outputs": [
    {
     "name": "stdout",
     "output_type": "stream",
     "text": [
      "GPU  False\n",
      "Epoch: 002, Train scatter: 0.9408, Test scatter: 0.9934\n",
      "Epoch: 004, Train scatter: 0.9065, Test scatter: 0.8910\n",
      "Epoch: 006, Train scatter: 0.8555, Test scatter: 0.8966\n",
      "Epoch: 008, Train scatter: 0.7634, Test scatter: 0.8353\n",
      "Epoch: 010, Train scatter: 0.6096, Test scatter: 0.7664\n",
      "Epoch: 012, Train scatter: 0.4671, Test scatter: 0.4352\n",
      "Epoch: 014, Train scatter: 0.3710, Test scatter: 0.3406\n",
      "Epoch: 016, Train scatter: 0.3280, Test scatter: 0.2984\n",
      "Epoch: 018, Train scatter: 0.2921, Test scatter: 0.3103\n",
      "Epoch: 020, Train scatter: 0.2701, Test scatter: 0.2942\n",
      "Epoch: 022, Train scatter: 0.2535, Test scatter: 0.2735\n",
      "Epoch: 024, Train scatter: 0.2405, Test scatter: 0.2906\n",
      "Epoch: 026, Train scatter: 0.2277, Test scatter: 0.2513\n",
      "Epoch: 028, Train scatter: 0.2145, Test scatter: 0.2520\n",
      "Epoch: 030, Train scatter: 0.2066, Test scatter: 0.2461\n",
      "Epoch: 032, Train scatter: 0.1992, Test scatter: 0.2437\n",
      "Epoch: 034, Train scatter: 0.1990, Test scatter: 0.2296\n",
      "Epoch: 036, Train scatter: 0.2005, Test scatter: 0.2618\n",
      "Epoch: 038, Train scatter: 0.1853, Test scatter: 0.2402\n",
      "Epoch: 040, Train scatter: 0.1767, Test scatter: 0.2287\n",
      "Epoch: 042, Train scatter: 0.1747, Test scatter: 0.2328\n",
      "Epoch: 044, Train scatter: 0.2164, Test scatter: 0.2598\n",
      "Epoch: 046, Train scatter: 0.1901, Test scatter: 0.2088\n",
      "Epoch: 048, Train scatter: 0.1615, Test scatter: 0.2157\n",
      "Epoch: 050, Train scatter: 0.1878, Test scatter: 0.2083\n",
      "21.93 seconds spent training, 0.439 seconds per epoch. Processed 1403 trees per second\n"
     ]
    }
   ],
   "source": [
    "trains, tests, scatter = [], [], []\n",
    "yss, preds=[],[]\n",
    "for _ in range(n_trials):\n",
    "#     model = GCN(hidden_channels=32)\n",
    "    train_loader=DataLoader(train_data, batch_size=batch_size, shuffle=1)\n",
    "    test_loader=DataLoader(test_data, batch_size=batch_size, shuffle=0)    \n",
    "    optimizer = torch.optim.Adam(model.parameters(), lr=0.003)\n",
    "#     _, _, test_loader = accelerator.prepare(model, optimizer, test_loader)\n",
    "#     model, optimizer, train_loader = accelerator.prepare(model, optimizer, train_loader)\n",
    "    print('GPU ', next(model.parameters()).is_cuda)\n",
    "    # Initialize our train function\n",
    "    def train():\n",
    "        model.train()\n",
    "\n",
    "        for data in train_loader:  \n",
    "            out = model(data.x, data.edge_index, data.batch)  \n",
    "            loss = criterion(out, data.y.view(-1,1)) \n",
    "            loss.backward()\n",
    "#             accelerator.backward(loss)\n",
    "            optimizer.step() \n",
    "            optimizer.zero_grad() \n",
    "     # test function\n",
    "    def test(loader):\n",
    "        model.eval()\n",
    "\n",
    "        correct = 0\n",
    "        for dat in loader: \n",
    "            out = model(dat.x, dat.edge_index, dat.batch) \n",
    "            correct += (torch.square(out - dat.y.view(-1,1))).sum() \n",
    "        return correct / len(loader.dataset) \n",
    "    tr_acc, te_acc=[],[]\n",
    "    start=time.time()\n",
    "    for epoch in range(n_epochs):\n",
    "        train()\n",
    "\n",
    "        if (epoch+1)%2==0:\n",
    "            train_acc = test(train_loader).cpu().detach().numpy()\n",
    "            test_acc = test(test_loader).cpu().detach().numpy()\n",
    "            tr_acc.append(np.sqrt(train_acc))\n",
    "            te_acc.append(np.sqrt(test_acc))\n",
    "            print(f'Epoch: {epoch+1:03d}, Train scatter: {np.sqrt(train_acc):.4f}, Test scatter: {np.sqrt(test_acc):.4f}')\n",
    "    stop=time.time()\n",
    "    spent=stop-start\n",
    "    tests.append(te_acc)\n",
    "    trains.append(tr_acc)\n",
    "    print(f\"{spent:.2f} seconds spent training, {spent/n_epochs:.3f} seconds per epoch. Processed {len(data)*split*n_epochs/spent:.0f} trees per second\")\n",
    "    ys, pred=[],[]\n",
    "    def test(loader):\n",
    "        model.eval()\n",
    "\n",
    "        correct = 0\n",
    "        for dat in loader: \n",
    "            out = model(dat.x, dat.edge_index, dat.batch) \n",
    "            pred.append(out.view(1,-1).cpu().detach().numpy())\n",
    "            ys.append(np.array(dat.y.cpu())) \n",
    "    test(test_loader)\n",
    "    ys=np.hstack(ys)\n",
    "    pred=np.hstack(pred)[0]\n",
    "    scatter.append(np.std(ys-pred))\n",
    "    yss.append(ys)\n",
    "    preds.append(pred)"
   ]
  },
  {
   "cell_type": "code",
   "execution_count": 14,
   "id": "6bef4187",
   "metadata": {},
   "outputs": [
    {
     "data": {
      "text/plain": [
       "array(0.2082725, dtype=float32)"
      ]
     },
     "execution_count": 14,
     "metadata": {},
     "output_type": "execute_result"
    }
   ],
   "source": [
    "def test(loader):\n",
    "    model.eval()\n",
    "\n",
    "    correct = 0\n",
    "    for dat in loader: \n",
    "        out = model(dat.x, dat.edge_index, dat.batch) \n",
    "        correct += torch.sum(torch.square(out - dat.y.view(-1,1)))\n",
    "    return torch.sqrt(correct/len(loader.dataset)).cpu().detach().numpy()\n",
    "test(test_loader)"
   ]
  },
  {
   "cell_type": "code",
   "execution_count": null,
   "id": "c3927156",
   "metadata": {},
   "outputs": [],
   "source": []
  },
  {
   "cell_type": "code",
   "execution_count": 15,
   "id": "fccc7d2f",
   "metadata": {},
   "outputs": [
    {
     "data": {
      "text/plain": [
       "(154, 2)"
      ]
     },
     "execution_count": 15,
     "metadata": {},
     "output_type": "execute_result"
    }
   ],
   "source": [
    "len(test_loader.dataset), len(test_loader)"
   ]
  },
  {
   "cell_type": "code",
   "execution_count": 16,
   "id": "a2dbcf6b",
   "metadata": {},
   "outputs": [
    {
     "data": {
      "text/plain": [
       "device(type='cpu')"
      ]
     },
     "execution_count": 16,
     "metadata": {},
     "output_type": "execute_result"
    }
   ],
   "source": [
    "from torch.nn import ReLU as relu\n",
    "x=relu()(torch.tensor(-1))\n",
    "x.device"
   ]
  },
  {
   "cell_type": "code",
   "execution_count": 17,
   "id": "e5e20ef7",
   "metadata": {},
   "outputs": [
    {
     "name": "stdout",
     "output_type": "stream",
     "text": [
      "RelU conv activation\n"
     ]
    }
   ],
   "source": [
    "conv_activation='relu'\n",
    "def conv_act_f():\n",
    "    if conv_activation =='relu':\n",
    "        print('RelU conv activation')\n",
    "#         act = ReLU()\n",
    "        act = relu()\n",
    "        return act\n",
    "    if conv_activation =='leakyrelu':\n",
    "        print('LeakyRelU conv activation')\n",
    "        act=LeakyReLU()\n",
    "        return act\n",
    "    if not conv_activation:\n",
    "        raise ValueError(\"Please specify a conv activation function\")\n",
    "act=conv_act_f()\n"
   ]
  },
  {
   "cell_type": "code",
   "execution_count": 18,
   "id": "9e684b3d",
   "metadata": {},
   "outputs": [
    {
     "data": {
      "text/plain": [
       "(ReLU(), ReLU())"
      ]
     },
     "execution_count": 18,
     "metadata": {},
     "output_type": "execute_result"
    }
   ],
   "source": [
    "relu(), act"
   ]
  },
  {
   "cell_type": "code",
   "execution_count": 19,
   "id": "2168f6d6",
   "metadata": {},
   "outputs": [
    {
     "data": {
      "text/plain": [
       "ReLU()"
      ]
     },
     "execution_count": 19,
     "metadata": {},
     "output_type": "execute_result"
    }
   ],
   "source": [
    "model.conv_act"
   ]
  },
  {
   "cell_type": "code",
   "execution_count": 20,
   "id": "81c7b469",
   "metadata": {},
   "outputs": [
    {
     "name": "stdout",
     "output_type": "stream",
     "text": [
      "None\n"
     ]
    }
   ],
   "source": [
    "a='relu'\n",
    "a=None\n",
    "if not a:\n",
    "    print(a)"
   ]
  },
  {
   "cell_type": "code",
   "execution_count": 21,
   "id": "d2ddc2e5",
   "metadata": {},
   "outputs": [
    {
     "data": {
      "text/plain": [
       "[1, 6, torch.nn.modules.container.Sequential]"
      ]
     },
     "execution_count": 21,
     "metadata": {},
     "output_type": "execute_result"
    }
   ],
   "source": [
    "[1]+[np.array(3)*2]+[torch.nn.Sequential]"
   ]
  },
  {
   "cell_type": "code",
   "execution_count": 22,
   "id": "d2a209af",
   "metadata": {},
   "outputs": [
    {
     "data": {
      "text/plain": [
       "0.2082725"
      ]
     },
     "execution_count": 22,
     "metadata": {},
     "output_type": "execute_result"
    }
   ],
   "source": [
    "np.min(tests)"
   ]
  },
  {
   "cell_type": "code",
   "execution_count": 23,
   "id": "d75ab5ce",
   "metadata": {},
   "outputs": [
    {
     "data": {
      "text/plain": [
       "<matplotlib.legend.Legend at 0x2b6a5a93d5e0>"
      ]
     },
     "execution_count": 23,
     "metadata": {},
     "output_type": "execute_result"
    },
    {
     "data": {
      "image/png": "[encoded data removed]",
      "text/plain": [
       "<Figure size 432x288 with 1 Axes>"
      ]
     },
     "metadata": {
      "needs_background": "light"
     },
     "output_type": "display_data"
    }
   ],
   "source": [
    "plt.plot(tr_acc, label='train loss')\n",
    "plt.plot(te_acc, label='test loss')\n",
    "plt.xscale('log')\n",
    "plt.yscale('log')\n",
    "plt.legend()"
   ]
  },
  {
   "cell_type": "code",
   "execution_count": 104,
   "id": "b840398b",
   "metadata": {},
   "outputs": [],
   "source": [
    "import torch_scatter as s\n",
    "def test(loader):\n",
    "    ys, pred,xs, Mh=[],[],[], []\n",
    "    model.eval()\n",
    "    for dat in loader: \n",
    "        out = model(dat.x, dat.edge_index, dat.batch) \n",
    "        pred.append(out.view(1,-1).cpu().detach().numpy())\n",
    "        ys.append(np.array(dat.y.cpu())) \n",
    "        u, counts = np.unique(dat.batch, return_counts=1)\n",
    "        xs.append(list(torch.tensor_split(dat.x, torch.cumsum(torch.tensor(counts[:-1]),0))))\n",
    "        ## compile lists\n",
    "        ys=np.hstack(ys)\n",
    "        pred=np.hstack(pred)[0]\n",
    "        xs=np.hstack(xs)\n",
    "        xn=[]\n",
    "        for x in xs:\n",
    "            xn.append(x.cpu().detach().numpy())\n",
    "            Mh.append(x.cpu().detach().numpy()[0][3])\n",
    "        return ys,pred,xn, Mh"
   ]
  },
  {
   "cell_type": "code",
   "execution_count": 105,
   "id": "c3d15adc",
   "metadata": {},
   "outputs": [],
   "source": [
    "y, pr, x, Mh = test(test_loader)"
   ]
  },
  {
   "cell_type": "code",
   "execution_count": 108,
   "id": "ddc0bb91",
   "metadata": {},
   "outputs": [
    {
     "data": {
      "text/plain": [
       "((128,), (128,), (128,), (128,))"
      ]
     },
     "execution_count": 108,
     "metadata": {},
     "output_type": "execute_result"
    }
   ],
   "source": [
    "np.shape(x), np.shape(x), np.shape(y) , np.shape(Mh)"
   ]
  },
  {
   "cell_type": "code",
   "execution_count": 109,
   "id": "4bee0e6c",
   "metadata": {},
   "outputs": [
    {
     "data": {
      "text/plain": [
       "[Text(0.5, 1.0, 'Residuals, scatter is 0.208'),\n",
       " Text(0.5, 0, 'log10(M_stellar)_true-log10(M_stellar)_predicted'),\n",
       " Text(0, 0.5, 'N')]"
      ]
     },
     "execution_count": 109,
     "metadata": {},
     "output_type": "execute_result"
    },
    {
     "data": {
      "image/png": "[encoded data removed]",
      "text/plain": [
       "<Figure size 648x864 with 2 Axes>"
      ]
     },
     "metadata": {
      "needs_background": "light"
     },
     "output_type": "display_data"
    }
   ],
   "source": [
    "fig, ax= plt.subplots(2, figsize=(9,12))\n",
    "bins=50\n",
    "ax[0].hist(ys, bins=bins, range=(np.percentile(np.hstack([ys,pred]), [1,99])), label='true',  histtype='step')\n",
    "ax[0].hist(pred, bins=bins, range=(np.percentile(np.hstack([ys,pred]), [1,99])), label='pred', histtype='step')\n",
    "ax[1].hist((ys-pred), bins=bins,range=(np.percentile(ys-pred, [1,99])),  histtype='step', label='residuals');\n",
    "ax[0].legend()\n",
    "ax[1].legend()\n",
    "ax[0].set(title='Predicted/true stellar mass', xlabel='log10(M_stellar)', ylabel='N')\n",
    "ax[1].set(title=f'Residuals, scatter is {np.std(ys-pred):.3f}',xlabel='log10(M_stellar)_true-log10(M_stellar)_predicted', ylabel='N')"
   ]
  },
  {
   "cell_type": "code",
   "execution_count": 113,
   "id": "be2fb326",
   "metadata": {
    "scrolled": false
   },
   "outputs": [
    {
     "data": {
      "text/plain": [
       "<matplotlib.legend.Legend at 0x2b6b2a2c3fa0>"
      ]
     },
     "execution_count": 113,
     "metadata": {},
     "output_type": "execute_result"
    },
    {
     "data": {
      "image/png": "[encoded data removed]",
      "text/plain": [
       "<Figure size 432x432 with 1 Axes>"
      ]
     },
     "metadata": {
      "needs_background": "light"
     },
     "output_type": "display_data"
    }
   ],
   "source": [
    "fig, ax =plt.subplots(figsize=(6,6))\n",
    "ax.plot(ys,pred, 'ro')\n",
    "ax.plot([min(ys),max(ys)],[min(ys),max(ys)], 'k--', label='Perfect correspondance')\n",
    "ax.set(xlabel='SAM Truth',ylabel='GNN Prediction', title='True/predicted correlation')\n",
    "yhat=r'$\\hat{y}$'\n",
    "ax.text(0.6,0.15, f'Bias (mean(y-{yhat})) : {np.mean(ys-pred):.3f}', transform=ax.transAxes)\n",
    "ax.text(0.6,0.1, r'$\\sigma$ :  '+f'{np.std(ys-pred):.3f}', transform=ax.transAxes)\n",
    "ax.legend()"
   ]
  },
  {
   "cell_type": "code",
   "execution_count": 83,
   "id": "a47be80f",
   "metadata": {},
   "outputs": [
    {
     "data": {
      "text/plain": [
       "<matplotlib.legend.Legend at 0x2b6b2965bbe0>"
      ]
     },
     "execution_count": 83,
     "metadata": {},
     "output_type": "execute_result"
    },
    {
     "data": {
      "image/png": "[encoded data removed]",
      "text/plain": [
       "<Figure size 864x648 with 2 Axes>"
      ]
     },
     "metadata": {
      "needs_background": "light"
     },
     "output_type": "display_data"
    }
   ],
   "source": [
    "fig, ax =plt.subplots(figsize=(12,9))\n",
    "h = ax.hist2d(ys,pred, bins=20, range=[np.percentile(ys, [1,99]),np.percentile(pred, [1,99])])\n",
    "fig.colorbar(h[3], ax=ax)\n",
    "ax.plot([min(ys),max(ys)],[min(ys),max(ys)], 'k--', label='Perfect correspondance')\n",
    "ax.set(xlabel='SAM Truth',ylabel='GNN Prediction', title='True/predicted corr')\n",
    "ax.legend()"
   ]
  },
  {
   "cell_type": "code",
   "execution_count": 114,
   "id": "bf45a39a",
   "metadata": {},
   "outputs": [
    {
     "ename": "NameError",
     "evalue": "name 'xes' is not defined",
     "output_type": "error",
     "traceback": [
      "\u001b[0;31m---------------------------------------------------------------------------\u001b[0m",
      "\u001b[0;31mNameError\u001b[0m                                 Traceback (most recent call last)",
      "\u001b[0;32m/tmp/ipykernel_31959/157028899.py\u001b[0m in \u001b[0;36m<module>\u001b[0;34m\u001b[0m\n\u001b[1;32m      1\u001b[0m \u001b[0mMh\u001b[0m\u001b[0;34m=\u001b[0m\u001b[0;34m[\u001b[0m\u001b[0;34m]\u001b[0m\u001b[0;34m\u001b[0m\u001b[0;34m\u001b[0m\u001b[0m\n\u001b[0;32m----> 2\u001b[0;31m \u001b[0;32mfor\u001b[0m \u001b[0mx\u001b[0m \u001b[0;32min\u001b[0m \u001b[0mxes\u001b[0m\u001b[0;34m:\u001b[0m\u001b[0;34m\u001b[0m\u001b[0;34m\u001b[0m\u001b[0m\n\u001b[0m\u001b[1;32m      3\u001b[0m     \u001b[0mMh\u001b[0m\u001b[0;34m.\u001b[0m\u001b[0mappend\u001b[0m\u001b[0;34m(\u001b[0m\u001b[0mx\u001b[0m\u001b[0;34m[\u001b[0m\u001b[0;36m0\u001b[0m\u001b[0;34m,\u001b[0m\u001b[0;36m3\u001b[0m\u001b[0;34m]\u001b[0m\u001b[0;34m)\u001b[0m\u001b[0;34m\u001b[0m\u001b[0;34m\u001b[0m\u001b[0m\n\u001b[1;32m      4\u001b[0m \u001b[0mplt\u001b[0m\u001b[0;34m.\u001b[0m\u001b[0mplot\u001b[0m\u001b[0;34m(\u001b[0m\u001b[0mMh\u001b[0m\u001b[0;34m,\u001b[0m \u001b[0mpred\u001b[0m\u001b[0;34m,\u001b[0m \u001b[0;34m'o'\u001b[0m\u001b[0;34m,\u001b[0m \u001b[0mmarkersize\u001b[0m\u001b[0;34m=\u001b[0m\u001b[0;36m1\u001b[0m\u001b[0;34m)\u001b[0m\u001b[0;34m\u001b[0m\u001b[0;34m\u001b[0m\u001b[0m\n",
      "\u001b[0;31mNameError\u001b[0m: name 'xes' is not defined"
     ]
    }
   ],
   "source": [
    "Mh=[]\n",
    "for x in xes:\n",
    "    Mh.append(x[0,3])\n",
    "plt.plot(Mh, pred, 'o', markersize=1) "
   ]
  },
  {
   "cell_type": "code",
   "execution_count": null,
   "id": "b7ae3964",
   "metadata": {},
   "outputs": [],
   "source": []
  },
  {
   "cell_type": "code",
   "execution_count": null,
   "id": "8a8b7de3",
   "metadata": {},
   "outputs": [],
   "source": [
    "x,y=[], []\n",
    "for d in data:\n",
    "    x.append(d.x[0,3].numpy())\n",
    "    y.append(d.y.numpy())    "
   ]
  },
  {
   "cell_type": "code",
   "execution_count": null,
   "id": "6e412224",
   "metadata": {},
   "outputs": [],
   "source": [
    "plt.plot(x, y, 'o', markersize=1) "
   ]
  },
  {
   "cell_type": "code",
   "execution_count": null,
   "id": "9fab1e39",
   "metadata": {},
   "outputs": [],
   "source": [
    "## remember to validate that test/val/train are actually comparable\n",
    "## create toy problem (predict variance of all halo masses eg, verifying that in takes into account edges)\n",
    "## same, predict average of the difference of post-merge halo and pre merger halos\n",
    "\n",
    "## try different pools"
   ]
  },
  {
   "cell_type": "code",
   "execution_count": 115,
   "id": "49a1492e",
   "metadata": {},
   "outputs": [],
   "source": [
    "xte, yte, lte = [], [], []\n",
    "for d in test_data:\n",
    "    xte.append(d.x.numpy()[0,3])\n",
    "    yte.append(d.y.numpy())    \n",
    "    lte.append(np.log10(len(d.x.numpy()))   ) \n",
    "yte=np.vstack(yte)"
   ]
  },
  {
   "cell_type": "code",
   "execution_count": 116,
   "id": "fb021061",
   "metadata": {},
   "outputs": [],
   "source": [
    "xtr, ytr, ltr = [], [], []\n",
    "for d in train_data:\n",
    "    xtr.append(d.x.numpy()[0,3])\n",
    "    ytr.append(d.y.numpy())    \n",
    "    ltr.append(np.log10(len(d.x.numpy()))   ) \n",
    "ytr=np.vstack(ytr)"
   ]
  },
  {
   "cell_type": "code",
   "execution_count": 117,
   "id": "4ca9df90",
   "metadata": {},
   "outputs": [
    {
     "data": {
      "image/png": "[encoded data removed]",
      "text/plain": [
       "<Figure size 864x864 with 3 Axes>"
      ]
     },
     "metadata": {
      "needs_background": "light"
     },
     "output_type": "display_data"
    }
   ],
   "source": [
    "bins=20\n",
    "fig, ax = plt.subplots(3, figsize=(12,12))\n",
    "ax[0].hist(xtr, bins=bins, histtype='step', density=1, label='train')\n",
    "ax[0].hist(xte, bins=bins, histtype='step', density=1, label='test')\n",
    "ax[0].set(xlabel='Final halo mass')\n",
    "\n",
    "ax[1].hist(ytr, bins=bins, histtype='step', density=1, label='train')\n",
    "ax[1].hist(yte, bins=bins, histtype='step', density=1, label='test')\n",
    "ax[1].set(xlabel='Stellar mass')\n",
    "\n",
    "ax[2].hist(ltr, bins=bins, histtype='step', density=1, label='train')\n",
    "ax[2].hist(lte, bins=bins, histtype='step', density=1, label='test');\n",
    "ax[2].set(xlabel='log10(Tree length)')\n",
    "\n",
    "for a in ax:\n",
    "    a.set(yscale='log')\n",
    "    a.legend()"
   ]
  },
  {
   "cell_type": "code",
   "execution_count": 118,
   "id": "4e45fe1e",
   "metadata": {},
   "outputs": [],
   "source": [
    "summarydict={'x': xte,\n",
    "            'y': ytr}"
   ]
  },
  {
   "cell_type": "code",
   "execution_count": 122,
   "id": "262e5fc9",
   "metadata": {},
   "outputs": [
    {
     "data": {
      "text/plain": [
       "((615, 154), (615, 1))"
      ]
     },
     "execution_count": 122,
     "metadata": {},
     "output_type": "execute_result"
    }
   ],
   "source": [
    "np.shape(summarydict['y']/summarydict['x']),np.shape(summarydict['y']), np.shape(summarydict['y']/summarydict['x'])"
   ]
  }
 ],
 "metadata": {
  "kernelspec": {
   "display_name": "Python 3 (ipykernel)",
   "language": "python",
   "name": "python3"
  },
  "language_info": {
   "codemirror_mode": {
    "name": "ipython",
    "version": 3
   },
   "file_extension": ".py",
   "mimetype": "text/x-python",
   "name": "python",
   "nbconvert_exporter": "python",
   "pygments_lexer": "ipython3",
   "version": "3.9.7"
  }
 },
 "nbformat": 4,
 "nbformat_minor": 5
}
