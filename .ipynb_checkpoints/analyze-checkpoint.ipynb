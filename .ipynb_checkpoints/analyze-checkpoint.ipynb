{
 "cells": [
  {
   "cell_type": "code",
   "execution_count": 17,
   "id": "921b1026",
   "metadata": {},
   "outputs": [],
   "source": [
    "import pickle, os, torch\n",
    "import os.path as osp\n",
    "import numpy as np\n",
    "import matplotlib.pyplot as plt\n",
    "runs=['udaxih', 'tjixlv']\n",
    "date='131121'\n",
    "group='test'\n",
    "model='Sage'\n",
    "case='test_all_smass'\n",
    "pointer=osp.expanduser(f'~/../../scratch/gpfs/cj1223/GraphResults/results_{group}_{date}/model_{case}_{runs}/')"
   ]
  },
  {
   "cell_type": "code",
   "execution_count": 23,
   "id": "db9f5cd4",
   "metadata": {},
   "outputs": [
    {
     "data": {
      "text/plain": [
       "(array([0.16633129, 0.1953075 , 0.16482045, 0.3146371 , 0.27367437],\n",
       "       dtype=float32),\n",
       " array([0.16652997, 0.19078097, 0.16990416, 0.40737417, 0.28492427],\n",
       "       dtype=float32))"
      ]
     },
     "execution_count": 23,
     "metadata": {},
     "output_type": "execute_result"
    }
   ],
   "source": [
    "low=[]\n",
    "sigs=[]\n",
    "for run in runs:\n",
    "    pointer=osp.expanduser(f'~/../../scratch/gpfs/cj1223/GraphResults/results_{group}_{date}/{model}_{case}_{run}')    \n",
    "    dic=pickle.load(open(osp.join(pointer,'result_dict.pkl'), 'rb'))\n",
    "    low.append(dic['low'])\n",
    "    sigs.append(dic['sigma'])    \n",
    "sigs=np.hstack(sigs)\n",
    "lows=np.hstack(low)\n",
    "sigs, lows"
   ]
  },
  {
   "cell_type": "code",
   "execution_count": 11,
   "id": "03c6e013",
   "metadata": {},
   "outputs": [
    {
     "data": {
      "text/plain": [
       "[array(0.16652997, dtype=float32),\n",
       " array(0.19078097, dtype=float32),\n",
       " array(0.16990416, dtype=float32)]"
      ]
     },
     "execution_count": 11,
     "metadata": {},
     "output_type": "execute_result"
    }
   ],
   "source": [
    "dic['low'\n",
    "]"
   ]
  },
  {
   "cell_type": "code",
   "execution_count": 12,
   "id": "c9c1fbe4",
   "metadata": {},
   "outputs": [
    {
     "data": {
      "text/plain": [
       "[0.16633129, 0.1953075, 0.16482045]"
      ]
     },
     "execution_count": 12,
     "metadata": {},
     "output_type": "execute_result"
    }
   ],
   "source": [
    "dic['sigma'\n",
    "]"
   ]
  },
  {
   "cell_type": "code",
   "execution_count": null,
   "id": "3ec39ee8",
   "metadata": {},
   "outputs": [],
   "source": []
  }
 ],
 "metadata": {
  "kernelspec": {
   "display_name": "Python 3 (ipykernel)",
   "language": "python",
   "name": "python3"
  },
  "language_info": {
   "codemirror_mode": {
    "name": "ipython",
    "version": 3
   },
   "file_extension": ".py",
   "mimetype": "text/x-python",
   "name": "python",
   "nbconvert_exporter": "python",
   "pygments_lexer": "ipython3",
   "version": "3.9.7"
  }
 },
 "nbformat": 4,
 "nbformat_minor": 5
}
