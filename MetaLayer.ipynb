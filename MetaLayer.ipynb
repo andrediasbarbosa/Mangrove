{
 "cells": [
  {
   "cell_type": "code",
   "execution_count": 1,
   "id": "b34bc22e",
   "metadata": {},
   "outputs": [],
   "source": [
    "####################################\n",
    "## Batch lengths are being weird ###\n",
    "####################################\n",
    "\n",
    "\n",
    "import torch, pickle, time, os, random\n",
    "import numpy as np\n",
    "import matplotlib.pyplot as plt\n",
    "import torch_geometric as tg\n",
    "from torch_geometric.loader import DataLoader\n",
    "# accelerate huggingface to GPU\n",
    "if torch.cuda.is_available():\n",
    "    from accelerate import Accelerator\n",
    "    accelerator = Accelerator()\n",
    "    device = accelerator.device\n",
    "\n",
    "torch.manual_seed(42)\n",
    "random.seed(42)"
   ]
  },
  {
   "cell_type": "code",
   "execution_count": 2,
   "id": "dc5ddb58",
   "metadata": {},
   "outputs": [
    {
     "data": {
      "text/plain": [
       "['medium_beforeafter',\n",
       " 'medium_redshift_50_all',\n",
       " 'test_onlyhmass_smass',\n",
       " 'medium_redshift_80_all',\n",
       " 'vlarge_all_final',\n",
       " 'test_cut',\n",
       " 'medium_all_q_diffbeforeafter',\n",
       " 'vlarge_redshift_85_all',\n",
       " 'medium_all_smass',\n",
       " 'medium_onlyhmass_smass',\n",
       " 'medium_scaleonly_smass',\n",
       " 'vlarge_redshift_50_all',\n",
       " 'test_beforeafter',\n",
       " 'vlarge_all_smass_standard',\n",
       " 'test_all_smass',\n",
       " 'vlarge_all_smass_power',\n",
       " 'medium_redshift_15_all',\n",
       " 'transformers',\n",
       " 'medium_noinfonoedge_smass',\n",
       " 'medium_onlyedge_smass',\n",
       " 'medium_all_variance',\n",
       " 'medium_redshift_1_all',\n",
       " 'medium_all_q',\n",
       " 'medium_redshift_10_all',\n",
       " 'medium_all_final',\n",
       " 'vlarge_redshift_95_all',\n",
       " 'test_variance',\n",
       " 'small_all_q_variancehalomass',\n",
       " 'medium_all_residual',\n",
       " 'medium_all',\n",
       " 'test',\n",
       " 'vlarge_all_robust_smass',\n",
       " 'test_final',\n",
       " 'vlarge_redshift_99_all',\n",
       " 'vlarge_redshift_99.99_all',\n",
       " 'vlarge_redshift_75_all',\n",
       " 'med_all_residual',\n",
       " 'medium_redshift_25_all',\n",
       " 'big_all_final',\n",
       " 'medium_redshift_0.1_all',\n",
       " 'vlarge_all_smass',\n",
       " 'one_all_q',\n",
       " 'test_redshift_scan',\n",
       " 'medium_all_finalhalo',\n",
       " 'test_dev',\n",
       " '105lim_all_smass',\n",
       " 'medium_redshift_5_all',\n",
       " 'small_all_q',\n",
       " 'vlarge_redshift_0_all',\n",
       " 'testpy',\n",
       " 'medium_noinfo_smass',\n",
       " 'medium_hmassonly_smass']"
      ]
     },
     "execution_count": 2,
     "metadata": {},
     "output_type": "execute_result"
    }
   ],
   "source": [
    "os.listdir('../../../../scratch/gpfs/cj1223/GraphStorage/')"
   ]
  },
  {
   "cell_type": "code",
   "execution_count": 3,
   "id": "3f70e3c6",
   "metadata": {},
   "outputs": [],
   "source": [
    "# case='medium_hmassonly_smass'\n",
    "# case='medium_scaleonly_smass'\n",
    "### this didn't work as well as I initially thought, must have done something wrong, but still better than base\n",
    "# case='medium_onlyedge_smass' \n",
    "# case='medium_noinfo_smass' \n",
    "case='vlarge_all_smass'\n",
    "# case='vlarge_all_smass_standard'\n",
    "# case='vlarge_all_smass_power'\n",
    "# case='test_all_smass'\n",
    "\n",
    "\n",
    "\n",
    "data=pickle.load(open(f'../../../../scratch/gpfs/cj1223/GraphStorage/{case}/data.pkl', 'rb'))"
   ]
  },
  {
   "cell_type": "code",
   "execution_count": 4,
   "id": "fe4d0e69",
   "metadata": {},
   "outputs": [
    {
     "data": {
      "image/png": "[encoded data removed]",
      "text/plain": [
       "<Figure size 432x288 with 1 Axes>"
      ]
     },
     "metadata": {
      "needs_background": "light"
     },
     "output_type": "display_data"
    }
   ],
   "source": [
    "ls=[]\n",
    "for d in data:\n",
    "    ls.append(len(d.x.numpy()))\n",
    "plt.hist(np.log10(ls));"
   ]
  },
  {
   "cell_type": "code",
   "execution_count": 71,
   "id": "1bc7fcd7",
   "metadata": {},
   "outputs": [],
   "source": [
    "import torch\n",
    "from torch.functional import F\n",
    "from torch import nn\n",
    "from torch_scatter import scatter_mean, scatter_sum, scatter_max, scatter_min, scatter_mul\n",
    "from torch_geometric.nn import MetaLayer\n",
    "from torch.nn import Linear, BatchNorm1d, LayerNorm\n",
    "from torch_geometric.nn import SAGEConv, global_mean_pool, norm, global_max_pool, global_add_pool\n",
    "\n",
    "\n",
    "global_aggregations = [scatter_sum, scatter_max, scatter_min, scatter_mul]\n",
    "\n",
    "node_aggregation = scatter_sum  # scatter_mean\n",
    "\n",
    "\n",
    "class MLP(nn.Module):\n",
    "    def __init__(self, n_in, n_out, hidden=64, nlayers=2, layer_norm=True):\n",
    "        super().__init__()\n",
    "        layers = [nn.Linear(n_in, hidden), nn.ReLU()]\n",
    "        for i in range(nlayers):\n",
    "            layers.append(nn.Linear(hidden, hidden)) ##shouldn't the LayerNorm go her?\n",
    "            layers.append(nn.ReLU()) \n",
    "        layers.append(nn.Linear(hidden, n_out))\n",
    "        if layer_norm:\n",
    "            layers.append(nn.LayerNorm(n_out))\n",
    "        self.mlp = nn.Sequential(*layers)\n",
    "\n",
    "    def forward(self, x):\n",
    "        return self.mlp(x)\n",
    "\n",
    "\n",
    "class EdgeModel(torch.nn.Module):\n",
    "    def __init__(self, hidden):\n",
    "        super(EdgeModel, self).__init__()\n",
    "        self.mlp = MLP(hidden * 4, hidden, layer_norm=True)\n",
    "\n",
    "    def forward(self, src, dest, edge_attr, u, batch):\n",
    "        # source, target: [E, F_x], where E is the number of edges.\n",
    "        # edge_attr: [E, F_e]\n",
    "        # u: [B, F_u], where B is the number of graphs. ##what is B??\n",
    "        # batch: [E] with max entry B - 1.\n",
    "        cur_state = torch.cat([src, dest, edge_attr, u[batch]], 1)\n",
    "        return edge_attr + self.mlp(cur_state)\n",
    "\n",
    "\n",
    "class NodeModel(torch.nn.Module):\n",
    "    def __init__(self, hidden):\n",
    "        super(NodeModel, self).__init__()\n",
    "        self.node_mlp_1 = MLP(hidden * 2, hidden, layer_norm=True)\n",
    "        self.node_mlp_2 = MLP(hidden * 3, hidden, layer_norm=True)\n",
    "\n",
    "    def forward(self, x, edge_index, edge_attr, u, batch):\n",
    "        # x: [N, F_x], where N is the number of nodes.\n",
    "        # edge_index: [2, E] with max entry N - 1.\n",
    "        # edge_attr: [E, F_e]\n",
    "        # u: [B, F_u]\n",
    "        # batch: [N] with max entry B - 1.\n",
    "        row, col = edge_index\n",
    "        out = torch.cat([x[row], edge_attr], dim=1)\n",
    "        out = self.node_mlp_1(out)\n",
    "        out = node_aggregation(out, col, dim=0, dim_size=x.size(0))\n",
    "        out = torch.cat([x, out, u[batch]], dim=1)\n",
    "        return x + self.node_mlp_2(out)\n",
    "\n",
    "\n",
    "class GlobalModel(torch.nn.Module):\n",
    "    def __init__(self, hidden):\n",
    "        super(GlobalModel, self).__init__()\n",
    "        self.global_mlp = MLP(hidden * 2, hidden, layer_norm=True)\n",
    "\n",
    "    def forward(self, x, edge_index, edge_attr, u, batch):\n",
    "        # x: [N, F_x], where N is the number of nodes.\n",
    "        # edge_index: [2, E] with max entry N - 1.\n",
    "        # edge_attr: [E, F_e]\n",
    "        # u: [B, F_u]\n",
    "        # batch: [N] with max entry B - 1.\n",
    "        out = torch.cat([u, global_aggregation(x, batch, dim=0)], dim=1)\n",
    "        return u + self.global_mlp(out) # do these just add on top of each other\n",
    "global_aggregations = [scatter_sum, scatter_max, scatter_min, scatter_mul]\n",
    "\n",
    "class GlobalModelMulti(torch.nn.Module):\n",
    "    def __init__(self, hidden):\n",
    "        super(GlobalModelMulti, self).__init__()\n",
    "        self.global_mlp = MLP(hidden * 5, hidden, layer_norm=True)\n",
    "\n",
    "    def forward(self, x, edge_index, edge_attr, u, batch):\n",
    "        # x: [N, F_x], where N is the number of nodes.\n",
    "        # edge_index: [2, E] with max entry N - 1.\n",
    "        # edge_attr: [E, F_e]\n",
    "        # u: [B, F_u]\n",
    "        # batch: [N] with max entry B - 1.\n",
    "        global s, me, std\n",
    "        global x0\n",
    "        x0=x\n",
    "        s=scatter_sum(x, batch, dim=0)\n",
    "        me=scatter_mean(x, batch, dim=0)\n",
    "        mi=scatter_min(x, batch, dim=0)[0]\n",
    "        ma=scatter_max(x, batch, dim=0)[0]\n",
    "        std=scatter_mean(torch.square(x), batch, dim=0)-torch.square(me)\n",
    "        concat = torch.cat([u, s, mi, ma, std], dim=1)\n",
    "        return u + self.global_mlp(concat)\n",
    "\n",
    "class GNN(torch.nn.Module):\n",
    "    def __init__(self, hidden, n_in=len(data[0].x[0]), n_edge=len(data[0].x[0]), n_out=1,blocks=4):\n",
    "        super(self.__class__, self).__init__()\n",
    "        self.node_enc = MLP(n_in, hidden, layer_norm=True)\n",
    "        self.edge_enc = MLP(n_edge, hidden, layer_norm=True)\n",
    "        self.decoder = MLP(hidden, n_out)\n",
    "        self.ops = nn.ModuleList(\n",
    "            [\n",
    "                MetaLayer(EdgeModel(hidden), NodeModel(hidden), GlobalModelMulti(hidden)) # GlobalModelMulti could be last\n",
    "                for _ in range(blocks)\n",
    "            ]\n",
    "        )\n",
    "        self.hidden = hidden\n",
    "        self.norm_out=nn.LayerNorm(normalized_shape=self.hidden)\n",
    "    def forward(self, graph):\n",
    "        global batch\n",
    "        x = self.node_enc(graph.x)  # Take all feats\n",
    "        reduce = graph.x # differences\n",
    "        adj = graph.edge_index\n",
    "        e = self.edge_enc(reduce[adj[0]] - reduce[adj[1]]) #put in edge_attr\n",
    "        # Initialize global features as 0:\n",
    "        u = torch.zeros(\n",
    "            graph.batch[-1] + 1, self.hidden, device=x.device, dtype=torch.float32\n",
    "        )\n",
    "        batch = graph.batch\n",
    "        global xc, ec, uc\n",
    "        for op in self.ops:\n",
    "            x, e, u = op(x, adj, e, u, batch)\n",
    "        xc, ec, uc = x, e, u\n",
    "        x = global_add_pool(x, batch)\n",
    "        global x1\n",
    "        x1=x\n",
    "        \n",
    "        out = self.decoder(self.norm_out(x))\n",
    "\n",
    "        return out"
   ]
  },
  {
   "cell_type": "code",
   "execution_count": 72,
   "id": "d86c2310",
   "metadata": {},
   "outputs": [],
   "source": [
    "criterion = torch.nn.MSELoss()\n",
    "n_epochs=50\n",
    "n_trials=1\n",
    "batch_size=512\n",
    "split=0.8\n",
    "test_data=data[int(len(data)*split):]\n",
    "# train_data=data[:int(len(data)*split)]\n",
    "train_data=data[:int(len(data)*split/2)]\n",
    "l1_lambda = 0\n",
    "l2_lambda = 0"
   ]
  },
  {
   "cell_type": "code",
   "execution_count": 88,
   "id": "13dde5ff",
   "metadata": {},
   "outputs": [
    {
     "name": "stdout",
     "output_type": "stream",
     "text": [
      "GPU  True\n"
     ]
    }
   ],
   "source": [
    "trains, tests, scatter = [], [], []\n",
    "yss, preds=[],[]\n",
    "model = model=GNN(64)\n",
    "train_loader=DataLoader(train_data, batch_size=batch_size, shuffle=1, num_workers=4)\n",
    "test_loader=DataLoader(test_data, batch_size=batch_size, shuffle=0,num_workers=4)    \n",
    "optimizer = torch.optim.Adam(model.parameters(), lr=0.003)\n",
    "_, _, test_loader = accelerator.prepare(model, optimizer, test_loader)\n",
    "model, optimizer, train_loader = accelerator.prepare(model, optimizer, train_loader)\n",
    "print('GPU ', next(model.parameters()).is_cuda)\n",
    "# Initialize our train function\n",
    "def train():\n",
    "    model.train()\n",
    "    global datac\n",
    "    for data in train_loader: \n",
    "        datac=data\n",
    "        pred = model(data)  \n",
    "        loss = criterion(pred, data.y.view(-1,1)) \n",
    "        l1_norm = sum(p.abs().sum() for p in model.parameters())\n",
    "        l2_norm = sum(p.pow(2.0).sum() for p in model.parameters())\n",
    "\n",
    "\n",
    "        loss = loss + l1_lambda * l1_norm + l2_lambda * l2_norm\n",
    "#             loss.backward()\n",
    "        accelerator.backward(loss)\n",
    "        optimizer.step() \n",
    "        optimizer.zero_grad() \n",
    "    print(loss, l1_norm*l1_lambda, l2_norm*l2_lambda)\n",
    " # test function\n",
    "\n",
    "def test(loader):\n",
    "    model.eval()\n",
    "\n",
    "    correct = 0\n",
    "    with torch.no_grad(): ##this solves it!!!\n",
    "        for dat in loader: \n",
    "            out = model(dat) \n",
    "    #         print(out)\n",
    "            correct += torch.std(out - dat.y.view(-1,1))\n",
    "    return correct/len(loader.dataset)"
   ]
  },
  {
   "cell_type": "code",
   "execution_count": 89,
   "id": "154b04b1",
   "metadata": {},
   "outputs": [
    {
     "name": "stdout",
     "output_type": "stream",
     "text": [
      "tensor(1.7834, device='cuda:0', grad_fn=<AddBackward0>) tensor(0., device='cuda:0', grad_fn=<MulBackward0>) tensor(0., device='cuda:0', grad_fn=<MulBackward0>)\n",
      "39.27 seconds spent training, 0.785 seconds per epoch. Processed 6 trees per second\n"
     ]
    }
   ],
   "source": [
    "#this uses about 1 GB of memory on the GPU\n",
    "\n",
    "start=time.time()\n",
    "# for epoch in range(n_epochs):\n",
    "for epoch in range(1):\n",
    "    train()\n",
    "\n",
    "    if (epoch+1)%2==0:\n",
    "        train_acc = test(train_loader)\n",
    "        test_acc = test(test_loader)\n",
    "        tr_acc.append(train_acc)\n",
    "        te_acc.append(test_acc)\n",
    "        print(f'Epoch: {epoch+1:03d}, Train scatter: {np.sqrt(train_acc):.4f}, Test scatter: {np.sqrt(test_acc):.4f}')\n",
    "stop=time.time()\n",
    "spent=stop-start\n",
    "print(f\"{spent:.2f} seconds spent training, {spent/n_epochs:.3f} seconds per epoch. Processed {len(data)*split*n_epochs/spent:.0f} trees per second\")"
   ]
  },
  {
   "cell_type": "code",
   "execution_count": 90,
   "id": "6c2f0c2d",
   "metadata": {},
   "outputs": [],
   "source": [
    "def test(loader, model):\n",
    "    '''returns targets and predictions'''\n",
    "    ys, pred,xs, Mh=[],[],[], []\n",
    "    model.eval()\n",
    "    with torch.no_grad():\n",
    "        for dat in loader: \n",
    "            out = model(dat) \n",
    "            pred.append(out.view(1,-1).cpu().detach().numpy())\n",
    "            ys.append(np.array(dat.y.cpu().numpy())) \n",
    "        \n",
    "    ys=np.hstack(ys)\n",
    "    pred=np.hstack(pred)[0]\n",
    "    return ys,pred"
   ]
  },
  {
   "cell_type": "code",
   "execution_count": 91,
   "id": "ad43f165",
   "metadata": {},
   "outputs": [],
   "source": [
    "yte, pte = test(test_loader, model)\n",
    "# ytr, ptr,xtr, Mhtr = test(train_loader, model)"
   ]
  },
  {
   "cell_type": "code",
   "execution_count": 92,
   "id": "bc455d20",
   "metadata": {},
   "outputs": [
    {
     "data": {
      "text/plain": [
       "array([-0.24549651], dtype=float32)"
      ]
     },
     "execution_count": 92,
     "metadata": {},
     "output_type": "execute_result"
    }
   ],
   "source": [
    "np.unique(pte)"
   ]
  },
  {
   "cell_type": "code",
   "execution_count": 93,
   "id": "c04e53ca",
   "metadata": {},
   "outputs": [
    {
     "data": {
      "text/plain": [
       "<matplotlib.colorbar.Colorbar at 0x2b14a26019a0>"
      ]
     },
     "execution_count": 93,
     "metadata": {},
     "output_type": "execute_result"
    },
    {
     "data": {
      "image/png": "[encoded data removed]",
      "text/plain": [
       "<Figure size 432x288 with 2 Axes>"
      ]
     },
     "metadata": {
      "needs_background": "light"
     },
     "output_type": "display_data"
    }
   ],
   "source": [
    "import matplotlib as mpl\n",
    "hist=plt.hist2d(Mhte,pte-yte, bins=100, norm=mpl.colors.LogNorm(), cmap=plt.cm.cividis);\n",
    "plt.colorbar()"
   ]
  },
  {
   "cell_type": "code",
   "execution_count": 94,
   "id": "60d45caa",
   "metadata": {},
   "outputs": [
    {
     "data": {
      "text/plain": [
       "Text(0.5, 1.0, '[0.9291242, -1.2126514, -0.24549651]')"
      ]
     },
     "execution_count": 94,
     "metadata": {},
     "output_type": "execute_result"
    },
    {
     "data": {
      "image/png": "[encoded data removed]",
      "text/plain": [
       "<Figure size 432x288 with 1 Axes>"
      ]
     },
     "metadata": {
      "needs_background": "light"
     },
     "output_type": "display_data"
    }
   ],
   "source": [
    "plt.plot(yte, pte, 'ro')\n",
    "plt.title([np.std(yte-pte), np.mean(yte), np.unique(pte)[0]])"
   ]
  },
  {
   "cell_type": "code",
   "execution_count": 80,
   "id": "35f5c44e",
   "metadata": {},
   "outputs": [],
   "source": [
    "# fig, ax = plt.subplots(figsize=(10,15))\n",
    "# plo=ax.imshow(xc.cpu())\n",
    "# # plt.colorbar(plox)"
   ]
  },
  {
   "cell_type": "code",
   "execution_count": 99,
   "id": "baeb7d47",
   "metadata": {},
   "outputs": [
    {
     "data": {
      "text/plain": [
       "torch.Size([8369, 64])"
      ]
     },
     "execution_count": 99,
     "metadata": {},
     "output_type": "execute_result"
    }
   ],
   "source": [
    "xc.shape"
   ]
  },
  {
   "cell_type": "code",
   "execution_count": 98,
   "id": "c3352c80",
   "metadata": {},
   "outputs": [
    {
     "data": {
      "text/plain": [
       "Batch(x=[102815, 43], edge_index=[2, 102346], edge_attr=[102346], y=[469], batch=[102815], ptr=[470])"
      ]
     },
     "execution_count": 98,
     "metadata": {},
     "output_type": "execute_result"
    }
   ],
   "source": [
    "datac"
   ]
  },
  {
   "cell_type": "code",
   "execution_count": 87,
   "id": "4b1c83eb",
   "metadata": {},
   "outputs": [
    {
     "data": {
      "text/plain": [
       "Batch(x=[82205, 43], edge_index=[2, 81736], edge_attr=[81736], y=[469], batch=[82205], ptr=[470])"
      ]
     },
     "execution_count": 87,
     "metadata": {},
     "output_type": "execute_result"
    }
   ],
   "source": [
    "g"
   ]
  },
  {
   "cell_type": "code",
   "execution_count": 11,
   "id": "559b60b2",
   "metadata": {},
   "outputs": [
    {
     "data": {
      "text/plain": [
       "tensor(0.0034, device='cuda:0')"
      ]
     },
     "execution_count": 11,
     "metadata": {},
     "output_type": "execute_result"
    }
   ],
   "source": [
    "test(test_loader) #this uses 7.5 GB"
   ]
  },
  {
   "cell_type": "code",
   "execution_count": 12,
   "id": "787d0660",
   "metadata": {},
   "outputs": [
    {
     "data": {
      "text/plain": [
       "tensor(0.0036, device='cuda:0')"
      ]
     },
     "execution_count": 12,
     "metadata": {},
     "output_type": "execute_result"
    }
   ],
   "source": [
    "test(train_loader) #this crashes everything, estimate is that it uses \\approx 30 GB and I have no idea"
   ]
  },
  {
   "cell_type": "code",
   "execution_count": null,
   "id": "a2dbcf6b",
   "metadata": {},
   "outputs": [],
   "source": [
    "np.mean(scatter), np.std(scatter)"
   ]
  },
  {
   "cell_type": "code",
   "execution_count": null,
   "id": "d2a209af",
   "metadata": {},
   "outputs": [],
   "source": [
    "np.min(tests)"
   ]
  },
  {
   "cell_type": "code",
   "execution_count": null,
   "id": "d75ab5ce",
   "metadata": {},
   "outputs": [],
   "source": [
    "plt.plot(tr_acc, label='train loss')\n",
    "plt.plot(te_acc, label='test loss')\n",
    "plt.xscale('log')\n",
    "plt.yscale('log')\n",
    "plt.legend()"
   ]
  },
  {
   "cell_type": "code",
   "execution_count": 30,
   "id": "9b7519e6",
   "metadata": {},
   "outputs": [],
   "source": [
    "def test(loader, model):\n",
    "    '''returns targets and predictions'''\n",
    "    ys, pred,xs, Mh=[],[],[], []\n",
    "    model.eval()\n",
    "    with torch.no_grad():\n",
    "        for dat in loader: \n",
    "            out = model(dat) \n",
    "            pred.append(out.view(1,-1).cpu().detach().numpy())\n",
    "            ys.append(np.array(dat.y.cpu().numpy())) \n",
    "            u, counts = np.unique(dat.batch.cpu().numpy(), return_counts=1)\n",
    "            xs.append(np.array(torch.tensor_split(dat.x.cpu(), torch.cumsum(torch.tensor(counts[:-1]),0)), dtype=object))\n",
    "            ## compile lists\n",
    "    ys=np.hstack(ys)\n",
    "    pred=np.hstack(pred)[0]\n",
    "    xs=np.hstack(xs)\n",
    "    xn=[]\n",
    "    for x in xs:\n",
    "        x0=x.cpu().detach().numpy()\n",
    "        xn.append(x0)\n",
    "        Mh.append(x0[0][3])\n",
    "    return ys,pred,xn, Mh"
   ]
  },
  {
   "cell_type": "code",
   "execution_count": null,
   "id": "b840398b",
   "metadata": {},
   "outputs": [],
   "source": [
    "ys, pred=[],[]  \n",
    "def test(loader):\n",
    "    model.eval()\n",
    " \n",
    "    correct = 0\n",
    "    for dat in loader: \n",
    "        out = model(dat.x, dat.edge_index, dat.batch) \n",
    "        pred.append(out.view(1,-1).cpu().detach().numpy())\n",
    "        ys.append(np.array(dat.y.cpu())) \n",
    "test(test_loader)\n",
    "# test(train_loader)\n",
    "ys=np.hstack(ys)\n",
    "pred=np.hstack(pred)[0]"
   ]
  },
  {
   "cell_type": "code",
   "execution_count": null,
   "id": "4bee0e6c",
   "metadata": {},
   "outputs": [],
   "source": [
    "fig, ax= plt.subplots(2, figsize=(9,12))\n",
    "bins=50\n",
    "ax[0].hist(ys, bins=bins, range=(np.percentile(np.hstack([ys,pred]), [1,99])), label='true',  histtype='step')\n",
    "ax[0].hist(pred, bins=bins, range=(np.percentile(np.hstack([ys,pred]), [1,99])), label='pred', histtype='step')\n",
    "ax[1].hist((ys-pred), bins=bins,range=(np.percentile(ys-pred, [1,99])),  histtype='step', label='residuals');\n",
    "ax[0].legend()\n",
    "ax[1].legend()\n",
    "ax[0].set(title='Predicted/true stellar mass', xlabel='log10(M_stellar)', ylabel='N')\n",
    "ax[1].set(title=f'Residuals, scatter is {np.std(ys-pred):.3f}',xlabel='log10(M_stellar)_true-log10(M_stellar)_predicted', ylabel='N')"
   ]
  },
  {
   "cell_type": "code",
   "execution_count": null,
   "id": "be2fb326",
   "metadata": {
    "scrolled": false
   },
   "outputs": [],
   "source": [
    "fig, ax =plt.subplots(figsize=(12,9))\n",
    "ax.plot(ys,pred, 'ro')\n",
    "ax.plot([min(ys),max(ys)],[min(ys),max(ys)], 'k--', label='Perfect correspondance')\n",
    "ax.set(xlabel='true',ylabel='predicted', title='True/predicted corr')\n",
    "ax.legend()"
   ]
  },
  {
   "cell_type": "code",
   "execution_count": null,
   "id": "a47be80f",
   "metadata": {},
   "outputs": [],
   "source": [
    "fig, ax =plt.subplots(figsize=(12,9))\n",
    "h = ax.hist2d(ys,pred, bins=50, range=[np.percentile(ys, [1,99]),np.percentile(pred, [1,99])])\n",
    "fig.colorbar(h[3], ax=ax)\n",
    "ax.plot([min(ys),max(ys)],[min(ys),max(ys)], 'k--', label='Perfect correspondance')\n",
    "ax.set(xlabel='true',ylabel='predicted', title='True/predicted corr')\n",
    "ax.legend()"
   ]
  },
  {
   "cell_type": "code",
   "execution_count": null,
   "id": "bf45a39a",
   "metadata": {},
   "outputs": [],
   "source": [
    "Mh=[]\n",
    "for x in xes:\n",
    "    Mh.append(x[0,3])\n",
    "plt.plot(Mh, pred, 'o', markersize=1) "
   ]
  },
  {
   "cell_type": "code",
   "execution_count": null,
   "id": "b7ae3964",
   "metadata": {},
   "outputs": [],
   "source": []
  },
  {
   "cell_type": "code",
   "execution_count": null,
   "id": "8a8b7de3",
   "metadata": {},
   "outputs": [],
   "source": [
    "x,y=[], []\n",
    "for d in data:\n",
    "    x.append(d.x[0,3].numpy())\n",
    "    y.append(d.y.numpy())    "
   ]
  },
  {
   "cell_type": "code",
   "execution_count": null,
   "id": "6e412224",
   "metadata": {},
   "outputs": [],
   "source": [
    "plt.plot(x, y, 'o', markersize=1) "
   ]
  },
  {
   "cell_type": "code",
   "execution_count": null,
   "id": "9fab1e39",
   "metadata": {},
   "outputs": [],
   "source": [
    "## remember to validate that test/val/train are actually comparable\n",
    "## create toy problem (predict variance of all halo masses eg, verifying that in takes into account edges)\n",
    "## same, predict average of the difference of post-merge halo and pre merger halos\n",
    "\n",
    "## try different pools"
   ]
  },
  {
   "cell_type": "code",
   "execution_count": null,
   "id": "49a1492e",
   "metadata": {},
   "outputs": [],
   "source": [
    "xte, yte, lte = [], [], []\n",
    "for d in test_data:\n",
    "    xte.append(d.x.numpy()[0,3])\n",
    "    yte.append(d.y.numpy())    \n",
    "    lte.append(np.log10(len(d.x.numpy()))   ) \n",
    "yte=np.vstack(yte)"
   ]
  },
  {
   "cell_type": "code",
   "execution_count": null,
   "id": "fb021061",
   "metadata": {},
   "outputs": [],
   "source": [
    "xtr, ytr, ltr = [], [], []\n",
    "for d in train_data:\n",
    "    xtr.append(d.x.numpy()[0,3])\n",
    "    ytr.append(d.y.numpy())    \n",
    "    ltr.append(np.log10(len(d.x.numpy()))   ) \n",
    "ytr=np.vstack(ytr)"
   ]
  },
  {
   "cell_type": "code",
   "execution_count": null,
   "id": "4ca9df90",
   "metadata": {},
   "outputs": [],
   "source": [
    "bins=20\n",
    "fig, ax = plt.subplots(3, figsize=(12,12))\n",
    "ax[0].hist(xtr, bins=bins, histtype='step', density=1, label='train')\n",
    "ax[0].hist(xte, bins=bins, histtype='step', density=1, label='test')\n",
    "ax[0].set(xlabel='Final halo mass')\n",
    "\n",
    "ax[1].hist(ytr, bins=bins, histtype='step', density=1, label='train')\n",
    "ax[1].hist(yte, bins=bins, histtype='step', density=1, label='test')\n",
    "ax[1].set(xlabel='Stellar mass')\n",
    "\n",
    "ax[2].hist(ltr, bins=bins, histtype='step', density=1, label='train')\n",
    "ax[2].hist(lte, bins=bins, histtype='step', density=1, label='test');\n",
    "ax[2].set(xlabel='log10(Tree length)')\n",
    "\n",
    "for a in ax:\n",
    "    a.set(yscale='log')\n",
    "    a.legend()"
   ]
  },
  {
   "cell_type": "code",
   "execution_count": 51,
   "id": "ef4451bf",
   "metadata": {},
   "outputs": [
    {
     "data": {
      "text/plain": [
       "28"
      ]
     },
     "execution_count": 51,
     "metadata": {},
     "output_type": "execute_result"
    }
   ],
   "source": [
    "import multiprocessing\n",
    "multiprocessing.cpu_count()"
   ]
  },
  {
   "cell_type": "code",
   "execution_count": 52,
   "id": "c431f906",
   "metadata": {},
   "outputs": [
    {
     "data": {
      "text/plain": [
       "28"
      ]
     },
     "execution_count": 52,
     "metadata": {},
     "output_type": "execute_result"
    }
   ],
   "source": [
    "os.cpu_count()"
   ]
  }
 ],
 "metadata": {
  "kernelspec": {
   "display_name": "Python 3 (ipykernel)",
   "language": "python",
   "name": "python3"
  },
  "language_info": {
   "codemirror_mode": {
    "name": "ipython",
    "version": 3
   },
   "file_extension": ".py",
   "mimetype": "text/x-python",
   "name": "python",
   "nbconvert_exporter": "python",
   "pygments_lexer": "ipython3",
   "version": "3.9.7"
  }
 },
 "nbformat": 4,
 "nbformat_minor": 5
}
