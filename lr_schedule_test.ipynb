{
 "cells": [
  {
   "cell_type": "code",
   "execution_count": 1,
   "id": "a51a1cb3",
   "metadata": {},
   "outputs": [
    {
     "name": "stdout",
     "output_type": "stream",
     "text": [
      "769\n"
     ]
    }
   ],
   "source": [
    "import torch, os, pickle\n",
    "import numpy as np\n",
    "import matplotlib.pyplot as plt\n",
    "import torch.nn.functional as F\n",
    "from torch.nn import Linear, BatchNorm1d, LayerNorm\n",
    "from torch_geometric.nn import SAGEConv, global_mean_pool, norm, global_max_pool, global_add_pool\n",
    "\n",
    "\n",
    "class GCN(torch.nn.Module):\n",
    "    def __init__(self, hidden_channels, nlin=3):\n",
    "        super(GCN, self).__init__()\n",
    "        \n",
    "        self.conv1 = SAGEConv(43, hidden_channels) ##use meta-layer\n",
    "        ## https://pytorch-geometric.readthedocs.io/en/latest/modules/nn.html#torch_geometric.nn.meta.MetaLayer\n",
    "        self.conv2 = SAGEConv(hidden_channels, hidden_channels)\n",
    "        self.conv3 = SAGEConv(hidden_channels, hidden_channels)\n",
    "        self.conv4 = SAGEConv(hidden_channels, hidden_channels)\n",
    "#         self.conv5 = SAGEConv(hidden_channels, hidden_channels)\n",
    "        \n",
    "        \n",
    "        # Our final linear layer will define our output\n",
    "        self.norm = LayerNorm(normalized_shape=hidden_channels) # layer_norm instead\n",
    "        self.lin1 = Linear(hidden_channels, 1)\n",
    "        \n",
    "    def forward(self, x, edge_index, batch):\n",
    "        # 1. Obtain node embeddings \n",
    "        x = self.conv1(x, edge_index)\n",
    "        x = x.relu()\n",
    "        x = self.conv2(x, edge_index)\n",
    "        x = x.relu()\n",
    "        x = self.conv3(x, edge_index)\n",
    "        x = x.relu()\n",
    "        x = self.conv4(x, edge_index)\n",
    "        x = x.relu()\n",
    "#         x = self.conv5(x, edge_index)\n",
    "#         x = x.relu()\n",
    "        x = global_add_pool(x, batch)  ## Miles says use sumpool\n",
    "\n",
    "        x = self.lin1(self.norm(x))\n",
    "#         x=self.lin1(x)\n",
    "        return x\n",
    "    \n",
    "model = GCN(hidden_channels=32)\n",
    "next(model.parameters()).is_cuda ##check number one\n",
    "\n",
    "case='test_all_smass'\n",
    "data=pickle.load(open(f'../../../../scratch/gpfs/cj1223/GraphStorage/{case}/data.pkl', 'rb'))\n",
    "print(len(data))\n",
    "\n",
    "criterion = torch.nn.MSELoss()\n",
    "n_epochs=100\n",
    "from torch_geometric.loader import DataLoader\n",
    "train_loader=DataLoader(data, batch_size=64, shuffle=1)\n"
   ]
  },
  {
   "cell_type": "code",
   "execution_count": null,
   "id": "59c942b4",
   "metadata": {},
   "outputs": [],
   "source": []
  },
  {
   "cell_type": "code",
   "execution_count": 14,
   "id": "f8f21e99",
   "metadata": {},
   "outputs": [],
   "source": [
    "from torch.optim.lr_scheduler import ExponentialLR, CosineAnnealingLR, MultiplicativeLR\n",
    "warm_up=5\n",
    "lrs=[]\n",
    "optimizer = torch.optim.Adam(model.parameters(), lr=0.003)\n",
    "s1 = torch.optim.lr_scheduler.ExponentialLR(optimizer, gamma=2)\n",
    "s2 = torch.optim.lr_scheduler.ExponentialLR(optimizer, gamma=0.95)\n",
    "# scheduler = torch.optim.lr_scheduler.SequentialLR(optimizer, [s1,s2], milestones=[10])\n",
    "scheduler = torch.optim.lr_scheduler.CosineAnnealingLR(optimizer, 10, eta_min=1e-5)\n",
    "\n",
    "model.train()\n",
    "for epoch in range(n_epochs):\n",
    "    for data in train_loader:  \n",
    "        out = model(data.x, data.edge_index, data.batch)  \n",
    "        loss = criterion(out, data.y.view(-1,1)) \n",
    "        loss.backward()\n",
    "    #         accelerator.backward(loss)\n",
    "        optimizer.step() \n",
    "        optimizer.zero_grad()\n",
    "    if epoch<warm_up:    \n",
    "        s1.step()\n",
    "#         lrs.append(s1.get_last_lr())\n",
    "    else:\n",
    "        scheduler.step()\n",
    "        s2.step()\n",
    "        \n",
    "    lrs.append(optimizer.state_dict()['param_groups'][0]['lr'])"
   ]
  },
  {
   "cell_type": "code",
   "execution_count": 11,
   "id": "467c47cf",
   "metadata": {},
   "outputs": [],
   "source": [
    "class warmup_exp():\n",
    "    def __init__(self,optimizer, g_up=2, g_down=0.95, warmup=5, period=5, eta_min=1e-5):\n",
    "        self.warmup=warmup\n",
    "        self.s1 = ExponentialLR(optimizer, gamma=g_up)\n",
    "        self.s2 = ExponentialLR(optimizer, gamma=g_down)\n",
    "    def step(self, epoch):\n",
    "        if epoch<self.warmup:    \n",
    "            self.s1.step()\n",
    "        else:\n",
    "            self.s2.step()"
   ]
  },
  {
   "cell_type": "code",
   "execution_count": 12,
   "id": "b60c7f01",
   "metadata": {},
   "outputs": [],
   "source": [
    "class warmup_expcos():\n",
    "    def __init__(self,optimizer, g_up=2, g_down=0.95, warmup=5, period=5, eta_min=1e-5):\n",
    "        self.warmup=warmup\n",
    "        self.s1 = torch.optim.lr_scheduler.ExponentialLR(optimizer, gamma=g_up)\n",
    "        self.s2 = torch.optim.lr_scheduler.ExponentialLR(optimizer, gamma=g_down)\n",
    "        #eta_min cannot be bigger than or equal to initial learning rate\n",
    "        self.cos = torch.optim.lr_scheduler.CosineAnnealingLR(optimizer, period, eta_min=eta_min) \n",
    "    def step(self, epoch):\n",
    "        if epoch<self.warmup:    \n",
    "            self.s1.step()\n",
    "        else:\n",
    "            self.cos.step()\n",
    "            self.s2.step()\n",
    "    \n"
   ]
  },
  {
   "cell_type": "code",
   "execution_count": 13,
   "id": "151166be",
   "metadata": {},
   "outputs": [
    {
     "ename": "NameError",
     "evalue": "name 'ExponentialLR' is not defined",
     "output_type": "error",
     "traceback": [
      "\u001b[0;31m---------------------------------------------------------------------------\u001b[0m",
      "\u001b[0;31mNameError\u001b[0m                                 Traceback (most recent call last)",
      "\u001b[0;32m/tmp/ipykernel_14562/1435192322.py\u001b[0m in \u001b[0;36m<module>\u001b[0;34m\u001b[0m\n\u001b[1;32m      1\u001b[0m \u001b[0mlrs\u001b[0m\u001b[0;34m=\u001b[0m\u001b[0;34m[\u001b[0m\u001b[0;34m]\u001b[0m\u001b[0;34m\u001b[0m\u001b[0;34m\u001b[0m\u001b[0m\n\u001b[1;32m      2\u001b[0m \u001b[0moptimizer\u001b[0m \u001b[0;34m=\u001b[0m \u001b[0mtorch\u001b[0m\u001b[0;34m.\u001b[0m\u001b[0moptim\u001b[0m\u001b[0;34m.\u001b[0m\u001b[0mAdam\u001b[0m\u001b[0;34m(\u001b[0m\u001b[0mmodel\u001b[0m\u001b[0;34m.\u001b[0m\u001b[0mparameters\u001b[0m\u001b[0;34m(\u001b[0m\u001b[0;34m)\u001b[0m\u001b[0;34m,\u001b[0m \u001b[0mlr\u001b[0m\u001b[0;34m=\u001b[0m\u001b[0;36m0.003\u001b[0m\u001b[0;34m)\u001b[0m\u001b[0;34m\u001b[0m\u001b[0;34m\u001b[0m\u001b[0m\n\u001b[0;32m----> 3\u001b[0;31m \u001b[0msch\u001b[0m\u001b[0;34m=\u001b[0m\u001b[0mwarmup_exp\u001b[0m\u001b[0;34m(\u001b[0m\u001b[0moptimizer\u001b[0m\u001b[0;34m)\u001b[0m\u001b[0;34m\u001b[0m\u001b[0;34m\u001b[0m\u001b[0m\n\u001b[0m\u001b[1;32m      4\u001b[0m \u001b[0;31m# sch=warmup_expcos(optimizer)\u001b[0m\u001b[0;34m\u001b[0m\u001b[0;34m\u001b[0m\u001b[0m\n\u001b[1;32m      5\u001b[0m \u001b[0;34m\u001b[0m\u001b[0m\n",
      "\u001b[0;32m/tmp/ipykernel_14562/166372865.py\u001b[0m in \u001b[0;36m__init__\u001b[0;34m(self, optimizer, g_up, g_down, warmup, period, eta_min)\u001b[0m\n\u001b[1;32m      2\u001b[0m     \u001b[0;32mdef\u001b[0m \u001b[0m__init__\u001b[0m\u001b[0;34m(\u001b[0m\u001b[0mself\u001b[0m\u001b[0;34m,\u001b[0m\u001b[0moptimizer\u001b[0m\u001b[0;34m,\u001b[0m \u001b[0mg_up\u001b[0m\u001b[0;34m=\u001b[0m\u001b[0;36m2\u001b[0m\u001b[0;34m,\u001b[0m \u001b[0mg_down\u001b[0m\u001b[0;34m=\u001b[0m\u001b[0;36m0.95\u001b[0m\u001b[0;34m,\u001b[0m \u001b[0mwarmup\u001b[0m\u001b[0;34m=\u001b[0m\u001b[0;36m5\u001b[0m\u001b[0;34m,\u001b[0m \u001b[0mperiod\u001b[0m\u001b[0;34m=\u001b[0m\u001b[0;36m5\u001b[0m\u001b[0;34m,\u001b[0m \u001b[0meta_min\u001b[0m\u001b[0;34m=\u001b[0m\u001b[0;36m1e-5\u001b[0m\u001b[0;34m)\u001b[0m\u001b[0;34m:\u001b[0m\u001b[0;34m\u001b[0m\u001b[0;34m\u001b[0m\u001b[0m\n\u001b[1;32m      3\u001b[0m         \u001b[0mself\u001b[0m\u001b[0;34m.\u001b[0m\u001b[0mwarmup\u001b[0m\u001b[0;34m=\u001b[0m\u001b[0mwarmup\u001b[0m\u001b[0;34m\u001b[0m\u001b[0;34m\u001b[0m\u001b[0m\n\u001b[0;32m----> 4\u001b[0;31m         \u001b[0mself\u001b[0m\u001b[0;34m.\u001b[0m\u001b[0ms1\u001b[0m \u001b[0;34m=\u001b[0m \u001b[0mExponentialLR\u001b[0m\u001b[0;34m(\u001b[0m\u001b[0moptimizer\u001b[0m\u001b[0;34m,\u001b[0m \u001b[0mgamma\u001b[0m\u001b[0;34m=\u001b[0m\u001b[0mg_up\u001b[0m\u001b[0;34m)\u001b[0m\u001b[0;34m\u001b[0m\u001b[0;34m\u001b[0m\u001b[0m\n\u001b[0m\u001b[1;32m      5\u001b[0m         \u001b[0mself\u001b[0m\u001b[0;34m.\u001b[0m\u001b[0ms2\u001b[0m \u001b[0;34m=\u001b[0m \u001b[0mExponentialLR\u001b[0m\u001b[0;34m(\u001b[0m\u001b[0moptimizer\u001b[0m\u001b[0;34m,\u001b[0m \u001b[0mgamma\u001b[0m\u001b[0;34m=\u001b[0m\u001b[0mg_down\u001b[0m\u001b[0;34m)\u001b[0m\u001b[0;34m\u001b[0m\u001b[0;34m\u001b[0m\u001b[0m\n\u001b[1;32m      6\u001b[0m     \u001b[0;32mdef\u001b[0m \u001b[0mstep\u001b[0m\u001b[0;34m(\u001b[0m\u001b[0mself\u001b[0m\u001b[0;34m,\u001b[0m \u001b[0mepoch\u001b[0m\u001b[0;34m)\u001b[0m\u001b[0;34m:\u001b[0m\u001b[0;34m\u001b[0m\u001b[0;34m\u001b[0m\u001b[0m\n",
      "\u001b[0;31mNameError\u001b[0m: name 'ExponentialLR' is not defined"
     ]
    }
   ],
   "source": [
    "lrs=[]\n",
    "optimizer = torch.optim.Adam(model.parameters(), lr=0.003)\n",
    "sch=warmup_exp(optimizer)\n",
    "# sch=warmup_expcos(optimizer)\n",
    "\n",
    "# scheduler = torch.optim.lr_scheduler.SequentialLR(optimizer, [s1,s2], milestones=[10])\n",
    "# scheduler = torch.optim.lr_scheduler.CosineAnnealingLR(optimizer, 10, eta_min=1e-5)\n",
    "\n",
    "model.train()\n",
    "for epoch in range(n_epochs):\n",
    "    for data in train_loader:  \n",
    "        out = model(data.x, data.edge_index, data.batch)  \n",
    "        loss = criterion(out, data.y.view(-1,1)) \n",
    "        optimizer.step() \n",
    "        optimizer.zero_grad()\n",
    "        scheduler.step(epoch)\n",
    "    lrs.append(optimizer.state_dict()['param_groups'][0]['lr'])"
   ]
  },
  {
   "cell_type": "code",
   "execution_count": null,
   "id": "674ebec5",
   "metadata": {},
   "outputs": [],
   "source": [
    "plt.plot(lrs)"
   ]
  },
  {
   "cell_type": "code",
   "execution_count": 17,
   "id": "8ccb24bf",
   "metadata": {},
   "outputs": [
    {
     "data": {
      "text/plain": [
       "(8192.0, 8192.0)"
      ]
     },
     "execution_count": 17,
     "metadata": {},
     "output_type": "execute_result"
    }
   ],
   "source": [
    "lrs[1]/lrs[0], lrs[3]/lrs[2]"
   ]
  },
  {
   "cell_type": "code",
   "execution_count": null,
   "id": "eaa0d581",
   "metadata": {},
   "outputs": [],
   "source": [
    "lrs=[]\n",
    "optimizer = torch.optim.Adam(model.parameters(), lr=0.003)\n",
    "model.train()\n",
    "for epoch in range(n_epochs):\n",
    "    for data in train_loader:  \n",
    "        out = model(data.x, data.edge_index, data.batch)  \n",
    "        loss = criterion(out, data.y.view(-1,1)) \n",
    "        loss.backward()\n",
    "    #         accelerator.backward(loss)\n",
    "        optimizer.step() \n",
    "        optimizer.zero_grad()"
   ]
  },
  {
   "cell_type": "code",
   "execution_count": 144,
   "id": "c5cf99e6",
   "metadata": {},
   "outputs": [
    {
     "data": {
      "text/plain": [
       "0.0011460500150447146"
      ]
     },
     "execution_count": 144,
     "metadata": {},
     "output_type": "execute_result"
    }
   ],
   "source": [
    "optimizer.state_dict()['param_groups'][0]['lr']"
   ]
  },
  {
   "cell_type": "code",
   "execution_count": 145,
   "id": "88d9feae",
   "metadata": {},
   "outputs": [],
   "source": [
    "# help(torch.optim.lr_scheduler)"
   ]
  },
  {
   "cell_type": "code",
   "execution_count": 146,
   "id": "1cb4cfc9",
   "metadata": {},
   "outputs": [
    {
     "data": {
      "text/plain": [
       "[<matplotlib.lines.Line2D at 0x2af0fa2f8910>]"
      ]
     },
     "execution_count": 146,
     "metadata": {},
     "output_type": "execute_result"
    },
    {
     "data": {
      "image/png": "[encoded data removed]",
      "text/plain": [
       "<Figure size 432x288 with 1 Axes>"
      ]
     },
     "metadata": {
      "needs_background": "light"
     },
     "output_type": "display_data"
    }
   ],
   "source": [
    "plt.plot(lrs)"
   ]
  },
  {
   "cell_type": "code",
   "execution_count": 140,
   "id": "8fc10847",
   "metadata": {},
   "outputs": [
    {
     "data": {
      "text/plain": [
       "9.5e-06"
      ]
     },
     "execution_count": 140,
     "metadata": {},
     "output_type": "execute_result"
    }
   ],
   "source": [
    "min(lrs)"
   ]
  },
  {
   "cell_type": "code",
   "execution_count": 2,
   "id": "c0eab3cd",
   "metadata": {},
   "outputs": [],
   "source": [
    "from dev.lr_schedule import warmup_exp, warmup_expcos "
   ]
  },
  {
   "cell_type": "code",
   "execution_count": 3,
   "id": "85693e0b",
   "metadata": {},
   "outputs": [],
   "source": [
    "def get_lr_schedule(s):\n",
    "    schedule  = s\n",
    "\n",
    "    import dev.lr_schedule as lr_module\n",
    "\n",
    "    schedule_class = getattr(lr_module, schedule)\n",
    "\n",
    "    return schedule_class\n",
    "\n",
    "scheduler=get_lr_schedule('warmup_exp')"
   ]
  },
  {
   "cell_type": "code",
   "execution_count": 4,
   "id": "84229bb5",
   "metadata": {},
   "outputs": [],
   "source": [
    "lrs=[]\n",
    "optimizer = torch.optim.Adam(model.parameters(), lr=0.003)\n",
    "# sch=warmup_exp(optimizer, g_up=2)\n",
    "# sch=warmup_expcos(optimizer)\n",
    "scheduler=scheduler(optimizer)\n",
    "# scheduler = torch.optim.lr_scheduler.SequentialLR(optimizer, [s1,s2], milestones=[10])\n",
    "# scheduler = torch.optim.lr_scheduler.CosineAnnealingLR(optimizer, 10, eta_min=1e-5)\n",
    "\n",
    "model.train()\n",
    "for epoch in range(n_epochs):\n",
    "    for data in train_loader:  \n",
    "        out = model(data.x, data.edge_index, data.batch)  \n",
    "        loss = criterion(out, data.y.view(-1,1)) \n",
    "        optimizer.step() \n",
    "        optimizer.zero_grad()\n",
    "#     sch.step(epoch)\n",
    "    scheduler.step(epoch)\n",
    "\n",
    "    lrs.append(optimizer.state_dict()['param_groups'][0]['lr'])"
   ]
  },
  {
   "cell_type": "code",
   "execution_count": 5,
   "id": "126746e9",
   "metadata": {},
   "outputs": [
    {
     "data": {
      "text/plain": [
       "[<matplotlib.lines.Line2D at 0x2b08adf1abe0>]"
      ]
     },
     "execution_count": 5,
     "metadata": {},
     "output_type": "execute_result"
    },
    {
     "data": {
      "image/png": "[encoded data removed]",
      "text/plain": [
       "<Figure size 432x288 with 1 Axes>"
      ]
     },
     "metadata": {
      "needs_background": "light"
     },
     "output_type": "display_data"
    }
   ],
   "source": [
    "plt.plot(lrs)"
   ]
  },
  {
   "cell_type": "code",
   "execution_count": 53,
   "id": "43cac274",
   "metadata": {},
   "outputs": [
    {
     "data": {
      "text/plain": [
       "79.37147732541435"
      ]
     },
     "execution_count": 53,
     "metadata": {},
     "output_type": "execute_result"
    }
   ],
   "source": [
    "lrs[1]/lrs[0]"
   ]
  },
  {
   "cell_type": "code",
   "execution_count": 2,
   "id": "9fef2aa2",
   "metadata": {},
   "outputs": [],
   "source": [
    "from torch.optim.lr_scheduler import ExponentialLR, CosineAnnealingLR, MultiplicativeLR\n"
   ]
  },
  {
   "cell_type": "code",
   "execution_count": null,
   "id": "dce7dec7",
   "metadata": {},
   "outputs": [],
   "source": []
  }
 ],
 "metadata": {
  "kernelspec": {
   "display_name": "Python 3 (ipykernel)",
   "language": "python",
   "name": "python3"
  },
  "language_info": {
   "codemirror_mode": {
    "name": "ipython",
    "version": 3
   },
   "file_extension": ".py",
   "mimetype": "text/x-python",
   "name": "python",
   "nbconvert_exporter": "python",
   "pygments_lexer": "ipython3",
   "version": "3.9.7"
  }
 },
 "nbformat": 4,
 "nbformat_minor": 5
}
