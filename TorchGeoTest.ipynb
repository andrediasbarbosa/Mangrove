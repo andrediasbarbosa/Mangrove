{
 "cells": [
  {
   "cell_type": "markdown",
   "id": "97dffe1c",
   "metadata": {},
   "source": [
    "## Testing if anything works"
   ]
  },
  {
   "cell_type": "code",
   "execution_count": 1,
   "id": "55de0306",
   "metadata": {
    "ExecuteTime": {
     "end_time": "2021-09-30T07:01:46.347510Z",
     "start_time": "2021-09-30T07:01:36.974988Z"
    }
   },
   "outputs": [
    {
     "data": {
      "text/plain": [
       "False"
      ]
     },
     "execution_count": 1,
     "metadata": {},
     "output_type": "execute_result"
    }
   ],
   "source": [
    "import torch\n",
    "torch.cuda.is_available()"
   ]
  },
  {
   "cell_type": "code",
   "execution_count": 2,
   "id": "f9d1a265",
   "metadata": {
    "ExecuteTime": {
     "end_time": "2021-09-30T07:01:46.352936Z",
     "start_time": "2021-09-30T07:01:46.349515Z"
    }
   },
   "outputs": [
    {
     "data": {
      "text/plain": [
       "'1.9.0'"
      ]
     },
     "execution_count": 2,
     "metadata": {},
     "output_type": "execute_result"
    }
   ],
   "source": [
    "torch.__version__"
   ]
  },
  {
   "cell_type": "code",
   "execution_count": 3,
   "id": "e0d17e8e",
   "metadata": {
    "ExecuteTime": {
     "end_time": "2021-09-30T07:01:46.360119Z",
     "start_time": "2021-09-30T07:01:46.355262Z"
    }
   },
   "outputs": [
    {
     "data": {
      "text/plain": [
       "tensor([[0.6383, 0.5959, 0.6232],\n",
       "        [0.1191, 0.8039, 0.6905],\n",
       "        [0.1223, 0.7219, 0.2641],\n",
       "        [0.1298, 0.1866, 0.8986],\n",
       "        [0.2556, 0.1959, 0.9379]])"
      ]
     },
     "execution_count": 3,
     "metadata": {},
     "output_type": "execute_result"
    }
   ],
   "source": [
    "torch.rand(5,3)"
   ]
  },
  {
   "cell_type": "code",
   "execution_count": 4,
   "id": "b2d97101",
   "metadata": {
    "ExecuteTime": {
     "end_time": "2021-09-30T07:01:46.509477Z",
     "start_time": "2021-09-30T07:01:46.363221Z"
    }
   },
   "outputs": [
    {
     "name": "stdout",
     "output_type": "stream",
     "text": [
      "Python 3.8.8\r\n"
     ]
    }
   ],
   "source": [
    "!python --version"
   ]
  },
  {
   "cell_type": "code",
   "execution_count": 5,
   "id": "9f28343c",
   "metadata": {
    "ExecuteTime": {
     "end_time": "2021-09-30T07:01:48.669826Z",
     "start_time": "2021-09-30T07:01:46.511599Z"
    },
    "scrolled": false
   },
   "outputs": [],
   "source": [
    "import torch_geometric as tg"
   ]
  },
  {
   "cell_type": "code",
   "execution_count": 6,
   "id": "cd05cd93",
   "metadata": {
    "ExecuteTime": {
     "end_time": "2021-09-30T07:01:48.673221Z",
     "start_time": "2021-09-30T07:01:48.671159Z"
    }
   },
   "outputs": [],
   "source": [
    "import torch_sparse as ts"
   ]
  },
  {
   "cell_type": "code",
   "execution_count": 7,
   "id": "1a09ce02",
   "metadata": {
    "ExecuteTime": {
     "end_time": "2021-09-30T07:01:48.808767Z",
     "start_time": "2021-09-30T07:01:48.675528Z"
    }
   },
   "outputs": [
    {
     "name": "stdout",
     "output_type": "stream",
     "text": [
      "zsh:1: command not found: nvidia-smi\r\n"
     ]
    }
   ],
   "source": [
    "!nvidia-smi"
   ]
  },
  {
   "cell_type": "code",
   "execution_count": 8,
   "id": "15ca6546",
   "metadata": {
    "ExecuteTime": {
     "end_time": "2021-09-30T07:01:48.817486Z",
     "start_time": "2021-09-30T07:01:48.812892Z"
    }
   },
   "outputs": [],
   "source": [
    "from torch_geometric.data import Data\n",
    "\n",
    "edge_index = torch.tensor([[0, 1, 1, 2],\n",
    "                           [1, 0, 2, 1]], dtype=torch.long)\n",
    "x = torch.tensor([[-1], [0], [1]], dtype=torch.float)\n",
    "\n",
    "data = Data(x=x, edge_index=edge_index)"
   ]
  },
  {
   "cell_type": "code",
   "execution_count": 9,
   "id": "0585294a",
   "metadata": {
    "ExecuteTime": {
     "end_time": "2021-09-30T07:01:48.822148Z",
     "start_time": "2021-09-30T07:01:48.819757Z"
    }
   },
   "outputs": [],
   "source": [
    "disconnect=Data(x)"
   ]
  },
  {
   "cell_type": "code",
   "execution_count": 11,
   "id": "dc956119",
   "metadata": {
    "ExecuteTime": {
     "end_time": "2021-09-30T07:01:55.558505Z",
     "start_time": "2021-09-30T07:01:55.556498Z"
    }
   },
   "outputs": [],
   "source": [
    "# Transfer data object to GPU.\n",
    "# device = torch.device('cuda')\n",
    "# data = data.to(device)"
   ]
  },
  {
   "cell_type": "markdown",
   "id": "21c0cb89",
   "metadata": {},
   "source": [
    "### Trying with real data"
   ]
  },
  {
   "cell_type": "code",
   "execution_count": 12,
   "id": "359b55a7",
   "metadata": {
    "ExecuteTime": {
     "end_time": "2021-09-30T07:02:00.589825Z",
     "start_time": "2021-09-30T07:01:56.300052Z"
    }
   },
   "outputs": [
    {
     "name": "stderr",
     "output_type": "stream",
     "text": [
      "Downloading https://www.chrsmrrs.com/graphkerneldatasets/PROTEINS.zip\n",
      "Extracting data/TUDataset/PROTEINS/PROTEINS.zip\n",
      "Processing...\n",
      "Done!\n"
     ]
    }
   ],
   "source": [
    "from torch_geometric.datasets import TUDataset\n",
    "\n",
    "# dataset = TUDataset(root='data/TUDataset', name='ENZYMES')\n",
    "dataset = TUDataset(root='data/TUDataset', name='PROTEINS')"
   ]
  },
  {
   "cell_type": "code",
   "execution_count": 17,
   "id": "c0706140",
   "metadata": {
    "ExecuteTime": {
     "end_time": "2021-09-30T07:04:59.783952Z",
     "start_time": "2021-09-30T07:04:59.780272Z"
    }
   },
   "outputs": [
    {
     "data": {
      "text/plain": [
       "Data(x=[43471, 3], edge_index=[2, 162088], y=[1113])"
      ]
     },
     "execution_count": 17,
     "metadata": {},
     "output_type": "execute_result"
    }
   ],
   "source": [
    "dataset.data"
   ]
  },
  {
   "cell_type": "code",
   "execution_count": null,
   "id": "207647a0",
   "metadata": {
    "ExecuteTime": {
     "end_time": "2021-09-17T19:20:23.988104Z",
     "start_time": "2021-09-17T19:20:23.985996Z"
    },
    "scrolled": true
   },
   "outputs": [],
   "source": [
    "# for data in dataset:\n",
    "#     if data.y!=1:\n",
    "#         print('new class')"
   ]
  },
  {
   "cell_type": "code",
   "execution_count": null,
   "id": "6d75bd02",
   "metadata": {
    "ExecuteTime": {
     "end_time": "2021-09-17T19:20:24.373509Z",
     "start_time": "2021-09-17T19:20:24.229483Z"
    }
   },
   "outputs": [],
   "source": [
    "from torch_geometric.loader import DataLoader as DataL\n",
    "loader = DataL(dataset, batch_size=101, shuffle=0)\n",
    "#edge index dimensions, node feature dimensions, target variable dimension, batch dim, ptr=indices for splitting \n",
    "#graphs in batch\n",
    "for batch in loader:\n",
    "    print(batch)"
   ]
  },
  {
   "cell_type": "code",
   "execution_count": null,
   "id": "b2b1ecca",
   "metadata": {
    "ExecuteTime": {
     "end_time": "2021-09-17T19:20:32.555481Z",
     "start_time": "2021-09-17T19:20:32.550698Z"
    }
   },
   "outputs": [],
   "source": [
    "batch.ptr, batch.x[:22]"
   ]
  },
  {
   "cell_type": "code",
   "execution_count": null,
   "id": "0f92f7a1",
   "metadata": {
    "ExecuteTime": {
     "end_time": "2021-09-17T19:20:33.442083Z",
     "start_time": "2021-09-17T19:20:33.213443Z"
    }
   },
   "outputs": [],
   "source": [
    "import torch.nn.functional as F\n",
    "from torch.nn import Linear\n",
    "from torch_geometric.nn import GCNConv, global_mean_pool\n",
    "\n",
    "class BaseGCN(torch.nn.Module):\n",
    "    def __init__(self):\n",
    "        super().__init__()\n",
    "        self.conv1 = GCNConv(dataset.num_node_features, 16)\n",
    "        self.conv2 = GCNConv(16, dataset.num_classes)\n",
    "\n",
    "    def forward(self, data):\n",
    "        x, edge_index = data.x, data.edge_index\n",
    "\n",
    "        x = self.conv1(x, edge_index)\n",
    "        x = F.relu(x)\n",
    "        x = F.dropout(x, training=self.training)\n",
    "        x = self.conv2(x, edge_index)\n",
    "        x = global_mean_pool(x, 101)\n",
    "        return F.log_softmax(x, dim=101)\n",
    "    \n",
    "# Define our GCN class as a pytorch Module\n",
    "class GCN(torch.nn.Module):\n",
    "    def __init__(self, hidden_channels):\n",
    "        super(GCN, self).__init__()\n",
    "        # We inherit from pytorch geometric's GCN class, and we initialize three layers\n",
    "        self.conv1 = GCNConv(dataset.num_node_features, hidden_channels)\n",
    "        self.conv2 = GCNConv(hidden_channels, hidden_channels)\n",
    "        self.conv3 = GCNConv(hidden_channels, hidden_channels)\n",
    "        # Our final linear layer will define our output\n",
    "        self.lin = Linear(hidden_channels, dataset.num_classes)\n",
    "        \n",
    "    def forward(self, x, edge_index, batch):\n",
    "      # 1. Obtain node embeddings \n",
    "      x = self.conv1(x, edge_index)\n",
    "      x = x.relu()\n",
    "      x = self.conv2(x, edge_index)\n",
    "      x = x.relu()\n",
    "      x = self.conv3(x, edge_index)   \n",
    " \n",
    "      # 2. Readout layer\n",
    "      x = global_mean_pool(x, batch)  # [batch_size, hidden_channels]\n",
    " \n",
    "      # 3. Apply a final classifier\n",
    "      x = F.dropout(x, p=0.5, training=self.training)\n",
    "      x = self.lin(x)\n",
    "      return x\n",
    "    \n",
    "model = GCN(hidden_channels=64)"
   ]
  },
  {
   "cell_type": "code",
   "execution_count": null,
   "id": "03f3f2da",
   "metadata": {
    "ExecuteTime": {
     "end_time": "2021-09-17T19:20:33.900399Z",
     "start_time": "2021-09-17T19:20:33.897932Z"
    }
   },
   "outputs": [],
   "source": [
    "# device = torch.device('cuda' if torch.cuda.is_available() else 'cpu')\n",
    "# model = GCN(64).to(device)\n",
    "# # data = dataset.to(device)\n",
    "# optimizer = torch.optim.Adam(model.parameters(), lr=0.01, weight_decay=5e-4)\n",
    "\n",
    "# # model.train()\n",
    "# # for epoch in range(200):\n",
    "# #     for batch in loader:\n",
    "# #         optimizer.zero_grad()\n",
    "# #         out = model(batch)\n",
    "# #         loss = F.nll_loss(out, batch.y)\n",
    "# #         loss.backward()\n",
    "# #         optimizer.step()"
   ]
  },
  {
   "cell_type": "code",
   "execution_count": null,
   "id": "4a21b813",
   "metadata": {
    "ExecuteTime": {
     "end_time": "2021-09-17T19:22:57.648045Z",
     "start_time": "2021-09-17T19:20:34.385732Z"
    }
   },
   "outputs": [],
   "source": [
    "criterion = torch.nn.CrossEntropyLoss()\n",
    "dataset = dataset.shuffle()\n",
    "test_data=dataset[int(len(dataset)*0.8):]\n",
    "train_data=dataset[:int(len(dataset)*0.8)]\n",
    "\n",
    "train_loader=DataL(train_data, batch_size=64, shuffle=1)\n",
    "test_loader=DataL(test_data, batch_size=64, shuffle=1)    \n",
    "optimizer = torch.optim.Adam(model.parameters(), lr=0.01)\n",
    "# Initialize our train function\n",
    "def train():\n",
    "    model.train()\n",
    " \n",
    "    for data in train_loader:  # Iterate in batches over the training dataset.\n",
    "        out = model(data.x, data.edge_index, data.batch)  # Perform a single forward pass.\n",
    "        loss = criterion(out, data.y)  # Compute the loss.\n",
    "        loss.backward()  # Derive gradients.\n",
    "        optimizer.step()  # Update parameters based on gradients.\n",
    "        optimizer.zero_grad()  # Clear gradients.\n",
    " # Define our test function\n",
    "def test(loader):\n",
    "    model.eval()\n",
    " \n",
    "    correct = 0\n",
    "    for data in loader:  # Iterate in batches over the training/test dataset.\n",
    "      out = model(data.x, data.edge_index, data.batch)  \n",
    "      pred = out.argmax(dim=1)  # Use the class with highest probability.\n",
    "      correct += int((pred == data.y).sum())  # Check against ground-truth labels.\n",
    "    return correct / len(loader.dataset)  # Derive ratio of correct predictions.\n",
    "tr_acc, te_acc=[],[]\n",
    "# Run for 200 epochs (range is exclusive in the upper bound)\n",
    "for epoch in range(200):\n",
    "    train()\n",
    "    train_acc = test(train_loader)\n",
    "    test_acc = test(test_loader)\n",
    "    tr_acc.append(train_acc)\n",
    "    te_acc.append(test_acc)\n",
    "    \n",
    "    if (epoch+1)%10==0:\n",
    "        print(f'Epoch: {epoch+1:03d}, Train Acc: {train_acc:.4f}, Test Acc: {test_acc:.4f}')\n"
   ]
  },
  {
   "cell_type": "code",
   "execution_count": null,
   "id": "f2e5dcf6",
   "metadata": {
    "ExecuteTime": {
     "end_time": "2021-09-17T19:22:58.126618Z",
     "start_time": "2021-09-17T19:22:57.649719Z"
    }
   },
   "outputs": [],
   "source": [
    "import matplotlib.pyplot as plt\n",
    "plt.plot(tr_acc)\n",
    "plt.plot(te_acc)"
   ]
  },
  {
   "cell_type": "code",
   "execution_count": null,
   "id": "61c46393",
   "metadata": {
    "ExecuteTime": {
     "end_time": "2021-09-17T19:22:58.132122Z",
     "start_time": "2021-09-17T19:22:58.128765Z"
    }
   },
   "outputs": [],
   "source": [
    "len(test_data), len(train_data) "
   ]
  },
  {
   "cell_type": "code",
   "execution_count": null,
   "id": "90ed3fb9",
   "metadata": {
    "ExecuteTime": {
     "end_time": "2021-09-17T19:22:58.139985Z",
     "start_time": "2021-09-17T19:22:58.133693Z"
    }
   },
   "outputs": [],
   "source": [
    "sum(test_data.data.y)/len(test_data.data.y)"
   ]
  },
  {
   "cell_type": "code",
   "execution_count": null,
   "id": "67918e77",
   "metadata": {},
   "outputs": [],
   "source": []
  }
 ],
 "metadata": {
  "hide_input": false,
  "kernelspec": {
   "display_name": "Python 3",
   "language": "python",
   "name": "python3"
  },
  "language_info": {
   "codemirror_mode": {
    "name": "ipython",
    "version": 3
   },
   "file_extension": ".py",
   "mimetype": "text/x-python",
   "name": "python",
   "nbconvert_exporter": "python",
   "pygments_lexer": "ipython3",
   "version": "3.8.8"
  }
 },
 "nbformat": 4,
 "nbformat_minor": 5
}
