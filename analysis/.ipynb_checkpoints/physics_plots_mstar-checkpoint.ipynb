{
 "cells": [
  {
   "cell_type": "code",
   "execution_count": 1,
   "id": "4b662f45",
   "metadata": {},
   "outputs": [],
   "source": [
    "import pickle, os, torch\n",
    "import os.path as osp\n",
    "import numpy as np\n",
    "import matplotlib.pyplot as plt"
   ]
  },
  {
   "cell_type": "code",
   "execution_count": 2,
   "id": "99ed7e1e",
   "metadata": {},
   "outputs": [],
   "source": [
    "folder = 'results_sweep_smass_040122'\n",
    "run = 'Sage_vlarge_all_4t_z0.0_quantile_raw_vculwx'\n",
    "pointer=osp.expanduser(f'~/../../scratch/gpfs/cj1223/GraphResults/{folder}/{run}')    "
   ]
  },
  {
   "cell_type": "code",
   "execution_count": 3,
   "id": "e9b43e62",
   "metadata": {},
   "outputs": [
    {
     "name": "stdout",
     "output_type": "stream",
     "text": [
      "{'experiment': 'GraphMerge', 'group': 'sweep_smass', 'move': False, 'model': 'Sage', 'log': True, 'run_params': {'n_epochs': 250, 'n_trials': 1, 'batch_size': 512, 'val_epoch': 2, 'early_stopping': True, 'patience': 20, 'l1_lambda': 0.0, 'l2_lambda': 0.0, 'loss_func': 'L2', 'metrics': 'test_multi', 'performance_plot': 'SAM_base', 'shuffle': True, 'save': True, 'seed': False, 'num_workers': 4}, 'learn_params': {'learning_rate': 0.001, 'schedule': 'warmup_expcos', 'g_up': 1, 'g_down': 0.95, 'warmup': 4, 'period': 10, 'eta_min': 1e-05}, 'hyper_params': {'hidden_channels': 128, 'conv_layers': 5, 'conv_activation': 'relu', 'decode_activation': 'leakyrelu', 'decode_layers': 2, 'layernorm': True, 'agg': 'sum', 'variance': False, 'rho': 0, 'in_channels': 43, 'out_channels': 1}, 'data_params': {'case': 'vlarge_all_4t_z0.0_quantile_raw', 'targets': [0], 'split': 0.8, 'shuffle': 0}, 'experiment_name': 'lea0.001g_u1.7g_d0.95con5.0dec2.0hid128.0l1_0.0l2_0.0'}\n"
     ]
    }
   ],
   "source": [
    "lows=[]\n",
    "pred = []\n",
    "  \n",
    "results=pickle.load(open(osp.join(pointer,'result_dict.pkl'), 'rb'))\n",
    "ys=results['ys']+9\n",
    "pred=results['pred']+9\n",
    "config=pickle.load(open(osp.join(pointer,'construct_dict.pkl'), 'rb'))\n",
    "data_p=config[\"data_params\"]\n",
    "print(config)"
   ]
  },
  {
   "cell_type": "code",
   "execution_count": null,
   "id": "5e29f1f5",
   "metadata": {},
   "outputs": [],
   "source": [
    "datat=pickle.load(open(osp.expanduser(f'~/../../../scratch/gpfs/cj1223/GraphStorage/{data_p[\"case\"]}/data.pkl'), 'rb'))\n",
    "from torch_geometric.data import Data\n",
    "data=[]\n",
    "for d in datat:\n",
    "    data.append(Data(x=d.x, edge_index=d.edge_index, edge_attr=d.edge_attr, y=d.y[[data_p[\"targets\"]]]))"
   ]
  },
  {
   "cell_type": "code",
   "execution_count": null,
   "id": "f454b367",
   "metadata": {},
   "outputs": [],
   "source": [
    "if not data_p[\"shuffle\"]:\n",
    "    test_data=data[int(len(data)*0.8):]\n",
    "    train_data=data[:int(len(data)*0.8)]    "
   ]
  },
  {
   "cell_type": "code",
   "execution_count": null,
   "id": "b9f5d1fa",
   "metadata": {},
   "outputs": [],
   "source": [
    "Mhf=[]\n",
    "M200= []\n",
    "M500 = []\n",
    "M2500 = []\n",
    "for d in test_data:\n",
    "    Mhf.append(d.x.numpy()[0,3])\n",
    "    M200.append(d.x.numpy()[0,23])\n",
    "    M500.append(d.x.numpy()[0,24])\n",
    "    M2500.append(d.x.numpy()[0,25])  \n",
    "    "
   ]
  },
  {
   "cell_type": "code",
   "execution_count": null,
   "id": "624c5239",
   "metadata": {},
   "outputs": [],
   "source": [
    "transform_path=osp.expanduser(f'~/../../scratch/gpfs/cj1223/GraphStorage')  \n",
    "transformer=pickle.load(open(osp.join(transform_path,'transformers','quantile_allfeat_1.pkl'), 'rb'))"
   ]
  },
  {
   "cell_type": "code",
   "execution_count": null,
   "id": "a2b3d55d",
   "metadata": {},
   "outputs": [],
   "source": [
    "Mhf=np.hstack(transformer[10].inverse_transform(np.array(Mhf).reshape(-1,1)))\n",
    "M200=np.hstack(transformer[40].inverse_transform(np.array(M200).reshape(-1,1)))\n",
    "M500=np.hstack(transformer[41].inverse_transform(np.array(M500).reshape(-1,1)))\n",
    "M2500=np.hstack(transformer[42].inverse_transform(np.array(M2500).reshape(-1,1)))"
   ]
  },
  {
   "cell_type": "code",
   "execution_count": null,
   "id": "63ecaec1",
   "metadata": {},
   "outputs": [],
   "source": [
    "nbins=25\n",
    "edges=np.percentile(Mhf, np.linspace(0,100,nbins))\n",
    "# edges=np.linspace(min(Mhf), max(Mhf),nbins)\n",
    "centers=(edges[:-1]+edges[1:])/2\n",
    "sigM=[]\n",
    "ysigs, predsigs = [], []\n",
    "yb, predb = [], []\n",
    "for i in range(len(edges)-1):\n",
    "    mask=np.logical_and(edges[i]<=Mhf,edges[i+1]>=Mhf)\n",
    "    ysigs.append(np.std(ys[mask]))\n",
    "    predsigs.append(np.std(pred[mask]))\n",
    "    sigM.append(np.std(pred[mask]-ys[mask]))\n",
    "    yb.append(np.mean(ys[mask]-pred[mask]))\n",
    "#     predb.append(np.mean(pred[mask]))\n",
    "    \n",
    "sigM=np.array(sigM)\n",
    "ysigs, predsigs = np.array(ysigs), np.array(predsigs)\n",
    "yb, predb = np.array(yb), np.array(predb)"
   ]
  },
  {
   "cell_type": "code",
   "execution_count": null,
   "id": "a148a9d0",
   "metadata": {
    "scrolled": false
   },
   "outputs": [],
   "source": [
    "nbins=10\n",
    "bin_plot=100\n",
    "edges1=np.percentile(ys, np.linspace(0,100,nbins))\n",
    "centers_Ms=(edges1[:-1]+edges1[1:])/2\n",
    "sigMs=[]\n",
    "ysig_Ms, predsig_Ms = [], []\n",
    "\n",
    "ybs, predbs = [], []\n",
    "\n",
    "for i in range(len(edges1)-1):\n",
    "    mask=np.logical_and(edges1[i]<=ys,edges1[i+1]>=ys)\n",
    "    ysig_Ms.append(np.std(ys[mask]))\n",
    "    predsig_Ms.append(np.std(pred[mask]))\n",
    "    sigMs.append(np.std(pred[mask]-ys[mask]))\n",
    "    \n",
    "    ybs.append(np.mean(ys[mask]))\n",
    "    predbs.append(np.mean(pred[mask]))\n",
    "#     fig, ax = plt.subplots()\n",
    "# #     ax.plot(pred[mask],'o', markersize=2, alpha=0.9, label='Prediction')\n",
    "# #     ax.plot(ys[mask],'ro', markersize=2, alpha=0.2, label='True')\n",
    "#     tot=np.hstack([pred[mask], ys[mask]])\n",
    "#     ax.hist(pred[mask],bins=bin_plot, range=(min(tot), max(tot)),\n",
    "#                                                   histtype='step', density=1, label='Prediction')\n",
    "#     ax.hist(ys[mask], bins=bin_plot, range=(min(tot), max(tot)),\n",
    "#                                      histtype='step', density=1, label='True')\n",
    "#     ax.vlines(edges1[i], 0,1, 'k')\n",
    "#     ax.vlines(edges1[i+1], 0,1, 'k')\n",
    "    \n",
    "#     ax.set(title=f'Pred sig {np.std(pred[mask]):.3f}, SAM sig {np.std(ys[mask]):.3f}, bin {edges1[i+1]-edges1[i]}')\n",
    "#     ax.legend()\n",
    "    \n",
    "sigMs=np.array(sigMs)\n",
    "ysig_Ms, predsig_Ms = np.array(ysig_Ms), np.array(predsig_Ms)\n",
    "ybs, predbs = np.array(ybs),np.array(predbs)"
   ]
  },
  {
   "cell_type": "code",
   "execution_count": null,
   "id": "e0c3c842",
   "metadata": {},
   "outputs": [],
   "source": [
    "yb, predb"
   ]
  },
  {
   "cell_type": "code",
   "execution_count": null,
   "id": "4cb0d6a4",
   "metadata": {},
   "outputs": [],
   "source": [
    "fig, ax =plt.subplots(ncols=2,nrows=2, figsize=(12,10))\n",
    "ax=ax.flatten()\n",
    "ax[0].plot(Mhf, pred,'ro', markersize=2, alpha=0.7, label='Prediction')\n",
    "ax[0].set(xlabel=r'log($M_h$)', ylabel=r'log($M_*$)', title='GNN Halo-galaxy mass relation', ylim=(5,12))\n",
    "# ax[0].legend(loc='upper left')\n",
    "\n",
    "ax[1].plot(Mhf, ys,'ro', markersize=2, alpha=0.7, label='True')\n",
    "ax[1].set(xlabel=r'log($M_h$)', ylabel=r'log($M_*$)', title='SAM Halo-galaxy mass relation', ylim=(5,12))\n",
    "# ax[1].legend(loc='upper left')\n",
    "\n",
    "ax[2].vlines(edges, min(predsigs)-0.03, min(predsigs)-0.01, color='gray', linestyle='--', label='bins used')\n",
    "ax[2].plot(centers, ysigs, 'b--', label='SAM width in bin')\n",
    "ax[2].plot(centers, predsigs, 'r--', label='GNN width in bin')\n",
    "ax[2].set(xlabel=r'log($M_h$) bin center', ylabel=r'Scatter in mass bin', title='GNN follows the M_halo dependency extremely well')\n",
    "ax[2].legend()\n",
    "\n",
    "ax[3].vlines(edges, min(yb)-0.03/5, min(yb)-0.01/5, color='gray', linestyle='--', label='bins used')\n",
    "ax[3].plot(centers, yb, 'b.', label='GNN bias in bin')\n",
    "ax[3].set(xlabel=r'log($M_h$) bin center', ylabel=r'Bias in mass bin', title='GNN follows the M_halo dependency extremely well')\n",
    "ax[3].legend()\n",
    "\n",
    "fig.tight_layout()"
   ]
  },
  {
   "cell_type": "code",
   "execution_count": null,
   "id": "6644cbd0",
   "metadata": {},
   "outputs": [],
   "source": [
    "fig, ax =plt.subplots(ncols=3,nrows=1, figsize=(20,5))\n",
    "ax=ax.flatten()\n",
    "ax[0].plot(Mhf, pred,'o', markersize=2, alpha=0.7, label='Prediction')\n",
    "ax[0].plot(Mhf, ys,'ro', markersize=2, alpha=0.7, label='True')\n",
    "ax[0].set(xlabel=r'log($M_h$)', ylabel=r'log($M_*$)', title='Halo-galaxy mass relation')\n",
    "ax[0].legend()\n",
    "ax[1].vlines(edges, min(predsigs)-0.03, min(predsigs)-0.01, color='gray', linestyle='--', label='bins used')\n",
    "ax[1].plot(centers, ysigs, 'b--', label='SAM width in bin')\n",
    "ax[1].plot(centers, predsigs, 'r--', label='GNN width in bin')\n",
    "ax[1].set(xlabel=r'log($M_h$) bin center', ylabel=r'Scatter in mass bin', title='GNN follows the M_halo dependency extremely well')\n",
    "ax[1].legend()\n",
    "\n",
    "ax[2].vlines(edges1, min(predsig_Ms)-0.03, min(predsig_Ms)-0.01, color='gray', linestyle='--', label='bins used')\n",
    "ax[2].plot(centers_Ms, ysig_Ms, 'b--', label='SAM width in bin')\n",
    "ax[2].plot(centers_Ms, predsig_Ms, 'r--', label='GNN width in bin')\n",
    "ax[2].set(xlabel=r'log($M_{\\odot}$) bin center', ylabel=r'Scatter in stellar mass bin', title='M_stellar is less broad in bins of M_stellar (of course)')\n",
    "ax[2].legend()"
   ]
  },
  {
   "cell_type": "code",
   "execution_count": null,
   "id": "602ea2fd",
   "metadata": {},
   "outputs": [],
   "source": [
    "plt.plot( centers, np.array(sigM)/np.array(ysigs))"
   ]
  },
  {
   "cell_type": "code",
   "execution_count": null,
   "id": "e7371688",
   "metadata": {},
   "outputs": [],
   "source": [
    "import matplotlib as mpl\n",
    "bins=50\n",
    "l=0.02\n",
    "res=ys.flatten()-pred.flatten()\n",
    "fig, ax =plt.subplots(ncols=2,nrows=1, figsize=(10,5))\n",
    "ax=ax.flatten()\n",
    "ax[0].hist2d(np.array(Mhf), res, bins=bins, range=[np.percentile(Mhf, [0,100]),\n",
    "            np.percentile(res, [0+l,100-l])], norm=mpl.colors.LogNorm(), cmap=mpl.cm.magma)\n",
    "ax[0].plot(centers, sigM, 'w--')\n",
    "ax[0].plot(centers, -sigM, 'w--')\n",
    "\n",
    "ax[0].set(xlabel=r'log($M_h$)', ylabel=r'log($M_*$)', title='Prediction error - halo mass relation')\n",
    "# ax[0].legend()\n",
    "ax[1].hist2d(ys.flatten(), res, bins=bins, range=[np.percentile(ys.flatten(), [l,100-1]),\n",
    "            np.percentile(res, [0+l,100-l])], norm=mpl.colors.LogNorm(), cmap=mpl.cm.magma)\n",
    "\n",
    "ax[1].plot(centers_Ms, sigMs, 'w--')\n",
    "ax[1].plot(centers_Ms, -sigMs, 'w--')\n",
    "\n",
    "ax[1].set(xlabel=r'log($M_{\\odot}$)', \n",
    "          ylabel=r'log($M_{\\odot, SAM}$)-log($M_{\\odot,GNN}$)', \n",
    "          title='Prediction error - galaxy mass relation')\n",
    "# ax[1].legend()\n",
    "fig.tight_layout()"
   ]
  },
  {
   "cell_type": "code",
   "execution_count": null,
   "id": "02283e2a",
   "metadata": {},
   "outputs": [],
   "source": [
    "fig, ax =plt.subplots(ncols=2,nrows=1, figsize=(14,6))\n",
    "ax=ax.flatten()\n",
    "ax[0].plot(M200, pred,'o', markersize=2, alpha=0.9, label='GNN')\n",
    "ax[0].plot(M200, ys,'ro', markersize=2, alpha=0.5, label='SAM')\n",
    "ax[0].set(xlabel=r'log($M_{200c}$)', ylabel=r'log($M_*$)', title='M200-galaxy mass relation')\n",
    "ax[0].legend()\n",
    "ax[1].plot(M200, pred-ys,'ro', markersize=2, alpha=0.9, label='Prediction-true')\n",
    "ax[1].set(xlabel=r'log($M_{200c}$)', ylabel=r'$\\Delta$ log($M_*$)', title='M200-galaxy mass relation')\n",
    "ax[1].legend()"
   ]
  }
 ],
 "metadata": {
  "kernelspec": {
   "display_name": "Python 3 (ipykernel)",
   "language": "python",
   "name": "python3"
  },
  "language_info": {
   "codemirror_mode": {
    "name": "ipython",
    "version": 3
   },
   "file_extension": ".py",
   "mimetype": "text/x-python",
   "name": "python",
   "nbconvert_exporter": "python",
   "pygments_lexer": "ipython3",
   "version": "3.9.7"
  }
 },
 "nbformat": 4,
 "nbformat_minor": 5
}
