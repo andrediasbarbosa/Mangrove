{
 "cells": [
  {
   "cell_type": "code",
   "execution_count": 1,
   "id": "c03addb2",
   "metadata": {},
   "outputs": [],
   "source": [
    "import torch_geometric as tg\n",
    "import networkx as nx\n",
    "import torch, time, pickle, os, sys, argparse\n",
    "from torch_geometric.data import Data\n",
    "import numpy as np\n",
    "import matplotlib.pyplot as plt\n",
    "import pandas as pd\n",
    "from tqdm import tqdm\n",
    "import os.path as osp\n",
    "from itertools import count"
   ]
  },
  {
   "cell_type": "code",
   "execution_count": 2,
   "id": "fba2c4d6",
   "metadata": {},
   "outputs": [],
   "source": [
    "# case='vlarge_4t_quantile_raw_redshift_75_all'\n",
    "case= 'vlarge_all_4t_z0.0_quantile_raw'\n",
    "with open(osp.expanduser(f'~/../../../scratch/gpfs/cj1223/GraphStorage/{case}/data.pkl'), 'rb') as handle:\n",
    "    data=pickle.load(handle)"
   ]
  },
  {
   "cell_type": "code",
   "execution_count": 3,
   "id": "76535156",
   "metadata": {},
   "outputs": [
    {
     "name": "stderr",
     "output_type": "stream",
     "text": [
      "/home/cj1223/.conda/envs/juptorch/lib/python3.9/site-packages/sklearn/base.py:329: UserWarning: Trying to unpickle estimator QuantileTransformer from version 0.24.2 when using version 1.0.2. This might lead to breaking code or invalid results. Use at your own risk. For more info please refer to:\n",
      "https://scikit-learn.org/stable/modules/model_persistence.html#security-maintainability-limitations\n",
      "  warnings.warn(\n"
     ]
    }
   ],
   "source": [
    "transform_path=osp.expanduser(f'~/../../scratch/gpfs/cj1223/GraphStorage')  \n",
    "transformer=pickle.load(open(osp.join(transform_path,'transformers','quantile_allfeat_1.pkl'), 'rb'))\n",
    "tkeys=list(transformer.keys())"
   ]
  },
  {
   "cell_type": "code",
   "execution_count": 4,
   "id": "a1f4ec19",
   "metadata": {},
   "outputs": [],
   "source": [
    "def hierarchy_pos(G, root=None, width=1., vert_gap = 0.2, vert_loc = 0, leaf_vs_root_factor = 0.5):\n",
    "\n",
    "    '''\n",
    "    If the graph is a tree this will return the positions to plot this in a \n",
    "    hierarchical layout.\n",
    "    \n",
    "    Based on Joel's answer at https://stackoverflow.com/a/29597209/2966723,\n",
    "    but with some modifications.  \n",
    "\n",
    "    We include this because it may be useful for plotting transmission trees,\n",
    "    and there is currently no networkx equivalent (though it may be coming soon).\n",
    "    \n",
    "    There are two basic approaches we think of to allocate the horizontal \n",
    "    location of a node.  \n",
    "    \n",
    "    - Top down: we allocate horizontal space to a node.  Then its ``k`` \n",
    "      descendants split up that horizontal space equally.  This tends to result\n",
    "      in overlapping nodes when some have many descendants.\n",
    "    - Bottom up: we allocate horizontal space to each leaf node.  A node at a \n",
    "      higher level gets the entire space allocated to its descendant leaves.\n",
    "      Based on this, leaf nodes at higher levels get the same space as leaf\n",
    "      nodes very deep in the tree.  \n",
    "      \n",
    "    We use use both of these approaches simultaneously with ``leaf_vs_root_factor`` \n",
    "    determining how much of the horizontal space is based on the bottom up \n",
    "    or top down approaches.  ``0`` gives pure bottom up, while 1 gives pure top\n",
    "    down.   \n",
    "    \n",
    "    \n",
    "    :Arguments: \n",
    "    \n",
    "    **G** the graph (must be a tree)\n",
    "\n",
    "    **root** the root node of the tree \n",
    "    - if the tree is directed and this is not given, the root will be found and used\n",
    "    - if the tree is directed and this is given, then the positions will be \n",
    "      just for the descendants of this node.\n",
    "    - if the tree is undirected and not given, then a random choice will be used.\n",
    "\n",
    "    **width** horizontal space allocated for this branch - avoids overlap with other branches\n",
    "\n",
    "    **vert_gap** gap between levels of hierarchy\n",
    "\n",
    "    **vert_loc** vertical location of root\n",
    "    \n",
    "    **leaf_vs_root_factor**\n",
    "\n",
    "    xcenter: horizontal location of root\n",
    "    '''\n",
    "    if not nx.is_tree(G):\n",
    "        raise TypeError('cannot use hierarchy_pos on a graph that is not a tree')\n",
    "\n",
    "    if root is None:\n",
    "        if isinstance(G, nx.DiGraph):\n",
    "            root = next(iter(nx.topological_sort(G)))  #allows back compatibility with nx version 1.11\n",
    "        else:\n",
    "            root = random.choice(list(G.nodes))\n",
    "\n",
    "    def _hierarchy_pos(G, root, leftmost, width, leafdx = 0.2, vert_gap = 0.2, vert_loc = 0, \n",
    "                    xcenter = 0.5, rootpos = None, \n",
    "                    leafpos = None, parent = None):\n",
    "        '''\n",
    "        see hierarchy_pos docstring for most arguments\n",
    "\n",
    "        pos: a dict saying where all nodes go if they have been assigned\n",
    "        parent: parent of this branch. - only affects it if non-directed\n",
    "\n",
    "        '''\n",
    "\n",
    "        if rootpos is None:\n",
    "            rootpos = {root:(xcenter,vert_loc)}\n",
    "        else:\n",
    "            rootpos[root] = (xcenter, vert_loc)\n",
    "        if leafpos is None:\n",
    "            leafpos = {}\n",
    "        children = list(G.neighbors(root))\n",
    "        leaf_count = 0\n",
    "        if not isinstance(G, nx.DiGraph) and parent is not None:\n",
    "            children.remove(parent)  \n",
    "        if len(children)!=0:\n",
    "            rootdx = width/len(children)\n",
    "            nextx = xcenter - width/2 - rootdx/2\n",
    "            for child in children:\n",
    "                nextx += rootdx\n",
    "                rootpos, leafpos, newleaves = _hierarchy_pos(G,child, leftmost+leaf_count*leafdx, \n",
    "                                    width=rootdx, leafdx=leafdx,\n",
    "                                    vert_gap = vert_gap, vert_loc = vert_loc-vert_gap, \n",
    "                                    xcenter=nextx, rootpos=rootpos, leafpos=leafpos, parent = root)\n",
    "                leaf_count += newleaves\n",
    "\n",
    "            leftmostchild = min((x for x,y in [leafpos[child] for child in children]))\n",
    "            rightmostchild = max((x for x,y in [leafpos[child] for child in children]))\n",
    "            leafpos[root] = ((leftmostchild+rightmostchild)/2, vert_loc)\n",
    "        else:\n",
    "            leaf_count = 1\n",
    "            leafpos[root]  = (leftmost, vert_loc)\n",
    "#        pos[root] = (leftmost + (leaf_count-1)*dx/2., vert_loc)\n",
    "#        print(leaf_count)\n",
    "        return rootpos, leafpos, leaf_count\n",
    "\n",
    "    xcenter = width/2.\n",
    "    if isinstance(G, nx.DiGraph):\n",
    "        leafcount = len([node for node in nx.descendants(G, root) if G.out_degree(node)==0])\n",
    "    elif isinstance(G, nx.Graph):\n",
    "        leafcount = len([node for node in nx.node_connected_component(G, root) if G.degree(node)==1 and node != root])\n",
    "    rootpos, leafpos, leaf_count = _hierarchy_pos(G, root, 0, width, \n",
    "                                                    leafdx=width*1./leafcount, \n",
    "                                                    vert_gap=vert_gap, \n",
    "                                                    vert_loc = vert_loc, \n",
    "                                                    xcenter = xcenter)\n",
    "    pos = {}\n",
    "    for node in rootpos:\n",
    "        pos[node] = (leaf_vs_root_factor*leafpos[node][0] + (1-leaf_vs_root_factor)*rootpos[node][0], leafpos[node][1]) \n",
    "#    pos = {node:(leaf_vs_root_factor*x1+(1-leaf_vs_root_factor)*x2, y1) for ((x1,y1), (x2,y2)) in (leafpos[node], rootpos[node]) for node in rootpos}\n",
    "    xmax = max(x for x,y in pos.values())\n",
    "    for node in pos:\n",
    "        pos[node]= (pos[node][0]*width/xmax, pos[node][1])\n",
    "    return pos"
   ]
  },
  {
   "cell_type": "code",
   "execution_count": 5,
   "id": "1fbc838e",
   "metadata": {},
   "outputs": [],
   "source": [
    "j=11\n",
    "k=3\n",
    "feats=data[j].x.numpy()\n",
    "G=tg.utils.to_networkx(data[j])\n",
    "di=nx.betweenness_centrality(G)\n",
    "featr=[]\n",
    "for q,key in enumerate(di.keys()):\n",
    "    feat=transformer[tkeys[k]].inverse_transform(data[j].x.numpy()[q,k].reshape(-1, 1))[0][0]\n",
    "    featr.append(feat)\n",
    "    di[key]=feat\n",
    "zs=np.unique(1/transformer[0].inverse_transform(feats[:,0].reshape(-1,1))-1)\n",
    "# posy=2*(z/max(z)-0.5)  \n",
    "posy=[]\n",
    "vals, counts=np.unique(feats[:,0], return_counts=True)\n",
    "for z in feats[:,0]:\n",
    "    posy.append(np.where(z==vals)[0][0])\n",
    "hpos=hierarchy_pos(G.reverse())\n",
    "for p in hpos.keys():\n",
    "    hpos[p]=[hpos[p][0]*1.05, -posy[p]]\n",
    "\n",
    "#     hpos[p]=[posy[p], hpos[p][0]*1.05]"
   ]
  },
  {
   "cell_type": "code",
   "execution_count": 6,
   "id": "38d971ba",
   "metadata": {},
   "outputs": [
    {
     "data": {
      "text/plain": [
       "array([ 7.1,  7.7,  7.9,  8.1,  8.5,  9.2, 10.3, 10.8])"
      ]
     },
     "execution_count": 6,
     "metadata": {},
     "output_type": "execute_result"
    }
   ],
   "source": [
    "rs=np.round(np.percentile(featr, np.linspace(0,100,8)),1)\n",
    "rs"
   ]
  },
  {
   "cell_type": "code",
   "execution_count": 7,
   "id": "3ecb6253",
   "metadata": {
    "scrolled": true
   },
   "outputs": [],
   "source": [
    "# data[j][np.zeros(291)]"
   ]
  },
  {
   "cell_type": "code",
   "execution_count": 8,
   "id": "28544969",
   "metadata": {},
   "outputs": [],
   "source": [
    "targs = data[j].y.numpy()"
   ]
  },
  {
   "cell_type": "code",
   "execution_count": 11,
   "id": "dec7228e",
   "metadata": {},
   "outputs": [
    {
     "name": "stdout",
     "output_type": "stream",
     "text": [
      "Made graph\n"
     ]
    },
    {
     "name": "stderr",
     "output_type": "stream",
     "text": [
      "/tmp/ipykernel_19670/2142411383.py:24: UserWarning: FixedFormatter should only be used together with FixedLocator\n",
      "  cbar.ax.set_yticklabels(rs)\n"
     ]
    },
    {
     "data": {
      "image/png": "[encoded data removed]",
      "text/plain": [
       "<Figure size 936x1080 with 2 Axes>"
      ]
     },
     "metadata": {
      "needs_background": "light"
     },
     "output_type": "display_data"
    }
   ],
   "source": [
    "from matplotlib import cm\n",
    "plt.rcParams['font.size'] = 20\n",
    "cmap=cm.get_cmap(name='magma')\n",
    "fig,ax=plt.subplots(figsize=(13,15))\n",
    "nx.set_node_attributes(G, di, 'n_prog')\n",
    "labels=nx.get_node_attributes(G, 'n_prog')\n",
    "progs = set(nx.get_node_attributes(G,'n_prog').values())\n",
    "mapping = dict(zip(sorted(progs),count()))\n",
    "nodes = G.nodes()\n",
    "colors = [mapping[G.nodes[n]['n_prog']] for n in nodes]\n",
    "print('Made graph')\n",
    "# G.remove_nodes_from(list(nx.isolates(G)))\n",
    "pos=nx.planar_layout(G)\n",
    "# pos=nx.kamada_kawai_layout(G) #this one is kinda snakey but works pretty well! Slow as hell though\n",
    "# pos=nx._layout(G)\n",
    "ax.set(ylabel='Redshift')\n",
    "ax.set(yticks=-np.arange(len(zs))[1::3])\n",
    "ax.set_yticklabels(np.round(zs[:-1],1)[::-3])\n",
    "\n",
    "ec = nx.draw_networkx_edges(G, hpos, alpha=0.9, arrows=False, ax=ax)\n",
    "nc = nx.draw_networkx_nodes(G, hpos, nodelist=nodes, node_color='w',  \\\n",
    "                            node_size=((feats[:,3]-min(feats[:,3])+1))**3/2, ax=ax)\n",
    "cbar = fig.colorbar(nc)\n",
    "cbar.ax.set_yticklabels(rs)\n",
    "# cbar.set_label('Redshift')\n",
    "cbar.set_label(r'Halo mass [log($M_h/M_{\\odot}$)]')\n",
    "\n",
    "# cbar.set_ticks(featr)\n",
    "ax.tick_params(left=True, bottom=False, labelleft=True, labelbottom=True)\n",
    "ax.set_xticks([]);\n",
    "# ax.set_title(r'Sample merger tree with $M_{*,final}=10^{8.5} M_{\\odot}$' )\n",
    "# ax.vlines(0,-33.5,-68, color='gray', linestyle='dashed')\n",
    "# ax.vlines(1.1,-33.5,-68, color='gray', linestyle='dashed')\n",
    "# ax.hlines(-33.5,0,1.1, color='gray', linestyle='dashed')\n",
    "# ax.hlines(-68,0,1.1, color='gray', linestyle='dashed', label='75% cut')\n",
    "# ax.legend(loc='lower left')\n",
    "# if G.number_of_nodes()<2000:\n",
    "#     print('drawing')\n",
    "#     nx.draw(G, labels=labels, pos=pos,ax=ax, node_size=8, arrowsize=5, cmap=cmap)\n",
    "fig.savefig('../paper_figures/empty_tree.png')"
   ]
  },
  {
   "cell_type": "code",
   "execution_count": null,
   "id": "3e655191",
   "metadata": {
    "scrolled": false
   },
   "outputs": [],
   "source": [
    "from matplotlib import cm\n",
    "plt.rcParams['font.size'] = 20\n",
    "cmap=cm.get_cmap(name='magma')\n",
    "fig,ax=plt.subplots(figsize=(13,15))\n",
    "nx.set_node_attributes(G, di, 'n_prog')\n",
    "labels=nx.get_node_attributes(G, 'n_prog')\n",
    "progs = set(nx.get_node_attributes(G,'n_prog').values())\n",
    "mapping = dict(zip(sorted(progs),count()))\n",
    "nodes = G.nodes()\n",
    "colors = [mapping[G.nodes[n]['n_prog']] for n in nodes]\n",
    "print('Made graph')\n",
    "# G.remove_nodes_from(list(nx.isolates(G)))\n",
    "pos=nx.planar_layout(G)\n",
    "# pos=nx.kamada_kawai_layout(G) #this one is kinda snakey but works pretty well! Slow as hell though\n",
    "# pos=nx._layout(G)\n",
    "ax.set(ylabel='Redshift')\n",
    "ax.set(yticks=-np.arange(len(zs))[1::3])\n",
    "ax.set_yticklabels(np.round(zs[:-1],1)[::-3])\n",
    "\n",
    "ec = nx.draw_networkx_edges(G, hpos, alpha=0.9, arrows=False, ax=ax)\n",
    "nc = nx.draw_networkx_nodes(G, hpos, nodelist=nodes, node_color=colors,  \\\n",
    "                            node_size=((feats[:,3]-min(feats[:,3])+1))**3/2, cmap=plt.cm.jet, ax=ax)\n",
    "cbar = fig.colorbar(nc)\n",
    "cbar.ax.set_yticklabels(rs)\n",
    "# cbar.set_label('Redshift')\n",
    "cbar.set_label(r'Halo mass [log($M_h/M_{\\odot}$)]')\n",
    "\n",
    "# cbar.set_ticks(featr)\n",
    "ax.tick_params(left=True, bottom=False, labelleft=True, labelbottom=True)\n",
    "ax.set_xticks([]);\n",
    "ax.set_title(r'Sample merger tree with $M_{*,final}=10^{8.5} M_{\\odot}$' )\n",
    "ax.vlines(0,-33.5,-68, color='gray', linestyle='dashed')\n",
    "ax.vlines(1.1,-33.5,-68, color='gray', linestyle='dashed')\n",
    "ax.hlines(-33.5,0,1.1, color='gray', linestyle='dashed')\n",
    "ax.hlines(-68,0,1.1, color='gray', linestyle='dashed', label='75% cut')\n",
    "ax.legend(loc='lower left')\n",
    "# if G.number_of_nodes()<2000:\n",
    "#     print('drawing')\n",
    "#     nx.draw(G, labels=labels, pos=pos,ax=ax, node_size=8, arrowsize=5, cmap=cmap)\n",
    "fig.savefig('../paper_figures/full_tree_with_cutout.png')"
   ]
  },
  {
   "cell_type": "code",
   "execution_count": null,
   "id": "dd5123e1",
   "metadata": {},
   "outputs": [],
   "source": [
    "posy=2*(feats[:,0]/max(feats[:,0])-0.5)"
   ]
  },
  {
   "cell_type": "code",
   "execution_count": null,
   "id": "9eec8841",
   "metadata": {},
   "outputs": [],
   "source": [
    "np.round(zs[:-1],1)[::-5]"
   ]
  },
  {
   "cell_type": "code",
   "execution_count": null,
   "id": "fa3b9b9e",
   "metadata": {},
   "outputs": [],
   "source": [
    "np.arange(len(zs))[1::3]"
   ]
  },
  {
   "cell_type": "code",
   "execution_count": null,
   "id": "cac25d4a",
   "metadata": {},
   "outputs": [],
   "source": [
    "targs[0]+9"
   ]
  },
  {
   "cell_type": "code",
   "execution_count": null,
   "id": "228d662d",
   "metadata": {},
   "outputs": [],
   "source": [
    "feat"
   ]
  },
  {
   "cell_type": "code",
   "execution_count": null,
   "id": "9d1d99ea",
   "metadata": {},
   "outputs": [],
   "source": [
    "np.round(zs[:-1],1)[::-2]"
   ]
  },
  {
   "cell_type": "code",
   "execution_count": null,
   "id": "62b71e57",
   "metadata": {},
   "outputs": [],
   "source": [
    "a=np.unique(feats[:,0])\n",
    "ly=len(a)\n",
    "ys=2*np.arange(ly)/(ly)-1"
   ]
  },
  {
   "cell_type": "code",
   "execution_count": null,
   "id": "3b6d0a78",
   "metadata": {},
   "outputs": [],
   "source": [
    "def convert(d,p):\n",
    "    dfin=[]\n",
    "    if len(p)!=len(np.unique(p)):\n",
    "        print('Wrong order of prog/desc')\n",
    "    else:\n",
    "        no=d[0]\n",
    "        for desc in d:\n",
    "            if desc==no:\n",
    "                dfin.append(0)\n",
    "            else:\n",
    "                dfin.append(p.index(desc)+1)\n",
    "    return dfin, np.arange(1, 1+len(p))"
   ]
  },
  {
   "cell_type": "code",
   "execution_count": null,
   "id": "a34bf47e",
   "metadata": {},
   "outputs": [],
   "source": [
    "mls=[]\n",
    "lss=[]\n",
    "for percentile in [75]:\n",
    "    ml=[]\n",
    "    ls=[]\n",
    "    dat=[]\n",
    "    for d in tqdm(data[:15], total=len(data[:15])):\n",
    "#         print(d)\n",
    "        hals=d.x.numpy()\n",
    "        mask=hals[:,0]>np.percentile(hals[:,0], percentile)\n",
    "        de, pr = d.edge_index\n",
    "        ml.append(sum(mask))\n",
    "        ls.append(len(hals))\n",
    "        if np.sum(mask[1:])!=0:\n",
    "            desc, progs = convert(list(np.array(pr)[mask[1:]]), list(np.array(de)[mask[1:]]) )\n",
    "        else:\n",
    "            desc, progs=[0],[0]\n",
    "        edge_index = torch.tensor([progs, desc], dtype=torch.long)\n",
    "        if np.sum(mask)==0:\n",
    "            mask[0]=True\n",
    "        x = torch.tensor(hals[mask], dtype=torch.float)  \n",
    "        y=d.y\n",
    "        \n",
    "        if np.sum(mask)==0:\n",
    "            edge_attr=torch.tensor([1], dtype=torch.float)\n",
    "        else:\n",
    "            edge_attr=d.edge_attr[mask[1:]]\n",
    "        graph=Data(x=x, edge_index=edge_index, edge_attr=edge_attr, y=y)\n",
    "        dat.append(graph)\n",
    "    mls.append(ml)\n",
    "    lss.append(ls)\n",
    "#     case=f'vlarge_4t_quantile_raw_redshift_{percentile}_all'\n",
    "#     print(\"Saving dataset \"+ case)\n",
    "#     if not osp.exists(f'../../../../../scratch/gpfs/cj1223/GraphStorage/{case}'):\n",
    "#         os.mkdir(f'../../../../../scratch/gpfs/cj1223/GraphStorage/{case}')\n",
    "\n",
    "#     with open(f'../../../../../scratch/gpfs/cj1223/GraphStorage/{case}/data.pkl', 'wb') as handle:\n",
    "#         pickle.dump(dat, handle)"
   ]
  },
  {
   "cell_type": "code",
   "execution_count": null,
   "id": "eacca047",
   "metadata": {},
   "outputs": [],
   "source": [
    "j=11\n",
    "k=3\n",
    "feats=dat[j].x.numpy()\n",
    "G=tg.utils.to_networkx(dat[j])\n",
    "di=nx.betweenness_centrality(G)\n",
    "featr=[]\n",
    "for q,key in enumerate(di.keys()):\n",
    "    feat=transformer[tkeys[k]].inverse_transform(dat[j].x.numpy()[q,k].reshape(-1, 1))[0][0]\n",
    "    featr.append(feat)\n",
    "    di[key]=feat\n",
    "zs=np.unique(1/transformer[0].inverse_transform(feats[:,0].reshape(-1,1))-1)\n",
    "# posy=2*(z/max(z)-0.5)  \n",
    "posy=[]\n",
    "vals, counts=np.unique(feats[:,0], return_counts=True)\n",
    "for z in feats[:,0]:\n",
    "    posy.append(np.where(z==vals)[0][0])\n",
    "hpos=hierarchy_pos(G.reverse())\n",
    "for p in hpos.keys():\n",
    "    hpos[p]=[hpos[p][0]*1.05, -posy[p]]\n",
    "\n",
    "#     hpos[p]=[posy[p], hpos[p][0]*1.05]"
   ]
  },
  {
   "cell_type": "code",
   "execution_count": null,
   "id": "cfbb3982",
   "metadata": {},
   "outputs": [],
   "source": [
    "rs=np.round(np.percentile(featr, np.linspace(0,100,8)),1)\n",
    "rs"
   ]
  },
  {
   "cell_type": "code",
   "execution_count": null,
   "id": "9f98de59",
   "metadata": {},
   "outputs": [],
   "source": [
    "targs = dat[j].y.numpy()"
   ]
  },
  {
   "cell_type": "code",
   "execution_count": null,
   "id": "b7453b64",
   "metadata": {
    "scrolled": false
   },
   "outputs": [],
   "source": [
    "from matplotlib import cm\n",
    "plt.rcParams['font.size'] = 20\n",
    "cmap=cm.get_cmap(name='magma')\n",
    "fig,ax=plt.subplots(figsize=(13,15))\n",
    "nx.set_node_attributes(G, di, 'n_prog')\n",
    "labels=nx.get_node_attributes(G, 'n_prog')\n",
    "progs = set(nx.get_node_attributes(G,'n_prog').values())\n",
    "mapping = dict(zip(sorted(progs),count()))\n",
    "nodes = G.nodes()\n",
    "colors = [mapping[G.nodes[n]['n_prog']] for n in nodes]\n",
    "print('Made graph')\n",
    "# G.remove_nodes_from(list(nx.isolates(G)))\n",
    "pos=nx.planar_layout(G)\n",
    "# pos=nx.kamada_kawai_layout(G) #this one is kinda snakey but works pretty well! Slow as hell though\n",
    "# pos=nx._layout(G)\n",
    "ax.set(ylabel='Redshift')\n",
    "ax.set(yticks=-np.arange(len(zs))[1::3])\n",
    "ax.set_yticklabels(np.round(zs[:-1],1)[::-3])\n",
    "\n",
    "ec = nx.draw_networkx_edges(G, hpos, alpha=0.9, arrows=False, ax=ax, width=2)\n",
    "nc = nx.draw_networkx_nodes(G, hpos, nodelist=nodes, node_color=colors,  \\\n",
    "                            node_size=((feats[:,3]-min(feats[:,3])+1))**3*2, cmap=plt.cm.jet, ax=ax)\n",
    "cbar = fig.colorbar(nc)\n",
    "cbar.ax.set_yticklabels(rs)\n",
    "# cbar.set_label('Redshift')\n",
    "cbar.set_label(r'Halo mass [log($M_h/M_{\\odot}$)]')\n",
    "\n",
    "# cbar.set_ticks(featr)\n",
    "ax.tick_params(left=True, bottom=False, labelleft=True, labelbottom=True)\n",
    "ax.set_xticks([]);\n",
    "ax.set_title(r'Sample merger tree cut by 75%' )\n",
    "# ax.vlines(0,-33.5,-68, color='gray', linestyle='dashed')\n",
    "# ax.vlines(1.1,-33.5,-68, color='gray', linestyle='dashed')\n",
    "# ax.hlines(-33.5,0,1.1, color='gray', linestyle='dashed')\n",
    "# ax.hlines(-68,0,1.1, color='gray', linestyle='dashed', label='75% cut')\n",
    "# ax.legend(loc='lower left')\n",
    "# if G.number_of_nodes()<2000:\n",
    "#     print('drawing')\n",
    "#     nx.draw(G, labels=labels, pos=pos,ax=ax, node_size=8, arrowsize=5, cmap=cmap)\n",
    "fig.savefig('../paper_figures/small_tree_with_cutout.png')"
   ]
  },
  {
   "cell_type": "code",
   "execution_count": null,
   "id": "b6fb9bbe",
   "metadata": {},
   "outputs": [],
   "source": []
  }
 ],
 "metadata": {
  "kernelspec": {
   "display_name": "Python 3 (ipykernel)",
   "language": "python",
   "name": "python3"
  },
  "language_info": {
   "codemirror_mode": {
    "name": "ipython",
    "version": 3
   },
   "file_extension": ".py",
   "mimetype": "text/x-python",
   "name": "python",
   "nbconvert_exporter": "python",
   "pygments_lexer": "ipython3",
   "version": "3.9.7"
  }
 },
 "nbformat": 4,
 "nbformat_minor": 5
}
