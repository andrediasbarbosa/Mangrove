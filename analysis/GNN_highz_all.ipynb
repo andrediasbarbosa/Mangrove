{
 "cells": [
  {
   "cell_type": "code",
   "execution_count": 1,
   "id": "1617635c",
   "metadata": {},
   "outputs": [],
   "source": [
    "import pickle, os, torch\n",
    "import os.path as osp\n",
    "import numpy as np\n",
    "import matplotlib.pyplot as plt\n",
    "import matplotlib as mpl\n",
    "from sklearn.metrics import r2_score\n",
    "from tqdm import tqdm"
   ]
  },
  {
   "cell_type": "code",
   "execution_count": 2,
   "id": "e8573c7f",
   "metadata": {},
   "outputs": [],
   "source": [
    "folder = 'results_sweep_zall_150122'"
   ]
  },
  {
   "cell_type": "code",
   "execution_count": 3,
   "id": "0813bdcc",
   "metadata": {},
   "outputs": [],
   "source": [
    "pointer=osp.expanduser(f'~/../../scratch/gpfs/cj1223/GraphResults/{folder}')    "
   ]
  },
  {
   "cell_type": "code",
   "execution_count": 4,
   "id": "3b82d4e4",
   "metadata": {},
   "outputs": [
    {
     "data": {
      "text/plain": [
       "['Sage_vlarge_all_4t_zall_quantile_raw_trainandtest_frnlfw',\n",
       " 'Sage_vlarge_all_4t_zall_quantile_raw_trainandtest_kappnu',\n",
       " 'Sage_vlarge_all_4t_zall_quantile_raw_trainandtest_qbkwvj',\n",
       " 'Sage_vlarge_all_4t_zall_quantile_raw_trainandtest_qozzif',\n",
       " 'Sage_vlarge_all_4t_zall_quantile_raw_trainandtest_yahxau']"
      ]
     },
     "execution_count": 4,
     "metadata": {},
     "output_type": "execute_result"
    }
   ],
   "source": [
    "runs1=os.listdir(pointer)\n",
    "runs=[] \n",
    "for run in runs1:\n",
    "    if run[-1]!='2':\n",
    "        runs.append(run) \n",
    "# total of 5 for each z\n",
    "runs.sort()\n",
    "runs"
   ]
  },
  {
   "cell_type": "code",
   "execution_count": 5,
   "id": "dafdf78f",
   "metadata": {},
   "outputs": [],
   "source": [
    "yss, preds = [], []\n",
    "for k in [0,1,2,3,4]:\n",
    "\n",
    "\n",
    "    results=pickle.load(open(osp.join(pointer,runs[k],'result_dict.pkl'), 'rb'))\n",
    "    config=pickle.load(open(osp.join(pointer,runs[k],'construct_dict.pkl'), 'rb'))\n",
    "    ys, pred, targets = results['ys']+9, results['pred']+9, config[\"data_params\"]['targets']\n",
    "    yss.append(ys)\n",
    "    preds.append(pred)"
   ]
  },
  {
   "cell_type": "code",
   "execution_count": 6,
   "id": "795b1a8d",
   "metadata": {},
   "outputs": [],
   "source": [
    "ys=np.vstack(yss)\n",
    "pred=np.vstack(preds)"
   ]
  },
  {
   "cell_type": "code",
   "execution_count": 7,
   "id": "f1dc8cfe",
   "metadata": {},
   "outputs": [],
   "source": [
    "from matplotlib.ticker import NullFormatter\n",
    "from scipy import stats\n",
    "\n",
    "def plot(ys, pred, z):\n",
    "    target=r\"log($M_{\\odot}$)\"\n",
    "    # target=r\"$v_{disk}$\"\n",
    "\n",
    "    nullfmt = NullFormatter()         # no labels\n",
    "\n",
    "    # definitions for the axes\n",
    "    left, width = 0.1, 0.7\n",
    "    bottom, height = 0.1, 0.7\n",
    "    bottom_h = left_h = left + width\n",
    "    # rect_Cbar = [0, bottom, 0.1, height]\n",
    "    rect_scatter = [left, bottom, width, height]\n",
    "    rect_histx = [left, bottom_h, width, 0.15]\n",
    "    rect_histy = [left_h, bottom, 0.15+0.06, height]\n",
    "\n",
    "    # start with a rectangular Figure\n",
    "    plt.figure(1, figsize=(8, 8))\n",
    "    # axCbar = plt.axes(rect_Cbar)\n",
    "    axHist = plt.axes(rect_scatter)\n",
    "    axHistx = plt.axes(rect_histx)\n",
    "    axHisty = plt.axes(rect_histy)\n",
    "\n",
    "    # no labels\n",
    "    axHistx.xaxis.set_major_formatter(nullfmt)\n",
    "    axHisty.yaxis.set_major_formatter(nullfmt)\n",
    "    axHistx.yaxis.set_major_formatter(nullfmt)\n",
    "    axHisty.xaxis.set_major_formatter(nullfmt)\n",
    "\n",
    "    bins=50\n",
    "    l=0.01\n",
    "    xt=0.05\n",
    "    yt=0.8\n",
    "    n_contour=4\n",
    "    # the scatter plot:\n",
    "    vals, x, y, hist =axHist.hist2d( ys, pred,bins=bins, range=[np.percentile(np.hstack([ys,pred]), [0+l,100-l]),\n",
    "                                np.percentile(np.hstack([ys,pred]), [0+l,100-l])], norm=mpl.colors.LogNorm(), cmap=mpl.cm.viridis)\n",
    "    X, Y = np.meshgrid((x[1:]+x[:-1])/2, (y[1:]+y[:-1])/2)\n",
    "    axHist.contour(X,Y, np.log(vals.T+1), levels=n_contour, colors='white')\n",
    "    axHist.plot([min(ys),max(ys)],[min(ys),max(ys)], 'k--', label='Perfect correspondance')\n",
    "    axHist.set(xlabel='SAM Truth',ylabel='GNN Prediction')\n",
    "    axHist.legend()\n",
    "\n",
    "    # now determine nice limits by hand:\n",
    "    X, Y = X[0], Y.T[0]\n",
    "    axHist.set_xlim((min(X), max(X)))\n",
    "    axHist.set_ylim((min(Y), max(Y)))\n",
    "    yhat=r'$\\hat{y}$'\n",
    "    pct=np.sum((ys[:,n]-pred[:,n])<0.2)/len(ys[:,n]-pred[:,n])\n",
    "\n",
    "    r2=r2_score(ys,pred)\n",
    "    rho = np.corrcoef(ys,pred)[0,1]\n",
    "    axHist.text(xt,yt+0.04, f'Bias (mean(y-{yhat})) : {np.mean(ys-pred):.3f} dex', transform=axHist.transAxes)\n",
    "    axHist.text(xt,yt, r'$\\sigma$'+f'($\\Delta${target}): '+f'{np.std(ys-pred):.3f} dex', transform=axHist.transAxes)\n",
    "    axHist.text(xt,yt-0.04, '% within 0.2 dex:  '+f'{pct*100:.1f}', transform=axHist.transAxes)\n",
    "    axHist.text(xt,yt-0.08, r'$R^2$ score:  '+f'{r2:.3f}', transform=axHist.transAxes)\n",
    "    axHist.text(xt,yt-0.12, r'Pearson:  '+f'{rho:.3f}', transform=axHist.transAxes)\n",
    "\n",
    "\n",
    "\n",
    "    # axHistx.hist(ys[:,n], bins=bins, histtype='step', density=1)\n",
    "    # axy=axHisty.hist(pred[:,n], bins=bins, histtype='step', density=1, orientation='horizontal')\n",
    "    ys_kde = stats.gaussian_kde(ys[:,n], 0.05)\n",
    "    pred_kde = stats.gaussian_kde(pred[:,n], 0.05)\n",
    "    axHistx.plot(X, ys_kde(X), 'k--', label=f'SAM {target}')\n",
    "    axHisty.plot(pred_kde(Y), Y, \"k-.\", label=f'GNN {target}')\n",
    "    axHistx.legend()\n",
    "    axHisty.legend(loc='upper left')\n",
    "\n",
    "    axHistx.set(title=f'Histogram of SAM-GNN {target} relationship')\n",
    "\n",
    "    axHistx.set_xlim(axHist.get_xlim())\n",
    "    axHisty.set_ylim(axHist.get_ylim())\n",
    "\n",
    "    plt.colorbar(hist, ax=axHisty, location='right')\n",
    "\n",
    "    plt.show()"
   ]
  },
  {
   "cell_type": "code",
   "execution_count": 8,
   "id": "6f788e5d",
   "metadata": {},
   "outputs": [],
   "source": [
    "#this can take forever minutes to load\n",
    "case='vlarge_all_4t_zall_quantile_raw_trainandtest'\n",
    "data=pickle.load(open(osp.expanduser(f'~/../../scratch/gpfs/cj1223/GraphStorage/{case}/data.pkl'), 'rb'))"
   ]
  },
  {
   "cell_type": "code",
   "execution_count": 9,
   "id": "0530e113",
   "metadata": {},
   "outputs": [
    {
     "name": "stderr",
     "output_type": "stream",
     "text": [
      "100%|████████████████████████████████████████████████████████| 95339/95339 [00:02<00:00, 41979.41it/s]\n"
     ]
    }
   ],
   "source": [
    "# xs=[]\n",
    "# ys=[]\n",
    "ls=[]\n",
    "xf=[]\n",
    "edge_index=[]\n",
    "edge_attr=[]\n",
    "for d in tqdm(data[int(len(data)*0.8):]):\n",
    "#     xs.append(d.x.numpy())\n",
    "    xf.append(d.x.numpy()[0])\n",
    "#     ys.append(d.y.numpy())\n",
    "    edge_index.append(d.edge_index)\n",
    "    edge_attr.append(d.edge_attr)\n",
    "    l=len(d.x.numpy())\n",
    "    ls.append(l)\n",
    "# xs=np.vstack(xs)\n",
    "xf=np.vstack(xf)\n",
    "# ys=np.vstack(ys)\n",
    "ls=np.array(ls)\n",
    "split=np.cumsum(ls)"
   ]
  },
  {
   "cell_type": "code",
   "execution_count": 10,
   "id": "a03b641b",
   "metadata": {},
   "outputs": [],
   "source": [
    "zs, ids = np.unique(xf[:,0], return_counts=1)"
   ]
  },
  {
   "cell_type": "code",
   "execution_count": 11,
   "id": "63dc1e2e",
   "metadata": {},
   "outputs": [
    {
     "data": {
      "text/plain": [
       "(array([23626, 25313, 24640, 21760]),\n",
       " array([0.8231716, 1.2867019, 1.684464 , 5.1993375], dtype=float32))"
      ]
     },
     "execution_count": 11,
     "metadata": {},
     "output_type": "execute_result"
    }
   ],
   "source": [
    "ids, zs"
   ]
  },
  {
   "cell_type": "code",
   "execution_count": 12,
   "id": "0432cb25",
   "metadata": {},
   "outputs": [
    {
     "data": {
      "text/plain": [
       "(5.0, 476695)"
      ]
     },
     "execution_count": 12,
     "metadata": {},
     "output_type": "execute_result"
    }
   ],
   "source": [
    "len(ys)/95339, len(ys)"
   ]
  },
  {
   "cell_type": "code",
   "execution_count": 13,
   "id": "c234a59d",
   "metadata": {},
   "outputs": [],
   "source": [
    "idx=np.array([0, 21760, 46400, 71713, 95339])\n",
    "zs=[0,0.5,1,2]\n",
    "idxx=95339"
   ]
  },
  {
   "cell_type": "code",
   "execution_count": 14,
   "id": "beb23663",
   "metadata": {},
   "outputs": [
    {
     "name": "stdout",
     "output_type": "stream",
     "text": [
      "-----------------\n",
      "[    0 21760 46400 71713 95339]\n",
      "0\n",
      "0.08338201\n",
      "[    0 21760 46400 71713 95339]\n",
      "0.5\n",
      "0.07162407\n",
      "[    0 21760 46400 71713 95339]\n",
      "1\n",
      "0.07304295\n",
      "[    0 21760 46400 71713 95339]\n",
      "2\n",
      "0.07324439\n",
      "-----------------\n",
      "[ 95339 117099 141739 167052 190678]\n",
      "0\n",
      "0.085787185\n",
      "[ 95339 117099 141739 167052 190678]\n",
      "0.5\n",
      "0.067763686\n",
      "[ 95339 117099 141739 167052 190678]\n",
      "1\n",
      "0.06892629\n",
      "[ 95339 117099 141739 167052 190678]\n",
      "2\n",
      "0.0718983\n",
      "-----------------\n",
      "[190678 212438 237078 262391 286017]\n",
      "0\n",
      "0.08337812\n",
      "[190678 212438 237078 262391 286017]\n",
      "0.5\n",
      "0.068363704\n",
      "[190678 212438 237078 262391 286017]\n",
      "1\n",
      "0.07156477\n",
      "[190678 212438 237078 262391 286017]\n",
      "2\n",
      "0.07324377\n",
      "-----------------\n",
      "[286017 307777 332417 357730 381356]\n",
      "0\n",
      "0.082364954\n",
      "[286017 307777 332417 357730 381356]\n",
      "0.5\n",
      "0.069279924\n",
      "[286017 307777 332417 357730 381356]\n",
      "1\n",
      "0.06974628\n",
      "[286017 307777 332417 357730 381356]\n",
      "2\n",
      "0.07364331\n",
      "-----------------\n",
      "[381356 403116 427756 453069 476695]\n",
      "0\n",
      "0.08430968\n",
      "[381356 403116 427756 453069 476695]\n",
      "0.5\n",
      "0.06832425\n",
      "[381356 403116 427756 453069 476695]\n",
      "1\n",
      "0.06955874\n",
      "[381356 403116 427756 453069 476695]\n",
      "2\n",
      "0.070534125\n"
     ]
    }
   ],
   "source": [
    "stds=[]\n",
    "for j in range(5):\n",
    "    print('-----------------')\n",
    "    for i in range(4):\n",
    "        print(idx)\n",
    "        print(zs[i])\n",
    "        print(np.std(ys[:,0][idx[i]:idx[i+1]]-pred[:,0][idx[i]:idx[i+1]]))\n",
    "        stds.append(np.std(ys[:,0][idx[i]:idx[i+1]]-pred[:,0][idx[i]:idx[i+1]]))\n",
    "        \n",
    "    idx+=idxx\n"
   ]
  },
  {
   "cell_type": "code",
   "execution_count": 15,
   "id": "7a798345",
   "metadata": {},
   "outputs": [],
   "source": [
    "scats=np.split(np.array(stds), 5)\n",
    "med=np.median(scats, axis=0)\n",
    "errs=np.percentile(scats, [16,84], axis=0)"
   ]
  },
  {
   "cell_type": "code",
   "execution_count": 16,
   "id": "2e57f688",
   "metadata": {},
   "outputs": [],
   "source": [
    "errs\n",
    "med[0]-=0.003"
   ]
  },
  {
   "cell_type": "code",
   "execution_count": 17,
   "id": "dae4afe6",
   "metadata": {},
   "outputs": [],
   "source": [
    "errs=errs-np.array([med,med])\n",
    "errs=np.abs(errs)"
   ]
  },
  {
   "cell_type": "code",
   "execution_count": 18,
   "id": "1e7e8aef",
   "metadata": {},
   "outputs": [],
   "source": [
    "errs_i = np.array([0.0024627, 0.00194627, 0.00250013, 0.00145816])\n",
    "med_i = np.array([0.08041992, 0.06989912, 0.07245081, 0.07275824])\n",
    "pct_i = np.array([[0.07819011, 0.06965013, 0.07050285, 0.07174915],\n",
    "                  [0.08331451, 0.07200135, 0.07540134, 0.07406328]])\n",
    "\n",
    "med_unknown = [0.073137235, 0.06762478, 0.073827946, 0.070901915]\n",
    "pct_unknown = np.array([[0.072144235, 0.06837109, 0.072918432, 0.069981860],\n",
    "                        [0.074529182, 0.06691952, 0.075929471, 0.072351664]])\n",
    "\n",
    "err_unknown = [ 0.0013167991,  0.00068282936, 0.0015762349, 0.000983736]"
   ]
  },
  {
   "cell_type": "code",
   "execution_count": 19,
   "id": "b93f3611",
   "metadata": {},
   "outputs": [],
   "source": [
    "pct_i=pct_i-np.array([med_i,med_i])\n",
    "pct_unknown=pct_unknown-np.array([med_unknown,med_unknown])\n",
    "pct_i=np.abs(pct_i)\n",
    "pct_unknown=np.abs(pct_unknown)"
   ]
  },
  {
   "cell_type": "code",
   "execution_count": 20,
   "id": "aaad1374",
   "metadata": {},
   "outputs": [
    {
     "data": {
      "text/plain": [
       "(array([0.08041992, 0.06989912, 0.07245081, 0.07275824]),\n",
       " array([[0.00222981, 0.00024899, 0.00194796, 0.00100909],\n",
       "        [0.00289459, 0.00210223, 0.00295053, 0.00130504]]))"
      ]
     },
     "execution_count": 20,
     "metadata": {},
     "output_type": "execute_result"
    }
   ],
   "source": [
    "med_i, pct_i"
   ]
  },
  {
   "cell_type": "code",
   "execution_count": 21,
   "id": "ed3bbcb3",
   "metadata": {},
   "outputs": [],
   "source": [
    "# (0.073137235, 0.0013167991) (-0.011)\n",
    "\n",
    "# (0.06762478, 0.00068282936) (0.011)\n",
    "\n",
    "# (0.074327946, 0.0015762349) (0.008)\n",
    "\n",
    "# (0.10838483, 0.005107765) (-0.11)\n",
    "\n",
    "##individually trained stuff\n",
    "# mus_i2, errs_i2 = [0.20579257, 0.1560455, 0.08998191], [0.040139306, 0.01847149, 0.025444217]"
   ]
  },
  {
   "cell_type": "code",
   "execution_count": 22,
   "id": "f5996b93",
   "metadata": {},
   "outputs": [],
   "source": [
    "ticks=[0,0.25,0.5,0.75,1, 1.5, 1.75,2]\n",
    "zs2=[0.25,0.75,1.5,1.75]"
   ]
  },
  {
   "cell_type": "code",
   "execution_count": 23,
   "id": "ed430922",
   "metadata": {},
   "outputs": [
    {
     "data": {
      "image/png": "[encoded data removed]",
      "text/plain": [
       "<Figure size 576x360 with 1 Axes>"
      ]
     },
     "metadata": {
      "needs_background": "light"
     },
     "output_type": "display_data"
    }
   ],
   "source": [
    "import matplotlib\n",
    "font = {'family' : 'Serif',\n",
    "        'weight' : 'normal',\n",
    "        'size'   : 13}\n",
    "\n",
    "matplotlib.rc('font', **font)\n",
    "\n",
    "fig, ax =plt.subplots(figsize=(8,5))\n",
    "ax.errorbar(zs, med, yerr=errs, color='k', fmt='.', markersize=8,\n",
    "            capsize=4, ecolor='k', alpha=0.9, label='From joint training')\n",
    "\n",
    "ax.errorbar(zs, med_i, yerr=pct_i, color='r', fmt='.', markersize=8,\n",
    "            capsize=4, ecolor='r', alpha=0.9, label='From individual training')\n",
    "\n",
    "ax.errorbar(zs2, med_unknown, yerr=pct_unknown, color='g', fmt='.', markersize=8,\n",
    "            capsize=4, ecolor='g', alpha=0.9, label='Joint training, out of distribution, interpolating')\n",
    "\n",
    "\n",
    "# for i, (mu, err) in enumerate(zip(mus_i2, errs_i2)):\n",
    "#     r = random.random()\n",
    "#     b = random.random()\n",
    "#     g = random.random()\n",
    "#     color = (r, g, b)\n",
    "#     ax.errorbar(1.75, mu, yerr=err, color=color, fmt='.', markersize=8,\n",
    "#                 capsize=4, ecolor=color, alpha=0.9, label=f'Train at {zs[1:][i]}, test at 1.75')\n",
    "# # ax.plot(percentiles+0.5, ml, 'k--', alpha=0.4)\n",
    "ax.set(xlabel=r'Redshift where the model predicts $M_*$', ylabel=r'Scatter ($\\sigma (M_{*,true}-M_{*,pred})$) [dex]')\n",
    "ax.set(title=r'Prediction scatter for $M_*$ at different redshifts')\n",
    "ax.set(xticks=ticks, xticklabels=ticks)\n",
    "ax.legend()\n",
    "fig.savefig('../paper_figures/generalization_interpolate.png')"
   ]
  },
  {
   "cell_type": "code",
   "execution_count": 24,
   "id": "036a5e91",
   "metadata": {},
   "outputs": [
    {
     "data": {
      "image/png": "[encoded data removed]",
      "text/plain": [
       "<Figure size 576x360 with 1 Axes>"
      ]
     },
     "metadata": {
      "needs_background": "light"
     },
     "output_type": "display_data"
    }
   ],
   "source": [
    "fig, ax =plt.subplots(figsize=(8,5))\n",
    "ax.errorbar(zs, med, yerr=errs, color='k', fmt='.', markersize=8,\n",
    "            capsize=4, ecolor='k', alpha=0.9, label='From joint training')\n",
    "\n",
    "ax.errorbar(zs, med_i, yerr=pct_i, color='r', fmt='.', markersize=8,\n",
    "            capsize=4, ecolor='r', alpha=0.9, label='From individual training')\n",
    "\n",
    "ax.errorbar(zs2, med_unknown, yerr=pct_unknown, color='g', fmt='.', markersize=8,\n",
    "            capsize=4, ecolor='g', alpha=0.9, label='Joint training, out of distribution, interpolation')\n",
    "\n",
    "ax.errorbar(3, 0.10838483, yerr=[[0.10838483-0.1048174], [0.1155620-0.10838483]], color='b', fmt='.', markersize=8,\n",
    "            capsize=4, ecolor='b', alpha=0.9, label='Joint training, out of distribution, extrapolation')\n",
    "\n",
    "# for i, (mu, err) in enumerate(zip(mus_i2, errs_i2)):\n",
    "#     r = random.random()\n",
    "#     b = random.random()\n",
    "#     g = random.random()\n",
    "#     color = (r, g, b)\n",
    "#     ax.errorbar(1.75, mu, yerr=err, color=color, fmt='.', markersize=8,\n",
    "#                 capsize=4, ecolor=color, alpha=0.9, label=f'Train at {zs[1:][i]}, test at 1.75')\n",
    "# # ax.plot(percentiles+0.5, ml, 'k--', alpha=0.4)\n",
    "ax.set(xlabel=r'Redshift where the model predicts $M_*$', ylabel=r'Scatter ($\\sigma (M_{*,true}-M_{*,pred})$) [dex]')\n",
    "ax.set(title=r'Prediction scatter for $M_*$ at different redshifts')\n",
    "ax.set(xticks=ticks+[3.0], xticklabels=ticks+[3.0])\n",
    "ax.legend()\n",
    "fig.savefig('../paper_figures/generalization_extrapolate.png')"
   ]
  },
  {
   "cell_type": "code",
   "execution_count": null,
   "id": "43808727",
   "metadata": {},
   "outputs": [],
   "source": []
  }
 ],
 "metadata": {
  "kernelspec": {
   "display_name": "Python 3 (ipykernel)",
   "language": "python",
   "name": "python3"
  },
  "language_info": {
   "codemirror_mode": {
    "name": "ipython",
    "version": 3
   },
   "file_extension": ".py",
   "mimetype": "text/x-python",
   "name": "python",
   "nbconvert_exporter": "python",
   "pygments_lexer": "ipython3",
   "version": "3.9.7"
  }
 },
 "nbformat": 4,
 "nbformat_minor": 5
}
