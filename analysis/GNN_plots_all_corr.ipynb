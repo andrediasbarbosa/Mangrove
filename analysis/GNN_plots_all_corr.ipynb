{
 "cells": [
  {
   "cell_type": "code",
   "execution_count": null,
   "id": "1617635c",
   "metadata": {},
   "outputs": [],
   "source": [
    "import pickle, os, torch\n",
    "import os.path as osp\n",
    "import numpy as np\n",
    "import matplotlib.pyplot as plt\n",
    "import matplotlib as mpl\n",
    "from sklearn.metrics import r2_score\n",
    "from mpl_toolkits.axes_grid1 import make_axes_locatable"
   ]
  },
  {
   "cell_type": "code",
   "execution_count": null,
   "id": "e252da8b",
   "metadata": {},
   "outputs": [],
   "source": [
    "from matplotlib.ticker import NullFormatter\n",
    "from scipy import stats\n",
    "from matplotlib.ticker import NullFormatter\n",
    "from scipy import stats\n",
    "\n",
    "def multi_plot(yss, preds):\n",
    "    fig, ax = plt.subplots(1, 3, figsize=(18, 5))\n",
    "    ax = ax.flatten()\n",
    "#     target=r\"log($SFR/M_{\\odot}/yr$)\"\n",
    "    targets=[r\"$log(v_{disk})$\", r\"log($M_{cold}/M_{\\odot}$)\", r\"log($SFR/M_{\\odot}/yr$)\"]\n",
    "    # target=r\"$v_{disk}$\"\n",
    "    for i in range(3):\n",
    "        target=targets[i]\n",
    "        ys = yss[:,i]\n",
    "        pred = preds[:,i]\n",
    "        nullfmt = NullFormatter()         # no labels\n",
    "        # definitions for the axes\n",
    "        left, width = 0.15, 0.67\n",
    "        bottom, height = 0.0, 0.75\n",
    "        bottom_h = bottom +height\n",
    "        left_h = left + width\n",
    "        # rect_Cbar = [0, bottom, 0.1, height]\n",
    "        rect_scatter = [left, bottom, width, height]\n",
    "        rect_histx = [left, bottom_h, width, 0.15]\n",
    "        rect_histy = [left_h, bottom, 0.15+0.12, height]\n",
    "#             rect_cbar = [left_h+0.15+0.06, bottom, 0.05, height]\n",
    "\n",
    "        # start with a rectangular Figure\n",
    "        ax[i].set_axis_off()\n",
    "        # axCbar = plt.axes(rect_Cbar)\n",
    "        axHist = ax[i].inset_axes(rect_scatter)\n",
    "        axHistx = ax[i].inset_axes(rect_histx)\n",
    "        axHisty = ax[i].inset_axes(rect_histy)\n",
    "#             axCbar = ax[i][j].inset_axes(rect_cbar)\n",
    "\n",
    "        # no labels\n",
    "        axHistx.xaxis.set_major_formatter(nullfmt)\n",
    "        axHisty.yaxis.set_major_formatter(nullfmt)\n",
    "        axHistx.yaxis.set_major_formatter(nullfmt)\n",
    "        axHisty.xaxis.set_major_formatter(nullfmt)\n",
    "\n",
    "        bins=50\n",
    "        l=0.0\n",
    "        n_contour=4\n",
    "        # the scatter plot:\n",
    "        vals, x, y, hist =axHist.hist2d( ys, pred,bins=bins, range=[np.percentile(np.hstack([ys,pred]), [0+l,100-l]),\n",
    "                                    np.percentile(np.hstack([ys,pred]), [0+l,100-l])], norm=mpl.colors.LogNorm(), cmap=mpl.cm.viridis)\n",
    "        X, Y = np.meshgrid((x[1:]+x[:-1])/2, (y[1:]+y[:-1])/2)\n",
    "        axHist.contour(X,Y, np.log(vals.T+1), levels=n_contour, colors='white')\n",
    "        axHist.plot([min(ys),max(ys)],[min(ys),max(ys)], 'k--', label='Perfect correspondance')\n",
    "        axHist.set(xlabel=f'SAM {target}',ylabel=f'GNN {target}')\n",
    "        axHist.xaxis.label.set_fontsize(13)\n",
    "        axHist.yaxis.label.set_fontsize(13)\n",
    "        \n",
    "        if i==0:\n",
    "            axHist.legend()\n",
    "\n",
    "        X, Y = X[0], Y.T[0]\n",
    "        axHist.set_xlim((min(X), max(X)))\n",
    "        axHist.set_ylim((min(Y), max(Y)))\n",
    "        yhat=r'$\\hat{y}$'\n",
    "\n",
    "        #calculate metrics\n",
    "        pct=np.sum(np.abs(ys-pred)<0.2)/len(ys-pred)    \n",
    "        r2=r2_score(ys,pred)\n",
    "        rho = np.corrcoef(ys,pred)[0,1]\n",
    "        print('bias', np.mean(ys-pred))\n",
    "        print('std', np.std(ys-pred))\n",
    "        print('rho', rho)\n",
    "        print('r2', r2)\n",
    "        print('pct',pct)\n",
    "        \n",
    "        xt=0.45\n",
    "        yt=0.2\n",
    "        dy=0.07\n",
    "        font = {'weight': 'normal',\n",
    "            'size': 13}\n",
    "\n",
    "        axHist.text(xt,yt, f'Bias : {np.mean(ys-pred):.2f} dex', fontdict=font, transform=axHist.transAxes)\n",
    "        axHist.text(xt,yt-dy, r'$\\sigma$ : '+f'{np.std(ys-pred):.3f} dex', fontdict=font, transform=axHist.transAxes)\n",
    "        axHist.text(xt,yt-2*dy, r'Pearson:  '+f'{rho:.2f}', fontdict=font, transform=axHist.transAxes)\n",
    "#             axHist.text(xt,yt-3*dy, r'$R^2$:  '+f'{r2:.3f}', fontdict=font, transform=axHist.transAxes)\n",
    "\n",
    "#             axHist.text(xt,yt-4*dy, '% < 0.2 dex:  '+f'{pct*100:.1f}', fontdict=font, transform=axHist.transAxes)\n",
    "\n",
    "\n",
    "        # axHistx.hist(ys[:,n], bins=bins, histtype='step', density=1)\n",
    "        # axy=axHisty.hist(pred[:,n], bins=bins, histtype='step', density=1, orientation='horizontal')\n",
    "        ys_kde = stats.gaussian_kde(ys, 0.1)\n",
    "        pred_kde = stats.gaussian_kde(pred, 0.1)\n",
    "        axHistx.plot(X, ys_kde(X), 'k--', label=f'SAM')\n",
    "        axHisty.plot(pred_kde(Y), Y, \"k-.\", label=f'GNN')\n",
    "        axHistx.legend()\n",
    "        axHisty.legend(loc='upper left')\n",
    "\n",
    "        axHistx.set(title=f'SAM-GNN {target} relationship')\n",
    "\n",
    "        axHistx.set_xlim(axHist.get_xlim())\n",
    "        axHisty.set_ylim(axHist.get_ylim())\n",
    "\n",
    "        divider = make_axes_locatable(axHisty)\n",
    "        cax = divider.append_axes(\"right\", size=\"15%\", pad=0.18)\n",
    "        divider = make_axes_locatable(axHist)\n",
    "#             cax = divider.append_axes(\"left\", size=\"15%\", pad=0.18)\n",
    "\n",
    "        # Plot vertical colorbar\n",
    "        plt.colorbar(hist, cax=cax)\n",
    "#             plt.show()\n",
    "#             plt.colorbar(hist, ax=axCbar)\n",
    "\n",
    "#             plt.show()\n",
    "#     fig.tight_layout()\n",
    "#     plt.subplots_adjust(left=None, bottom=None, right=None, top=None, wspace=0.1, hspace=None)\n",
    "    return fig"
   ]
  },
  {
   "cell_type": "code",
   "execution_count": 60,
   "id": "22a954f4",
   "metadata": {},
   "outputs": [],
   "source": [
    "# this is the correlated run\n",
    "folder = 'results_final_Gauss4d_020222'\n",
    "run='Sage_vlarge_all_4t_z0.0_quantile_raw_dszkxp_3_6'\n",
    "pointer=osp.expanduser(f'~/../../scratch/gpfs/cj1223/GraphResults/{folder}/{run}')    \n",
    "results=pickle.load(open(osp.join(pointer,'result_dict.pkl'), 'rb'))\n",
    "config=pickle.load(open(osp.join(pointer,'construct_dict.pkl'), 'rb'))\n",
    "ys, pred = results['low_ys'], results['low_pred']\n",
    "# mstar_ys, mstar_pred = ys[:,0], pred[:,0]\n",
    "mcold_ys, mcold_pred = ys[:,2]+9, pred[:,2]+9"
   ]
  },
  {
   "cell_type": "code",
   "execution_count": 61,
   "id": "1ab26a9d",
   "metadata": {},
   "outputs": [],
   "source": [
    "# this is the correlated run\n",
    "folder = 'results_final_Gauss4d_310122'\n",
    "run='Sage_vlarge_all_4t_z0.0_quantile_raw_seqqhl_5_6'\n",
    "pointer=osp.expanduser(f'~/../../scratch/gpfs/cj1223/GraphResults/{folder}/{run}')    \n",
    "results=pickle.load(open(osp.join(pointer,'result_dict.pkl'), 'rb'))\n",
    "config=pickle.load(open(osp.join(pointer,'construct_dict.pkl'), 'rb'))\n",
    "ys, pred = results['low_ys'], results['low_pred']\n",
    "# mstar_ys, mstar_pred = ys[:,0], pred[:,0]\n",
    "vdisk_ys, vdisk_pred = ys[:,1], pred[:,1]\n",
    "sfr_ys, sfr_pred = ys[:,3], pred[:,3]"
   ]
  },
  {
   "cell_type": "code",
   "execution_count": 62,
   "id": "056562cf",
   "metadata": {},
   "outputs": [],
   "source": [
    "ys = np.vstack([ vdisk_ys, mcold_ys, sfr_ys]).T\n",
    "pred = np.vstack([vdisk_pred, mcold_pred, sfr_pred]).T"
   ]
  },
  {
   "cell_type": "code",
   "execution_count": null,
   "id": "7ec3e016",
   "metadata": {
    "scrolled": false
   },
   "outputs": [],
   "source": [
    "import matplotlib\n",
    "font = {'family' : 'Serif',\n",
    "        'weight' : 'normal',\n",
    "        'size'   : 13}\n",
    "\n",
    "matplotlib.rc('font', **font)\n",
    "fig=multi_plot(ys, pred)"
   ]
  },
  {
   "cell_type": "code",
   "execution_count": 66,
   "id": "a68a62e8",
   "metadata": {},
   "outputs": [
    {
     "data": {
      "text/plain": [
       "[<matplotlib.lines.Line2D at 0x2b120e320a60>]"
      ]
     },
     "execution_count": 66,
     "metadata": {},
     "output_type": "execute_result"
    },
    {
     "data": {
      "image/png": "[encoded data removed]",
      "text/plain": [
       "<Figure size 432x288 with 1 Axes>"
      ]
     },
     "metadata": {
      "needs_background": "light"
     },
     "output_type": "display_data"
    }
   ],
   "source": [
    "plt.plot(ys[:,1]-pred[:,1],ys[:,2]-pred[:,2], 'ro')"
   ]
  },
  {
   "cell_type": "code",
   "execution_count": 72,
   "id": "8a3b537f",
   "metadata": {},
   "outputs": [
    {
     "data": {
      "text/plain": [
       "array([[1.        , 0.29083027, 0.53580431],\n",
       "       [0.29083027, 1.        , 0.64774025],\n",
       "       [0.53580431, 0.64774025, 1.        ]])"
      ]
     },
     "execution_count": 72,
     "metadata": {},
     "output_type": "execute_result"
    }
   ],
   "source": [
    "np.corrcoef([ys[:,1]-pred[:,1],ys[:,2]-pred[:,2]])\n",
    "res=ys-pred\n",
    "np.corrcoef(res.T)"
   ]
  },
  {
   "cell_type": "code",
   "execution_count": 73,
   "id": "ab33af64",
   "metadata": {},
   "outputs": [],
   "source": [
    "fig.savefig('../paper_figures/performance_others.png')"
   ]
  }
 ],
 "metadata": {
  "kernelspec": {
   "display_name": "Python 3 (ipykernel)",
   "language": "python",
   "name": "python3"
  },
  "language_info": {
   "codemirror_mode": {
    "name": "ipython",
    "version": 3
   },
   "file_extension": ".py",
   "mimetype": "text/x-python",
   "name": "python",
   "nbconvert_exporter": "python",
   "pygments_lexer": "ipython3",
   "version": "3.9.7"
  }
 },
 "nbformat": 4,
 "nbformat_minor": 5
}
