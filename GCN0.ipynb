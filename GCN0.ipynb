{
 "cells": [
  {
   "cell_type": "code",
   "execution_count": 40,
   "id": "b34bc22e",
   "metadata": {},
   "outputs": [],
   "source": [
    "import torch, pickle, time\n",
    "import numpy as np\n",
    "import matplotlib.pyplot as plt\n",
    "import torch_geometric as tg\n",
    "from torch_geometric.loader import DataLoader\n",
    "# if torch.cuda.is_available():\n",
    "#     from accelerate import Accelerator\n",
    "#     accelerator = Accelerator()\n",
    "#     device = accelerator.device\n",
    "case='medium_all_q'\n",
    "### accelerate huggingface to GPU"
   ]
  },
  {
   "cell_type": "code",
   "execution_count": 41,
   "id": "3f70e3c6",
   "metadata": {},
   "outputs": [],
   "source": [
    "# data=pickle.load(open(f\"data_len.pkl\", 'rb'))\n",
    "data=pickle.load(open(f'../../../../scratch/gpfs/cj1223/GraphStorage/{case}/data.pkl', 'rb'))\n",
    "# data=pickle.load(open(f\"data.dat\", 'rb'))"
   ]
  },
  {
   "cell_type": "code",
   "execution_count": 42,
   "id": "78e0a576",
   "metadata": {},
   "outputs": [
    {
     "data": {
      "text/plain": [
       "False"
      ]
     },
     "execution_count": 42,
     "metadata": {},
     "output_type": "execute_result"
    }
   ],
   "source": [
    "import torch.nn.functional as F\n",
    "from torch.nn import Linear, BatchNorm1d\n",
    "from torch_geometric.nn import GCNConv, global_mean_pool, norm, global_max_pool, global_add_pool\n",
    "\n",
    "\n",
    "class GCN(torch.nn.Module):\n",
    "    def __init__(self, hidden_channels, nlin=3):\n",
    "        super(GCN, self).__init__()\n",
    "        \n",
    "        self.conv1 = GCNConv(data[0].num_node_features, hidden_channels) ##use meta-layer\n",
    "        ## https://pytorch-geometric.readthedocs.io/en/latest/modules/nn.html#torch_geometric.nn.meta.MetaLayer\n",
    "        self.conv2 = GCNConv(hidden_channels, hidden_channels)\n",
    "        self.conv3 = GCNConv(hidden_channels, hidden_channels)\n",
    "        \n",
    "        # Our final linear layer will define our output\n",
    "        self.bn = BatchNorm1d(num_features=hidden_channels) # layer_norm instead\n",
    "        self.lin1 = Linear(hidden_channels, 1)\n",
    "        \n",
    "    def forward(self, x, edge_index, batch):\n",
    "        # 1. Obtain node embeddings \n",
    "        x = self.conv1(x, edge_index)\n",
    "        x = x.relu()\n",
    "        x = self.conv2(x, edge_index)\n",
    "        x = x.relu()\n",
    "#         x = self.conv3(x, edge_index)   \n",
    "\n",
    "          # 2. Readout layer\n",
    "#         x = global_max_pool(x, batch)  ## Miles says use sumpool\n",
    "#         x = global_mean_pool(x, batch)\n",
    "#         x=concat(x1,x2)\n",
    "        x = global_add_pool(x, batch)  ## Miles says use sumpool\n",
    "\n",
    "#         x = F.dropout(x, p=0.1, training=self.training)\n",
    "\n",
    "        x = self.lin1(self.bn(x))\n",
    "        return x\n",
    "    \n",
    "model = GCN(hidden_channels=32)\n",
    "next(model.parameters()).is_cuda ##check number one"
   ]
  },
  {
   "cell_type": "code",
   "execution_count": 43,
   "id": "d86c2310",
   "metadata": {},
   "outputs": [],
   "source": [
    "criterion = torch.nn.MSELoss()\n",
    "batch_size=64\n",
    "np.random.shuffle(data)\n",
    "test_data=data[int(len(data)*0.8):]\n",
    "train_data=data[:int(len(data)*0.8)]"
   ]
  },
  {
   "cell_type": "code",
   "execution_count": 44,
   "id": "154b04b1",
   "metadata": {},
   "outputs": [
    {
     "name": "stdout",
     "output_type": "stream",
     "text": [
      "Epoch: 010, Train Acc: 0.0965, Test Acc: 0.0989\n",
      "Epoch: 020, Train Acc: 0.0908, Test Acc: 0.0928\n",
      "Epoch: 030, Train Acc: 0.0950, Test Acc: 0.0964\n",
      "Epoch: 040, Train Acc: 0.0673, Test Acc: 0.0687\n",
      "Epoch: 050, Train Acc: 0.0647, Test Acc: 0.0665\n",
      "Epoch: 060, Train Acc: 0.0591, Test Acc: 0.0616\n",
      "Epoch: 070, Train Acc: 0.0659, Test Acc: 0.0683\n",
      "Epoch: 080, Train Acc: 0.0545, Test Acc: 0.0584\n",
      "Epoch: 090, Train Acc: 0.0538, Test Acc: 0.0587\n",
      "Epoch: 100, Train Acc: 0.0651, Test Acc: 0.0694\n",
      "855.1394448280334\n"
     ]
    }
   ],
   "source": [
    "train_loader=DataLoader(train_data, batch_size=batch_size, shuffle=1)\n",
    "test_loader=DataLoader(test_data, batch_size=batch_size, shuffle=1)    \n",
    "optimizer = torch.optim.Adam(model.parameters(), lr=0.003)\n",
    "# _, _, test_loader = accelerator.prepare(model, optimizer, train_loader)\n",
    "# model, optimizer, train_loader = accelerator.prepare(model, optimizer, train_loader)\n",
    "\n",
    "# Initialize our train function\n",
    "def train():\n",
    "    model.train()\n",
    " \n",
    "    for data in train_loader:  \n",
    "        out = model(data.x, data.edge_index, data.batch)  \n",
    "        loss = criterion(out, data.y.view(-1,1)) \n",
    "        loss.backward()\n",
    "#         accelerator.backward(loss)\n",
    "        optimizer.step() \n",
    "        optimizer.zero_grad() \n",
    " # test function\n",
    "def test(loader):\n",
    "    model.eval()\n",
    " \n",
    "    correct = 0\n",
    "    for dat in loader: \n",
    "        out = model(dat.x, dat.edge_index, dat.batch) \n",
    "#         print(out)\n",
    "        correct += (abs(out - dat.y.view(-1,1))).sum() \n",
    "    return correct / len(loader.dataset) \n",
    "tr_acc, te_acc=[],[]\n",
    "start=time.time()\n",
    "for epoch in range(100):\n",
    "    train()\n",
    "    \n",
    "    if (epoch+1)%10==0:\n",
    "        train_acc = test(train_loader)\n",
    "        test_acc = test(test_loader)\n",
    "        tr_acc.append(train_acc)\n",
    "        te_acc.append(test_acc)\n",
    "        print(f'Epoch: {epoch+1:03d}, Train Acc: {train_acc:.4f}, Test Acc: {test_acc:.4f}')\n",
    "stop=time.time()\n",
    "spent=stop-start\n",
    "print(spent)"
   ]
  },
  {
   "cell_type": "code",
   "execution_count": 45,
   "id": "b840398b",
   "metadata": {},
   "outputs": [],
   "source": [
    "ys, pred=[],[]\n",
    "def test(loader):\n",
    "    model.eval()\n",
    " \n",
    "    correct = 0\n",
    "    for dat in loader:  # Iterate in batches over the training/test dataset.\n",
    "        out = model(dat.x, dat.edge_index, dat.batch) \n",
    "#         print(out.view(1,-1).detach().numpy())\n",
    "        pred.append(out.view(1,-1).detach().numpy())\n",
    "        ys.append(np.array(dat.y)) # Check against ground-truth labels.\n",
    "#     return correct / len(loader.dataset)  # Derive ratio of correct predictions.\n",
    "test(test_loader)\n",
    "# test(train_loader)\n",
    "ys=np.hstack(ys)\n",
    "pred=np.hstack(pred)[0]"
   ]
  },
  {
   "cell_type": "code",
   "execution_count": 46,
   "id": "237ea4dd",
   "metadata": {},
   "outputs": [
    {
     "data": {
      "text/plain": [
       "<matplotlib.legend.Legend at 0x2afde4de60a0>"
      ]
     },
     "execution_count": 46,
     "metadata": {},
     "output_type": "execute_result"
    },
    {
     "data": {
      "image/png": "[encoded data removed]",
      "text/plain": [
       "<Figure size 432x288 with 1 Axes>"
      ]
     },
     "metadata": {
      "needs_background": "light"
     },
     "output_type": "display_data"
    }
   ],
   "source": [
    "plt.hist(ys, range=(-1.6,1.1), bins=10, alpha=0.8, label='True stellar mass')\n",
    "plt.hist(pred, range=(-1.6,1.1), bins=10, alpha=0.6, label='Predicted stellar mass')\n",
    "plt.hist(pred, bins=10, alpha=0.1, label='Predicted stellar mass')\n",
    "\n",
    "plt.vlines(np.mean(ys), 0,100, 'k')\n",
    "plt.legend()"
   ]
  },
  {
   "cell_type": "code",
   "execution_count": 47,
   "id": "be2fb326",
   "metadata": {},
   "outputs": [
    {
     "data": {
      "text/plain": [
       "[Text(0.5, 0, 'true'), Text(0, 0.5, 'predicted')]"
      ]
     },
     "execution_count": 47,
     "metadata": {},
     "output_type": "execute_result"
    },
    {
     "data": {
      "image/png": "[encoded data removed]",
      "text/plain": [
       "<Figure size 864x648 with 1 Axes>"
      ]
     },
     "metadata": {
      "needs_background": "light"
     },
     "output_type": "display_data"
    }
   ],
   "source": [
    "fig, ax =plt.subplots(figsize=(12,9))\n",
    "ax.plot(ys,pred, 'ro')\n",
    "ax.plot([-1.5,1],[-1.5,1], 'k--')\n",
    "ax.set(xlabel='true',ylabel='predicted')"
   ]
  },
  {
   "cell_type": "code",
   "execution_count": 48,
   "id": "8a8b7de3",
   "metadata": {},
   "outputs": [],
   "source": [
    "x,y=[], []\n",
    "for d in data:\n",
    "    x.append(d.x[0,2].numpy())\n",
    "    y.append(d.y.numpy())    "
   ]
  },
  {
   "cell_type": "code",
   "execution_count": 49,
   "id": "9d42c3d5",
   "metadata": {},
   "outputs": [
    {
     "data": {
      "text/plain": [
       "(array([7.546e+03, 4.068e+03, 2.473e+03, 1.220e+03, 7.920e+02, 4.380e+02,\n",
       "        2.220e+02, 1.890e+02, 5.700e+01, 4.600e+01, 5.000e+01, 1.400e+01,\n",
       "        8.000e+00, 2.000e+00, 1.000e+00, 0.000e+00, 0.000e+00, 2.000e+00,\n",
       "        0.000e+00, 8.000e+00]),\n",
       " array([1.1073781, 1.3119761, 1.516574 , 1.721172 , 1.92577  , 2.130368 ,\n",
       "        2.334966 , 2.539564 , 2.7441618, 2.9487598, 3.1533577, 3.3579557,\n",
       "        3.5625536, 3.7671516, 3.9717498, 4.1763477, 4.3809457, 4.5855436,\n",
       "        4.7901416, 4.9947395, 5.1993375], dtype=float32),\n",
       " <BarContainer object of 20 artists>)"
      ]
     },
     "execution_count": 49,
     "metadata": {},
     "output_type": "execute_result"
    },
    {
     "data": {
      "image/png": "[encoded data removed]",
      "text/plain": [
       "<Figure size 432x288 with 1 Axes>"
      ]
     },
     "metadata": {
      "needs_background": "light"
     },
     "output_type": "display_data"
    }
   ],
   "source": [
    "plt.hist(np.hstack(x), bins=20)"
   ]
  },
  {
   "cell_type": "code",
   "execution_count": 29,
   "id": "6e412224",
   "metadata": {},
   "outputs": [
    {
     "data": {
      "text/plain": [
       "[<matplotlib.lines.Line2D at 0x2b49a1a42ca0>]"
      ]
     },
     "execution_count": 29,
     "metadata": {},
     "output_type": "execute_result"
    },
    {
     "data": {
      "image/png": "[encoded data removed]",
      "text/plain": [
       "<Figure size 432x288 with 1 Axes>"
      ]
     },
     "metadata": {
      "needs_background": "light"
     },
     "output_type": "display_data"
    }
   ],
   "source": [
    "plt.plot(x, y, 'o', markersize=1)"
   ]
  },
  {
   "cell_type": "code",
   "execution_count": null,
   "id": "9fab1e39",
   "metadata": {},
   "outputs": [],
   "source": [
    "## remember to validate that test/val/train are actually comparable\n",
    "## create toy problem (predict variance of all halo masses eg, verifying that in takes into account edges)\n",
    "## same, predict average of the difference of post-merge halo and pre merger halos\n",
    "\n",
    "## try different pools"
   ]
  },
  {
   "cell_type": "code",
   "execution_count": 9,
   "id": "c0bcf25d",
   "metadata": {},
   "outputs": [],
   "source": [
    "import torch.nn.functional as F\n",
    "from torch.nn import Linear, BatchNorm1d\n",
    "from torch_geometric.nn import GCNConv, global_mean_pool, norm, global_max_pool, global_add_pool\n",
    "\n",
    "\n",
    "class GCN(torch.nn.Module):\n",
    "    def __init__(self, hidden_channels, nlin=3):\n",
    "        super(GCN, self).__init__()\n",
    "        \n",
    "        self.conv1 = GCNConv(data[0].num_node_features, hidden_channels) ##use meta-layer\n",
    "        ## https://pytorch-geometric.readthedocs.io/en/latest/modules/nn.html#torch_geometric.nn.meta.MetaLayer\n",
    "        self.conv2 = GCNConv(hidden_channels, hidden_channels*2)\n",
    "        self.conv3 = GCNConv(hidden_channels*2, hidden_channels*2)\n",
    "        # Our final linear layer will define our output\n",
    "#         self.bn = BatchNorm1d(num_features=hidden_channels) # layer_norm instead\n",
    "        self.lin1 = Linear(hidden_channels*2, hidden_channels)\n",
    "        self.lin2 = Linear(hidden_channels, hidden_channels//2)\n",
    "        self.lin3 = Linear(hidden_channels//2, 1)\n",
    "        \n",
    "    def forward(self, x, edge_index, batch):\n",
    "        # 1. Obtain node embeddings \n",
    "        x = self.conv1(x, edge_index)\n",
    "        x = x.relu()\n",
    "        x = self.conv2(x, edge_index)\n",
    "        x = x.relu()\n",
    "        x = self.conv3(x, edge_index)   \n",
    "\n",
    "          # 2. Readout layer\n",
    "#         x = global_max_pool(x, batch)  ## Miles says use sumpool\n",
    "#         x = global_mean_pool(x, batch)\n",
    "#         x=concat(x1,x2)\n",
    "        x = global_add_pool(x, batch)  ## Miles says use sumpool\n",
    "\n",
    "#         x = F.dropout(x, p=0.1, training=self.training)\n",
    "\n",
    "        x = self.lin1(x)\n",
    "        x = self.lin2(x)\n",
    "        x = self.lin3(x)\n",
    "\n",
    "        return x\n",
    "    \n",
    "# model = GCN(hidden_channels=32)"
   ]
  },
  {
   "cell_type": "code",
   "execution_count": null,
   "id": "49a1492e",
   "metadata": {},
   "outputs": [],
   "source": []
  }
 ],
 "metadata": {
  "kernelspec": {
   "display_name": "Python 3 (ipykernel)",
   "language": "python",
   "name": "python3"
  },
  "language_info": {
   "codemirror_mode": {
    "name": "ipython",
    "version": 3
   },
   "file_extension": ".py",
   "mimetype": "text/x-python",
   "name": "python",
   "nbconvert_exporter": "python",
   "pygments_lexer": "ipython3",
   "version": "3.9.7"
  }
 },
 "nbformat": 4,
 "nbformat_minor": 5
}
